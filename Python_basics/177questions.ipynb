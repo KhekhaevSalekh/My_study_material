{
 "cells": [
  {
   "cell_type": "markdown",
   "metadata": {},
   "source": [
    "### 1) Write a Python function to check whether a given number is prime or not.\n"
   ]
  },
  {
   "cell_type": "code",
   "execution_count": 5,
   "metadata": {},
   "outputs": [
    {
     "name": "stdout",
     "output_type": "stream",
     "text": [
      "True\n",
      "False\n"
     ]
    }
   ],
   "source": [
    "def is_prime(n):\n",
    "    if n < 2:\n",
    "        return False\n",
    "    for i in range(2, int(n**0.5) + 1):\n",
    "        if n % i == 0:\n",
    "            return False\n",
    "    return True\n",
    "# Example usage:\n",
    "print(is_prime(17)) # Output: True\n",
    "print(is_prime(4)) # Output: False"
   ]
  },
  {
   "cell_type": "markdown",
   "metadata": {},
   "source": [
    "### 2) Write a Python function to find the largest continuous sum in a given list of integers.\n"
   ]
  },
  {
   "cell_type": "code",
   "execution_count": 17,
   "metadata": {},
   "outputs": [
    {
     "data": {
      "text/plain": [
       "8"
      ]
     },
     "execution_count": 17,
     "metadata": {},
     "output_type": "execute_result"
    }
   ],
   "source": [
    "def largest_continuous_sum(numbers):\n",
    "    max_sum = current_sum = numbers[0]\n",
    "    for n in numbers[1:]:\n",
    "        current_sum = max(current_sum + n, n)\n",
    "        max_sum = max(max_sum, current_sum)\n",
    "    return max_sum\n",
    "\n",
    "largest_continuous_sum([1, -2, 3, 4, -1, 2, -6, 5])"
   ]
  },
  {
   "cell_type": "markdown",
   "metadata": {},
   "source": [
    "### 3) What is the difference between 'is' and '==' in Python?\n",
    "\n",
    "The 'is' operator in Python checks if two objects are the same\n",
    "object (i.e., they have the same memory address), whereas the\n",
    "'==' operator checks if two objects have the same value. "
   ]
  },
  {
   "cell_type": "markdown",
   "metadata": {},
   "source": [
    "### 4) What is the purpose of the 'enumerate' function in Python? Provide an example.\n",
    "\n",
    "The 'enumerate' function in Python is used to iterate over an\n",
    "iterable (such as a list) and return a tuple for each element that\n",
    "includes the index of the element and the element itself. \n"
   ]
  },
  {
   "cell_type": "code",
   "execution_count": 18,
   "metadata": {},
   "outputs": [
    {
     "name": "stdout",
     "output_type": "stream",
     "text": [
      "The index is: 0 and the value is 44\n",
      "The index is: 1 and the value is 33\n",
      "The index is: 2 and the value is 9\n"
     ]
    }
   ],
   "source": [
    "l = [44,33,9]\n",
    "for i,j in enumerate(l):\n",
    "    print(f'The index is: {i} and the value is {j}')"
   ]
  },
  {
   "cell_type": "code",
   "execution_count": 20,
   "metadata": {},
   "outputs": [
    {
     "name": "stdout",
     "output_type": "stream",
     "text": [
      "The index is: 0 and the value is a\n",
      "The index is: 1 and the value is b\n",
      "The index is: 2 and the value is c\n"
     ]
    }
   ],
   "source": [
    "d = {'a':44,'b':33, 'c':9}\n",
    "for i,j in enumerate(d):\n",
    "    print(f'The index is: {i} and the value is {j}')"
   ]
  },
  {
   "cell_type": "code",
   "execution_count": 21,
   "metadata": {},
   "outputs": [
    {
     "name": "stdout",
     "output_type": "stream",
     "text": [
      "The index is: 0 and the value is 55\n",
      "The index is: 1 and the value is 33\n",
      "The index is: 2 and the value is 11\n"
     ]
    }
   ],
   "source": [
    "s = (55,33,11)\n",
    "for i,j in enumerate(s):\n",
    "    print(f'The index is: {i} and the value is {j}')"
   ]
  },
  {
   "cell_type": "markdown",
   "metadata": {},
   "source": [
    "### 5) What is the purpose of the 'zip' function in Python? Provide an example.\n",
    "\n",
    "The 'zip' function in Python is used to combine multiple iterables\n",
    "(such as lists) into a single iterable that produces tuples of\n",
    "corresponding elements from each of the input iterables.\n"
   ]
  },
  {
   "cell_type": "code",
   "execution_count": 22,
   "metadata": {},
   "outputs": [
    {
     "name": "stdout",
     "output_type": "stream",
     "text": [
      "[(1, 'a'), (2, 'b'), (3, 'c')]\n"
     ]
    }
   ],
   "source": [
    "list1 = [1, 2, 3]\n",
    "list2 = ['a', 'b', 'c']\n",
    "\n",
    "combined_list = list(zip(list1, list2))\n",
    "\n",
    "print(combined_list) "
   ]
  },
  {
   "cell_type": "code",
   "execution_count": 23,
   "metadata": {},
   "outputs": [
    {
     "name": "stdout",
     "output_type": "stream",
     "text": [
      "[('a', 'a'), ('b', 'b'), ('c', 'c')]\n"
     ]
    }
   ],
   "source": [
    "list1 = {'a':11, 'b':22, 'c':33}\n",
    "list2 = {'a':44, 'b':55, 'c':66\n",
    "}\n",
    "combined_list = list(zip(list1, list2))\n",
    "\n",
    "print(combined_list) "
   ]
  },
  {
   "cell_type": "markdown",
   "metadata": {},
   "source": [
    "### 6) What is the purpose of the 'yield' keyword in Python? Provide an example.\n",
    "\n",
    "The 'yield' keyword is used in a function to define a generator that\n",
    "can be iterated over using a 'for' loop. When the 'yield' keyword is\n",
    "encountered in the function, the current state of the function is\n",
    "saved and the yielded value is returned to the caller. The next time\n",
    "the function is called, execution resumes from where it left off, with\n",
    "the saved state restored."
   ]
  },
  {
   "cell_type": "code",
   "execution_count": 24,
   "metadata": {},
   "outputs": [
    {
     "name": "stdout",
     "output_type": "stream",
     "text": [
      "0\n",
      "1\n",
      "4\n",
      "9\n",
      "16\n"
     ]
    }
   ],
   "source": [
    "def squares(n):\n",
    "    for i in range(n):\n",
    "        yield i**2\n",
    "        \n",
    "for square in squares(5):\n",
    "    print(square) "
   ]
  },
  {
   "cell_type": "markdown",
   "metadata": {},
   "source": [
    "### 7) What is the difference between a list comprehension and a generator expression in Python?\n",
    "\n"
   ]
  },
  {
   "cell_type": "code",
   "execution_count": 25,
   "metadata": {},
   "outputs": [
    {
     "name": "stdout",
     "output_type": "stream",
     "text": [
      "[1, 4, 9, 16, 25]\n",
      "1\n",
      "4\n",
      "9\n",
      "16\n",
      "25\n"
     ]
    }
   ],
   "source": [
    "numbers = [1, 2, 3, 4, 5]\n",
    "squared_numbers = [x**2 for x in numbers]\n",
    "print(squared_numbers) # Output: [1, 4, 9, 16, 25]\n",
    "# create a generator expression\n",
    "numbers = [1, 2, 3, 4, 5]\n",
    "squared_numbers = (x**2 for x in numbers)\n",
    "# iterate over the generator to print the squared numbers\n",
    "for square in squared_numbers:\n",
    "    print(square) "
   ]
  },
  {
   "cell_type": "markdown",
   "metadata": {},
   "source": [
    "### 8) Write a Python function to check whether a given string is a palindrome or not."
   ]
  },
  {
   "cell_type": "code",
   "execution_count": 26,
   "metadata": {},
   "outputs": [
    {
     "name": "stdout",
     "output_type": "stream",
     "text": [
      "True\n",
      "False\n"
     ]
    }
   ],
   "source": [
    "def is_palindrome(s):\n",
    "    return s == s[::-1]\n",
    "# Example usage:\n",
    "print(is_palindrome('racecar')) # Output: True\n",
    "print(is_palindrome('hello')) \n"
   ]
  },
  {
   "cell_type": "markdown",
   "metadata": {},
   "source": [
    "### 9) Write a Python function to find the second highest number in a list."
   ]
  },
  {
   "cell_type": "code",
   "execution_count": 27,
   "metadata": {},
   "outputs": [
    {
     "name": "stdout",
     "output_type": "stream",
     "text": [
      "4\n",
      "None\n"
     ]
    }
   ],
   "source": [
    "def second_highest(numbers):\n",
    "    numbers = sorted(set(numbers))\n",
    "    return numbers[-2] if len(numbers) >= 2 else None\n",
    "print(second_highest([1, 3, 2, 4, 4, 5])) \n",
    "print(second_highest([1])) \n"
   ]
  },
  {
   "cell_type": "markdown",
   "metadata": {},
   "source": [
    "### 10) Write a Python function to count the number of vowels in a given string.\n"
   ]
  },
  {
   "cell_type": "code",
   "execution_count": 28,
   "metadata": {},
   "outputs": [
    {
     "name": "stdout",
     "output_type": "stream",
     "text": [
      "3\n"
     ]
    }
   ],
   "source": [
    "def count_vowels(s):\n",
    "    return sum(1 for c in s.lower() if c in 'aeoui')\n",
    "\n",
    "print(count_vowels('hello world')) "
   ]
  },
  {
   "cell_type": "markdown",
   "metadata": {},
   "source": [
    "### 11) Write a Python function to find the common elements between two lists.\n"
   ]
  },
  {
   "cell_type": "code",
   "execution_count": 29,
   "metadata": {},
   "outputs": [
    {
     "name": "stdout",
     "output_type": "stream",
     "text": [
      "[2, 3]\n"
     ]
    }
   ],
   "source": [
    "def common_elements(list1, list2):\n",
    "    return list(set(list1) & set(list2))\n",
    "\n",
    "print(common_elements([1, 2, 3], [2, 3, 4]))"
   ]
  },
  {
   "cell_type": "markdown",
   "metadata": {},
   "source": [
    "### 12) Write a Python function to reverse a linked list.\n"
   ]
  },
  {
   "cell_type": "code",
   "execution_count": 30,
   "metadata": {},
   "outputs": [
    {
     "name": "stdout",
     "output_type": "stream",
     "text": [
      "3\n",
      "2\n",
      "1\n"
     ]
    }
   ],
   "source": [
    "class Node:\n",
    "    def __init__(self, data):\n",
    "        self.data = data\n",
    "        self.next = None\n",
    "def reverse_list(head):\n",
    "    prev = None\n",
    "    curr = head\n",
    "    while curr:\n",
    "        next_node = curr.next\n",
    "        curr.next = prev\n",
    "        prev = curr\n",
    "        curr = next_node\n",
    "    return prev\n",
    "# Example usage:\n",
    "head = Node(1)\n",
    "head.next = Node(2)\n",
    "head.next.next = Node(3)\n",
    "reversed_head = reverse_list(head)\n",
    "print(reversed_head.data) # Output: 3\n",
    "print(reversed_head.next.data) # Output: 2\n",
    "print(reversed_head.next.next.data)"
   ]
  },
  {
   "cell_type": "markdown",
   "metadata": {},
   "source": [
    "### 13) Write a Python function to find the shortest path between two nodes in a graph.\n"
   ]
  },
  {
   "cell_type": "code",
   "execution_count": 31,
   "metadata": {},
   "outputs": [
    {
     "name": "stdout",
     "output_type": "stream",
     "text": [
      "['A', 'C', 'F']\n"
     ]
    }
   ],
   "source": [
    "from collections import deque\n",
    "def shortest_path(graph, start, end):\n",
    "    queue = deque([(start, [start])])\n",
    "    visited = set()\n",
    "    while queue:\n",
    "        node, path = queue.popleft()\n",
    "        if node == end:\n",
    "            return path\n",
    "        if node in visited:\n",
    "            continue\n",
    "        visited.add(node)\n",
    "        for neighbor in graph[node]:\n",
    "            queue.append((neighbor, path + [neighbor]))\n",
    "    return None\n",
    "# Example usage:\n",
    "graph = {'A': ['B', 'C'], 'B': ['D', 'E'], 'C': ['F'],\n",
    "'D': [], 'E': [], 'F': []}\n",
    "print(shortest_path(graph, 'A', 'F'))\n"
   ]
  },
  {
   "cell_type": "markdown",
   "metadata": {},
   "source": [
    "### 14) Write a Python function to find the intersection of two sorted lists.\n"
   ]
  },
  {
   "cell_type": "code",
   "execution_count": 32,
   "metadata": {},
   "outputs": [
    {
     "name": "stdout",
     "output_type": "stream",
     "text": [
      "[2, 4]\n"
     ]
    }
   ],
   "source": [
    "def intersection(list1, list2):\n",
    "    i, j = 0, 0\n",
    "    result = []\n",
    "    while i < len(list1) and j < len(list2):\n",
    "        if list1[i] < list2[j]:\n",
    "            i += 1\n",
    "        elif list1[i] > list2[j]:\n",
    "            j += 1\n",
    "        else:\n",
    "            result.append(list1[i])\n",
    "            i += 1\n",
    "            j += 1\n",
    "    return result\n",
    "# Example usage:\n",
    "print(intersection([1, 2, 3, 4, 5], [2, 4, 6]))\n"
   ]
  },
  {
   "cell_type": "markdown",
   "metadata": {},
   "source": [
    "### 15) Write a Python function to find the longest common prefix among a list of strings.\n"
   ]
  },
  {
   "cell_type": "code",
   "execution_count": 33,
   "metadata": {},
   "outputs": [
    {
     "name": "stdout",
     "output_type": "stream",
     "text": [
      "fl\n"
     ]
    }
   ],
   "source": [
    "def longest_common_prefix(strings):\n",
    "    if not strings:\n",
    "        return ''\n",
    "    for i, c in enumerate(strings[0]):\n",
    "        for s in strings[1:]:\n",
    "            if i >= len(s) or s[i] != c:\n",
    "                return strings[0][:i]\n",
    "    return strings[0]\n",
    "# Example usage:\n",
    "print(longest_common_prefix(['flower', 'flow', 'flight']))"
   ]
  }
 ],
 "metadata": {
  "kernelspec": {
   "display_name": "Python 3",
   "language": "python",
   "name": "python3"
  },
  "language_info": {
   "codemirror_mode": {
    "name": "ipython",
    "version": 3
   },
   "file_extension": ".py",
   "mimetype": "text/x-python",
   "name": "python",
   "nbconvert_exporter": "python",
   "pygments_lexer": "ipython3",
   "version": "3.12.1"
  }
 },
 "nbformat": 4,
 "nbformat_minor": 2
}
