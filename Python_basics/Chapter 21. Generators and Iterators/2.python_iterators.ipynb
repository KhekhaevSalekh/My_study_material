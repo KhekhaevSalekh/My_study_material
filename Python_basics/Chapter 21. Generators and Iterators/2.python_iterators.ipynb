{
 "cells": [
  {
   "cell_type": "markdown",
   "metadata": {},
   "source": [
    "Let's recall that we have data types that combine multiple elements in one instance. It is list,set, or dictionaries. Such types can be called as containers. An iterator is an abstraction layer that allows enumerating the elements of a container through a standardized interface.\n",
    "\n",
    "This abstracts from the concrete peculiarities of the container to access its elements so that any iterable object can be traversed with the same code. It's yjem no longer important to know how the containers stores the elements and how else they can be accessed."
   ]
  },
  {
   "cell_type": "markdown",
   "metadata": {},
   "source": [
    "Let's first implement Fibonacci class that allows us to iterate over the Fibonacci sequence."
   ]
  },
  {
   "cell_type": "code",
   "execution_count": 1,
   "metadata": {},
   "outputs": [],
   "source": [
    "class Fibonacci:\n",
    "    def __init__(self,max_n):\n",
    "        self.max_n=max_n\n",
    "        self.n = 0\n",
    "        self.a=0\n",
    "        self.b=1\n",
    "    def __iter__(self):\n",
    "        return self\n",
    "    def __next__(self):\n",
    "        if self.n<self.max_n:\n",
    "            self.n+=1\n",
    "            self.a,self.b =self.b,self.a+self.b\n",
    "            return self.a\n",
    "        else:\n",
    "            raise StopIteration"
   ]
  },
  {
   "cell_type": "code",
   "execution_count": 2,
   "metadata": {},
   "outputs": [
    {
     "name": "stdout",
     "output_type": "stream",
     "text": [
      "1\n",
      "1\n",
      "2\n",
      "3\n",
      "5\n"
     ]
    }
   ],
   "source": [
    "for i in Fibonacci(5):\n",
    "    print(i)"
   ]
  },
  {
   "cell_type": "markdown",
   "metadata": {},
   "source": [
    "The interface defined for this purpose is called iterator protocol and is defined as follows:\n",
    "1) Each iterable instance must implement a parameterless __iter__ method that returns an iterator object\n",
    "2) The iterator object must also have an __iter__ method that simply returns a reference to the iterator object itself\n",
    "3) It must also have a __next__ methodthat returns the next element.\n",
    "4) Once the end of the iteration is reached, the __next__ method must raise the StopIteration exception."
   ]
  },
  {
   "cell_type": "markdown",
   "metadata": {},
   "source": [
    "Now using a small subclass of Fibonacci, we can also create an iterator that lets us iterate the ratios of two consecutive Fibonacci numbers. It is golden ratio."
   ]
  },
  {
   "cell_type": "code",
   "execution_count": null,
   "metadata": {},
   "outputs": [],
   "source": [
    "class GoldenRatio(Fibonacci):\n",
    "    def __next__(self):\n",
    "        super().__next__()\n",
    "        return self.b/self.a"
   ]
  },
  {
   "cell_type": "markdown",
   "metadata": {},
   "source": [
    "It is possible o implement the __iter__ method of an iterable object as a generator. This technique results in much more elegant code because we now no longer need to remember the state of the iterator between __next__ calls, nor do we need to explicitly define __next__:"
   ]
  },
  {
   "cell_type": "code",
   "execution_count": null,
   "metadata": {},
   "outputs": [],
   "source": [
    "class Fibonacci2:\n",
    "    def __init__(self,max_n):\n",
    "        self.max_n=max_n\n",
    "    def __iter__(self):\n",
    "        a,b=0,1\n",
    "        for n in range(self.max_n):\n",
    "            a,b=b,a+b\n",
    "            yield a"
   ]
  },
  {
   "cell_type": "markdown",
   "metadata": {},
   "source": [
    "However, the GoldenRatio class can no longer be implemented as a subclass of Fibonacci2 because the caching of the values and also the __next__ method are now encapsulated in the generator."
   ]
  }
 ],
 "metadata": {
  "kernelspec": {
   "display_name": "Python 3",
   "language": "python",
   "name": "python3"
  },
  "language_info": {
   "codemirror_mode": {
    "name": "ipython",
    "version": 3
   },
   "file_extension": ".py",
   "mimetype": "text/x-python",
   "name": "python",
   "nbconvert_exporter": "python",
   "pygments_lexer": "ipython3",
   "version": "3.11.4"
  }
 },
 "nbformat": 4,
 "nbformat_minor": 2
}
