{
 "cells": [
  {
   "cell_type": "markdown",
   "metadata": {},
   "source": [
    "1) A generator is a function that, when called, creates an iterableobject that returns the elements of a virtual sequence one after the other."
   ]
  },
  {
   "cell_type": "markdown",
   "metadata": {},
   "source": [
    "2) A simple implementation of the first square sequence is bellow:"
   ]
  },
  {
   "cell_type": "code",
   "execution_count": 8,
   "metadata": {},
   "outputs": [
    {
     "name": "stdout",
     "output_type": "stream",
     "text": [
      "1 4 9 16 25 36 49 64 81 100 "
     ]
    }
   ],
   "source": [
    "def square_generator(n):\n",
    "    for i in range(1,n+1):\n",
    "        yield i*i\n",
    "\n",
    "for i in square_generator(10):\n",
    "    print(i, end=' ')"
   ]
  },
  {
   "cell_type": "markdown",
   "metadata": {},
   "source": [
    "3) The difference between return and yield is that if a reurn is reached in a normal function uring a program run? the control flow is returned to the next higher level and the function call is terminated. As a relult the local namespace of the function call will be deleted. When calling the function again, Python would start once more at the beginning of the function and execute it in its entirety.\n",
    "\n",
    "In contrast, when a yield statement is reached, the current position within the generator function and its local namespace are saved, and the control flow returns to the calling program by yielding the value specified after yield. At the next iteration step, Python then continues after the last executed yield and can access the old local variables. Only when the end of the function is reached will the final cleanup begin."
   ]
  },
  {
   "cell_type": "markdown",
   "metadata": {},
   "source": [
    "4) Generator functions may well contain multiple yield statements:"
   ]
  },
  {
   "cell_type": "code",
   "execution_count": 9,
   "metadata": {},
   "outputs": [
    {
     "name": "stdout",
     "output_type": "stream",
     "text": [
      "10\n",
      "11\n",
      "15\n"
     ]
    }
   ],
   "source": [
    "def generator_with_multiple_yields():\n",
    "    a = 10\n",
    "    yield a\n",
    "    yield a+1\n",
    "    b = 5\n",
    "    yield a+b\n",
    "\n",
    "for i in generator_with_multiple_yields():\n",
    "    print(i)"
   ]
  },
  {
   "cell_type": "markdown",
   "metadata": {},
   "source": [
    "5) It is also possible to leave a generator function early if necessary. To achieve this, you must use the return statement without a return value."
   ]
  },
  {
   "cell_type": "code",
   "execution_count": 16,
   "metadata": {},
   "outputs": [
    {
     "name": "stdout",
     "output_type": "stream",
     "text": [
      "Ella\n",
      "Linda\n"
     ]
    }
   ],
   "source": [
    "def names(also_boys=True):\n",
    "    yield 'Ella'\n",
    "    yield 'Linda'\n",
    "    if not also_boys:\n",
    "        return\n",
    "    yield 'Phillip'\n",
    "    yield 'Steve'\n",
    "\n",
    "for i in names(also_boys=False):\n",
    "    print(i)"
   ]
  },
  {
   "cell_type": "markdown",
   "metadata": {},
   "source": [
    "6) Using the list function we can create a list from the alues of the generator"
   ]
  },
  {
   "cell_type": "code",
   "execution_count": 17,
   "metadata": {},
   "outputs": [
    {
     "data": {
      "text/plain": [
       "['Ella', 'Linda', 'Phillip', 'Steve']"
      ]
     },
     "execution_count": 17,
     "metadata": {},
     "output_type": "execute_result"
    }
   ],
   "source": [
    "list(names())"
   ]
  },
  {
   "cell_type": "code",
   "execution_count": 18,
   "metadata": {},
   "outputs": [
    {
     "data": {
      "text/plain": [
       "['Ella', 'Linda']"
      ]
     },
     "execution_count": 18,
     "metadata": {},
     "output_type": "execute_result"
    }
   ],
   "source": [
    "list(names(also_boys=False))"
   ]
  },
  {
   "cell_type": "markdown",
   "metadata": {},
   "source": [
    "7) Subgenerators. A generator can transfer control to another generator."
   ]
  },
  {
   "cell_type": "code",
   "execution_count": 24,
   "metadata": {},
   "outputs": [],
   "source": [
    "def boys():\n",
    "    yield 'Phillip'\n",
    "    yield 'Steve'\n",
    "\n",
    "def girls():\n",
    "    yield 'Ella'\n",
    "    yield 'Linda'\n",
    "\n",
    "def names(also_boys=True):\n",
    "    yield from girls()\n",
    "    if also_boys:\n",
    "        yield from boys()"
   ]
  },
  {
   "cell_type": "code",
   "execution_count": 25,
   "metadata": {},
   "outputs": [
    {
     "data": {
      "text/plain": [
       "['Ella', 'Linda', 'Phillip', 'Steve']"
      ]
     },
     "execution_count": 25,
     "metadata": {},
     "output_type": "execute_result"
    }
   ],
   "source": [
    "list(names())"
   ]
  },
  {
   "cell_type": "code",
   "execution_count": 21,
   "metadata": {},
   "outputs": [
    {
     "data": {
      "text/plain": [
       "['Ella', 'Linda']"
      ]
     },
     "execution_count": 21,
     "metadata": {},
     "output_type": "execute_result"
    }
   ],
   "source": [
    "list(names(also_boys=False))"
   ]
  },
  {
   "cell_type": "markdown",
   "metadata": {},
   "source": [
    "Note the difference between logical conditions in the first name function definition and second."
   ]
  },
  {
   "cell_type": "markdown",
   "metadata": {},
   "source": [
    "8) Note that the values generated by a subgenerator are passed through diectly to the calling level. The delegating generator does not have access to these values. In the example, the names Ella, Linda, Phillip, and Steve are written directly into the resulting list by the girls and boys generators, without the names generator seeing them. \n",
    "\n",
    "We can check it by the followinf code:"
   ]
  },
  {
   "cell_type": "code",
   "execution_count": 15,
   "metadata": {},
   "outputs": [],
   "source": [
    "def subgenerator():\n",
    "    yield 'Ella'\n",
    "    yield 'Linda'\n",
    "\n",
    "def generator(also_boys=True):\n",
    "    a=yield from subgenerator()\n",
    "    yield a"
   ]
  },
  {
   "cell_type": "code",
   "execution_count": 16,
   "metadata": {},
   "outputs": [
    {
     "name": "stdout",
     "output_type": "stream",
     "text": [
      "Ella\n",
      "Linda\n",
      "None\n"
     ]
    }
   ],
   "source": [
    "for i in generator():\n",
    "    print(i)"
   ]
  },
  {
   "cell_type": "markdown",
   "metadata": {},
   "source": [
    "We see that subgenerator's content passed generator and 'yield from' does not return anything to the generator."
   ]
  },
  {
   "cell_type": "markdown",
   "metadata": {},
   "source": [
    "9) To return data to the delegating generator, we can use the return statement. The 'yield from' statement obtains the returned value after passing through the subgenerator."
   ]
  },
  {
   "cell_type": "code",
   "execution_count": 17,
   "metadata": {},
   "outputs": [
    {
     "name": "stdout",
     "output_type": "stream",
     "text": [
      "Ella\n",
      "Round!\n",
      "Linda\n",
      "Round!\n",
      "2 girls\n",
      "Phillip\n",
      "Round!\n",
      "Steve\n",
      "Round!\n",
      "2 girls\n"
     ]
    }
   ],
   "source": [
    "def boys():\n",
    "    yield 'Phillip'\n",
    "    yield 'Steve'\n",
    "    return 2\n",
    "\n",
    "def girls():\n",
    "    yield 'Ella'\n",
    "    yield 'Linda'\n",
    "    return 2\n",
    "\n",
    "def names(also_boys=True):\n",
    "    number_of_girls = (yield from girls())\n",
    "    print(f'{number_of_girls} girls')\n",
    "    if also_boys:\n",
    "        number_of_boys=(yield from boys())\n",
    "        print(f'{number_of_boys} girls')\n",
    "\n",
    "for i in names():\n",
    "    print(i)\n",
    "    print('Round!')"
   ]
  },
  {
   "cell_type": "code",
   "execution_count": 18,
   "metadata": {},
   "outputs": [
    {
     "name": "stdout",
     "output_type": "stream",
     "text": [
      "2 girls\n",
      "2 girls\n"
     ]
    },
    {
     "data": {
      "text/plain": [
       "['Ella', 'Linda', 'Phillip', 'Steve']"
      ]
     },
     "execution_count": 18,
     "metadata": {},
     "output_type": "execute_result"
    }
   ],
   "source": [
    "list(names())"
   ]
  },
  {
   "cell_type": "markdown",
   "metadata": {},
   "source": [
    "10) It is also possible to use 'yield from' with arbitrary iterable object:"
   ]
  },
  {
   "cell_type": "code",
   "execution_count": 36,
   "metadata": {},
   "outputs": [],
   "source": [
    "def tt(l):\n",
    "    yield from l"
   ]
  },
  {
   "cell_type": "code",
   "execution_count": 37,
   "metadata": {},
   "outputs": [
    {
     "name": "stdout",
     "output_type": "stream",
     "text": [
      "1\n",
      "2\n",
      "3\n",
      "4\n"
     ]
    }
   ],
   "source": [
    "for i in tt([1,2,3,4]):\n",
    "    print(i)"
   ]
  },
  {
   "cell_type": "markdown",
   "metadata": {},
   "source": [
    "11) Now let's talk about generator expressions. \n",
    "\n",
    "First let's recall the list comprehension and how we can find the sum of first squares"
   ]
  },
  {
   "cell_type": "code",
   "execution_count": 38,
   "metadata": {},
   "outputs": [
    {
     "data": {
      "text/plain": [
       "385"
      ]
     },
     "execution_count": 38,
     "metadata": {},
     "output_type": "execute_result"
    }
   ],
   "source": [
    "sum([i*i for i in range(1,11)])"
   ]
  },
  {
   "cell_type": "markdown",
   "metadata": {},
   "source": [
    "What is the problem? The  problem is that we create unnecessary list. Why not use generator? And for this we have generator expresion:"
   ]
  },
  {
   "cell_type": "code",
   "execution_count": 39,
   "metadata": {},
   "outputs": [
    {
     "data": {
      "text/plain": [
       "385"
      ]
     },
     "execution_count": 39,
     "metadata": {},
     "output_type": "execute_result"
    }
   ],
   "source": [
    "sum(i*i for i in range(1,11))"
   ]
  }
 ],
 "metadata": {
  "kernelspec": {
   "display_name": "Python 3",
   "language": "python",
   "name": "python3"
  },
  "language_info": {
   "codemirror_mode": {
    "name": "ipython",
    "version": 3
   },
   "file_extension": ".py",
   "mimetype": "text/x-python",
   "name": "python",
   "nbconvert_exporter": "python",
   "pygments_lexer": "ipython3",
   "version": "3.11.4"
  }
 },
 "nbformat": 4,
 "nbformat_minor": 2
}
