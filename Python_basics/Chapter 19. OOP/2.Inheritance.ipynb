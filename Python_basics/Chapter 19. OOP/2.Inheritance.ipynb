{
 "cells": [
  {
   "cell_type": "markdown",
   "metadata": {},
   "source": [
    "Simple ineritance:"
   ]
  },
  {
   "cell_type": "code",
   "execution_count": 1,
   "metadata": {},
   "outputs": [],
   "source": [
    "class A:\n",
    "    pass\n",
    "\n",
    "class B(A):\n",
    "    pass"
   ]
  },
  {
   "cell_type": "code",
   "execution_count": 35,
   "metadata": {},
   "outputs": [],
   "source": [
    "class A:\n",
    "    def __init__(self):\n",
    "        print('Constructor of A')\n",
    "        self.x = 1337\n",
    "\n",
    "    def m(self):\n",
    "        print(\"Method m of A. It's self.x= \",self.x)\n",
    "\n"
   ]
  },
  {
   "cell_type": "code",
   "execution_count": 36,
   "metadata": {},
   "outputs": [],
   "source": [
    "\n",
    "class B(A):\n",
    "    def n(self):\n",
    "        print(\"Method n of B\")"
   ]
  },
  {
   "cell_type": "code",
   "execution_count": 37,
   "metadata": {},
   "outputs": [
    {
     "name": "stdout",
     "output_type": "stream",
     "text": [
      "Constructor of A\n",
      "Method m of A. It's self.x=  1337\n",
      "Method n of B\n"
     ]
    }
   ],
   "source": [
    "b = B()\n",
    "b.m()\n",
    "b.n()"
   ]
  },
  {
   "cell_type": "markdown",
   "metadata": {},
   "source": [
    "Let's work with overriding the methods. We will override the constructor method."
   ]
  },
  {
   "cell_type": "code",
   "execution_count": 38,
   "metadata": {},
   "outputs": [],
   "source": [
    "\n",
    "class B(A):\n",
    "    def __init__(self):\n",
    "        print('Constructer of B')\n",
    "        self.y=10000\n",
    "    def n(self):\n",
    "        print(\"Method n of B. It's self.y = \", self.y)"
   ]
  },
  {
   "cell_type": "code",
   "execution_count": 39,
   "metadata": {},
   "outputs": [
    {
     "name": "stdout",
     "output_type": "stream",
     "text": [
      "Constructer of B\n",
      "Method n of B. It's self.y =  10000\n"
     ]
    },
    {
     "ename": "AttributeError",
     "evalue": "'B' object has no attribute 'x'",
     "output_type": "error",
     "traceback": [
      "\u001b[1;31m---------------------------------------------------------------------------\u001b[0m",
      "\u001b[1;31mAttributeError\u001b[0m                            Traceback (most recent call last)",
      "Cell \u001b[1;32mIn[39], line 3\u001b[0m\n\u001b[0;32m      1\u001b[0m b \u001b[38;5;241m=\u001b[39m B()\n\u001b[0;32m      2\u001b[0m b\u001b[38;5;241m.\u001b[39mn()\n\u001b[1;32m----> 3\u001b[0m \u001b[43mb\u001b[49m\u001b[38;5;241;43m.\u001b[39;49m\u001b[43mm\u001b[49m\u001b[43m(\u001b[49m\u001b[43m)\u001b[49m\n",
      "Cell \u001b[1;32mIn[35], line 7\u001b[0m, in \u001b[0;36mA.m\u001b[1;34m(self)\u001b[0m\n\u001b[0;32m      6\u001b[0m \u001b[38;5;28;01mdef\u001b[39;00m \u001b[38;5;21mm\u001b[39m(\u001b[38;5;28mself\u001b[39m):\n\u001b[1;32m----> 7\u001b[0m     \u001b[38;5;28mprint\u001b[39m(\u001b[38;5;124m\"\u001b[39m\u001b[38;5;124mMethod m of A. It\u001b[39m\u001b[38;5;124m'\u001b[39m\u001b[38;5;124ms self.x= \u001b[39m\u001b[38;5;124m\"\u001b[39m,\u001b[38;5;28;43mself\u001b[39;49m\u001b[38;5;241;43m.\u001b[39;49m\u001b[43mx\u001b[49m)\n",
      "\u001b[1;31mAttributeError\u001b[0m: 'B' object has no attribute 'x'"
     ]
    }
   ],
   "source": [
    "b = B()\n",
    "b.n()\n",
    "b.m()"
   ]
  },
  {
   "cell_type": "markdown",
   "metadata": {},
   "source": [
    "We see an error. It is not surprising as the constructor of A is not called at all. We override the construction method. So we need explicitly call overridden method of the base class:"
   ]
  },
  {
   "cell_type": "code",
   "execution_count": 40,
   "metadata": {},
   "outputs": [],
   "source": [
    "class B(A):\n",
    "    def __init__(self):\n",
    "        print('Constructer of B')\n",
    "        super().__init__()\n",
    "        self.y=10000\n",
    "    def n(self):\n",
    "        print(\"Method n of B. It's self.y = \", self.y)"
   ]
  },
  {
   "cell_type": "code",
   "execution_count": 41,
   "metadata": {},
   "outputs": [
    {
     "name": "stdout",
     "output_type": "stream",
     "text": [
      "Constructer of B\n",
      "Constructor of A\n",
      "Method n of B. It's self.y =  10000\n",
      "Method m of A. It's self.x=  1337\n"
     ]
    }
   ],
   "source": [
    "b = B()\n",
    "b.n()\n",
    "b.m()"
   ]
  },
  {
   "cell_type": "markdown",
   "metadata": {},
   "source": [
    "If class A need parameter for initialization then we must provide it:"
   ]
  },
  {
   "cell_type": "code",
   "execution_count": 42,
   "metadata": {},
   "outputs": [],
   "source": [
    "class A:\n",
    "    def __init__(self,x):\n",
    "        print('Constructor of A')\n",
    "        self.x = x\n",
    "\n",
    "    def m(self):\n",
    "        print(\"Method m of A. It's self.x= \",self.x)"
   ]
  },
  {
   "cell_type": "code",
   "execution_count": 43,
   "metadata": {},
   "outputs": [],
   "source": [
    "class B(A):\n",
    "    def __init__(self):\n",
    "        print('Constructer of B')\n",
    "        super().__init__(x=3)\n",
    "        self.y=10000\n",
    "    def n(self):\n",
    "        print(\"Method n of B. It's self.y = \", self.y)"
   ]
  },
  {
   "cell_type": "code",
   "execution_count": 44,
   "metadata": {},
   "outputs": [
    {
     "name": "stdout",
     "output_type": "stream",
     "text": [
      "Constructer of B\n",
      "Constructor of A\n",
      "Method n of B. It's self.y =  10000\n",
      "Method m of A. It's self.x=  3\n"
     ]
    }
   ],
   "source": [
    "b = B()\n",
    "b.n()\n",
    "b.m()"
   ]
  }
 ],
 "metadata": {
  "kernelspec": {
   "display_name": "Python 3",
   "language": "python",
   "name": "python3"
  },
  "language_info": {
   "codemirror_mode": {
    "name": "ipython",
    "version": 3
   },
   "file_extension": ".py",
   "mimetype": "text/x-python",
   "name": "python",
   "nbconvert_exporter": "python",
   "pygments_lexer": "ipython3",
   "version": "3.11.4"
  }
 },
 "nbformat": 4,
 "nbformat_minor": 2
}
