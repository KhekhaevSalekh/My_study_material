{
 "cells": [
  {
   "cell_type": "markdown",
   "metadata": {},
   "source": [
    "A calss is a formal description of the structure of an object.\n",
    "\n",
    "The simplest class has neither methods nor atributes:"
   ]
  },
  {
   "cell_type": "code",
   "execution_count": 1,
   "metadata": {},
   "outputs": [],
   "source": [
    "class Account:\n",
    "    pass "
   ]
  },
  {
   "cell_type": "code",
   "execution_count": 2,
   "metadata": {},
   "outputs": [
    {
     "data": {
      "text/plain": [
       "<__main__.Account at 0x2578eac2cd0>"
      ]
     },
     "execution_count": 2,
     "metadata": {},
     "output_type": "execute_result"
    }
   ],
   "source": [
    "Account()"
   ]
  },
  {
   "cell_type": "markdown",
   "metadata": {},
   "source": [
    "The output tells us that the return value of Account() is an instance of the Account class in the __main__ namespace and stored at a certain memory address."
   ]
  },
  {
   "cell_type": "markdown",
   "metadata": {},
   "source": [
    "Methods always recieves as its first parameter a reference to the instance through it is invoked. Just like funcions, methods have their own namespace, can access global variables, and return values to the calling level."
   ]
  },
  {
   "cell_type": "code",
   "execution_count": 3,
   "metadata": {},
   "outputs": [],
   "source": [
    "class Account:\n",
    "    def money_transfer(self, destination, amount):\n",
    "        pass\n",
    "    def deposit(self,amount):\n",
    "        pass\n",
    "    def withdraw(self,amount):\n",
    "        pass\n",
    "    def show(self):\n",
    "        pass"
   ]
  },
  {
   "cell_type": "markdown",
   "metadata": {},
   "source": [
    "Also we need constructer."
   ]
  },
  {
   "cell_type": "code",
   "execution_count": null,
   "metadata": {},
   "outputs": [],
   "source": [
    "class Account:\n",
    "    def __init__(self,owner,account_number,account_balance,max_daily_turnover=1500):\n",
    "        self.owner = owner\n",
    "        self.account_number=account_number\n",
    "        self.account_balance =account_balance\n",
    "        self.max_daily_turnover=max_daily_turnover\n",
    "        self.turnover_today = 0\n",
    "\n",
    "    def money_transfer(self, destination, amount):\n",
    "        pass\n",
    "    def deposit(self,amount):\n",
    "        pass\n",
    "    def withdraw(self,amount):\n",
    "        pass\n",
    "    def show(self):\n",
    "        pass"
   ]
  }
 ],
 "metadata": {
  "kernelspec": {
   "display_name": "Python 3",
   "language": "python",
   "name": "python3"
  },
  "language_info": {
   "codemirror_mode": {
    "name": "ipython",
    "version": 3
   },
   "file_extension": ".py",
   "mimetype": "text/x-python",
   "name": "python",
   "nbconvert_exporter": "python",
   "pygments_lexer": "ipython3",
   "version": "3.11.4"
  }
 },
 "nbformat": 4,
 "nbformat_minor": 2
}
