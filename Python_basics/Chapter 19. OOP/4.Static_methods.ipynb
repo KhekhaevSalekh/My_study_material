{
 "cells": [
  {
   "cell_type": "markdown",
   "metadata": {},
   "source": [
    "Static methods are methods shared by all instances of a class. It does not require a self parameter.  Moreover, it can be called directly from the calss without the need to creacte an instance first."
   ]
  },
  {
   "cell_type": "code",
   "execution_count": 1,
   "metadata": {},
   "outputs": [],
   "source": [
    "class A:\n",
    "    def m():\n",
    "        print(\"Hello static method!\")\n",
    "    m = staticmethod(m)"
   ]
  },
  {
   "cell_type": "code",
   "execution_count": 2,
   "metadata": {},
   "outputs": [
    {
     "name": "stdout",
     "output_type": "stream",
     "text": [
      "Hello static method!\n"
     ]
    }
   ],
   "source": [
    "A.m()"
   ]
  },
  {
   "cell_type": "markdown",
   "metadata": {},
   "source": [
    "Static methods are often used to provide alternative constructors. In example bellow we use it to create junior account."
   ]
  },
  {
   "cell_type": "code",
   "execution_count": 7,
   "metadata": {},
   "outputs": [],
   "source": [
    "class Account:\n",
    "    def __init__(self,owner,account_number,account_balance,max_daily_turnover=1500):\n",
    "        self.owner = owner\n",
    "        self.account_number=account_number\n",
    "        self.account_balance =account_balance\n",
    "        self.max_daily_turnover=max_daily_turnover\n",
    "        self.turnover_today = 0\n",
    "    def junior_account(owner, account_number, account_balance):\n",
    "        return Account(owner,account_number,account_balance, 1000)\n",
    "    junior_account = staticmethod(junior_account)"
   ]
  },
  {
   "cell_type": "code",
   "execution_count": 8,
   "metadata": {},
   "outputs": [
    {
     "data": {
      "text/plain": [
       "1500"
      ]
     },
     "execution_count": 8,
     "metadata": {},
     "output_type": "execute_result"
    }
   ],
   "source": [
    "acount1 = Account('a',3,40)\n",
    "acount1.max_daily_turnover"
   ]
  },
  {
   "cell_type": "code",
   "execution_count": 9,
   "metadata": {},
   "outputs": [
    {
     "data": {
      "text/plain": [
       "1000"
      ]
     },
     "execution_count": 9,
     "metadata": {},
     "output_type": "execute_result"
    }
   ],
   "source": [
    "acount2 = Account.junior_account('a',3,40)\n",
    "acount2.max_daily_turnover"
   ]
  },
  {
   "cell_type": "markdown",
   "metadata": {},
   "source": [
    "Such an alternative constructor is also referred to as a factor function."
   ]
  }
 ],
 "metadata": {
  "kernelspec": {
   "display_name": "Python 3",
   "language": "python",
   "name": "python3"
  },
  "language_info": {
   "codemirror_mode": {
    "name": "ipython",
    "version": 3
   },
   "file_extension": ".py",
   "mimetype": "text/x-python",
   "name": "python",
   "nbconvert_exporter": "python",
   "pygments_lexer": "ipython3",
   "version": "3.11.4"
  }
 },
 "nbformat": 4,
 "nbformat_minor": 2
}
