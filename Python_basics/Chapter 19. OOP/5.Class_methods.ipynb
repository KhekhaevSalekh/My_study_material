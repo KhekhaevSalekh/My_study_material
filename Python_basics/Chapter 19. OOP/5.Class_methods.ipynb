{
 "cells": [
  {
   "cell_type": "markdown",
   "metadata": {},
   "source": [
    "Besides the static methods that can exist separately from an instance, there is another kind of method that doesn't refer to an instance of a class. These so-called class methods expect a reference to the class for which they are called as the first parameter. "
   ]
  },
  {
   "cell_type": "code",
   "execution_count": 1,
   "metadata": {},
   "outputs": [],
   "source": [
    "class A:\n",
    "    def m(cls):\n",
    "        print(\"a am \",cls)\n",
    "    m = classmethod(m)\n",
    "\n",
    "class B(A):\n",
    "    pass\n",
    "\n",
    "class C(A):\n",
    "    pass"
   ]
  },
  {
   "cell_type": "code",
   "execution_count": 2,
   "metadata": {},
   "outputs": [
    {
     "name": "stdout",
     "output_type": "stream",
     "text": [
      "a am  <class '__main__.A'>\n"
     ]
    }
   ],
   "source": [
    "A.m()"
   ]
  },
  {
   "cell_type": "code",
   "execution_count": 3,
   "metadata": {},
   "outputs": [
    {
     "name": "stdout",
     "output_type": "stream",
     "text": [
      "a am  <class '__main__.B'>\n"
     ]
    }
   ],
   "source": [
    "B.m()"
   ]
  },
  {
   "cell_type": "code",
   "execution_count": 4,
   "metadata": {},
   "outputs": [
    {
     "name": "stdout",
     "output_type": "stream",
     "text": [
      "a am  <class '__main__.C'>\n"
     ]
    }
   ],
   "source": [
    "C.m()"
   ]
  },
  {
   "cell_type": "markdown",
   "metadata": {},
   "source": [
    "classmethod has access to class atributes while staticmethod has not."
   ]
  },
  {
   "cell_type": "markdown",
   "metadata": {},
   "source": [
    "Both staticmethod and slaccmethod are typically used as function decorators."
   ]
  },
  {
   "cell_type": "markdown",
   "metadata": {},
   "source": [
    "In addition to class methods we also have class atributes that do not refer to instances of the class, but to rhe class itself."
   ]
  },
  {
   "cell_type": "code",
   "execution_count": null,
   "metadata": {},
   "outputs": [],
   "source": [
    "class D:\n",
    "    x = 10\n",
    "\n",
    "print(D.x)"
   ]
  }
 ],
 "metadata": {
  "kernelspec": {
   "display_name": "Python 3",
   "language": "python",
   "name": "python3"
  },
  "language_info": {
   "codemirror_mode": {
    "name": "ipython",
    "version": 3
   },
   "file_extension": ".py",
   "mimetype": "text/x-python",
   "name": "python",
   "nbconvert_exporter": "python",
   "pygments_lexer": "ipython3",
   "version": "3.11.4"
  }
 },
 "nbformat": 4,
 "nbformat_minor": 2
}
