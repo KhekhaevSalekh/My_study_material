{
 "cells": [
  {
   "cell_type": "code",
   "execution_count": 1,
   "metadata": {},
   "outputs": [],
   "source": [
    "import time\n",
    "def small_nap():\n",
    "    time.sleep(5)\n",
    "\n",
    "\n",
    "def with_timing(fn):\n",
    "    def wrapper(*args,**kwargs):\n",
    "        t = time.perf_counter()\n",
    "        try:\n",
    "            return fn(*args,**kwargs)\n",
    "        finally:\n",
    "            e = time.perf_counter()\n",
    "            print(f'Time {e-t}')\n",
    "    return wrapper\n",
    "\n"
   ]
  },
  {
   "cell_type": "code",
   "execution_count": 2,
   "metadata": {},
   "outputs": [
    {
     "name": "stdout",
     "output_type": "stream",
     "text": [
      "Time 5.000799999999799\n"
     ]
    }
   ],
   "source": [
    "tt=with_timing(small_nap)\n",
    "tt()"
   ]
  },
  {
   "cell_type": "code",
   "execution_count": 3,
   "metadata": {},
   "outputs": [],
   "source": [
    "@with_timing\n",
    "def small_nap():\n",
    "    time.sleep(6)"
   ]
  },
  {
   "cell_type": "code",
   "execution_count": 4,
   "metadata": {},
   "outputs": [
    {
     "name": "stdout",
     "output_type": "stream",
     "text": [
      "Time 6.000557099998332\n"
     ]
    }
   ],
   "source": [
    "small_nap()"
   ]
  }
 ],
 "metadata": {
  "kernelspec": {
   "display_name": "Python 3",
   "language": "python",
   "name": "python3"
  },
  "language_info": {
   "codemirror_mode": {
    "name": "ipython",
    "version": 3
   },
   "file_extension": ".py",
   "mimetype": "text/x-python",
   "name": "python",
   "nbconvert_exporter": "python",
   "pygments_lexer": "ipython3",
   "version": "3.11.7"
  }
 },
 "nbformat": 4,
 "nbformat_minor": 2
}
