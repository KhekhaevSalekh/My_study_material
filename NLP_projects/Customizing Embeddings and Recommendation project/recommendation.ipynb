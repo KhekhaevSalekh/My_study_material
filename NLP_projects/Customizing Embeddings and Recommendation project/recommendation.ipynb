{
  "cells": [
    {
      "cell_type": "markdown",
      "id": "3J7oG0skBSNy",
      "metadata": {
        "id": "3J7oG0skBSNy"
      },
      "source": [
        "# 1. Installs + Imports"
      ]
    },
    {
      "cell_type": "code",
      "execution_count": null,
      "id": "ln1NI8ckG27D",
      "metadata": {
        "colab": {
          "base_uri": "https://localhost:8080/"
        },
        "id": "ln1NI8ckG27D",
        "outputId": "b55e6c68-4fca-425a-a759-af4c78aaa350"
      },
      "outputs": [],
      "source": [
        "#!pip install sentence-transformers openai==0.28.1 datasets"
      ]
    },
    {
      "cell_type": "code",
      "execution_count": 2,
      "id": "4fbfe3b6",
      "metadata": {
        "id": "4fbfe3b6"
      },
      "outputs": [],
      "source": [
        "from collections import defaultdict\n",
        "import concurrent.futures\n",
        "from functools import partial, lru_cache\n",
        "import pandas as pd\n",
        "import openai, os\n",
        "from openai.embeddings_utils import get_embeddings, get_embedding\n",
        "import json\n",
        "\n",
        "from transformers import RobertaTokenizer\n",
        "import random\n",
        "from datasets import load_dataset\n",
        "import itertools\n",
        "import numpy as np\n",
        "from torch.utils.data import DataLoader\n",
        "import re\n",
        "import string\n",
        "from tqdm.auto import tqdm\n",
        "from sentence_transformers import SentenceTransformer, evaluation, losses, InputExample\n",
        "\n",
        "import matplotlib.pyplot as plt\n",
        "import seaborn as sns\n",
        "from typing import List, Tuple\n",
        "from sklearn.metrics.pairwise import cosine_similarity\n",
        "from sklearn.model_selection import train_test_split\n",
        "\n",
        "\n",
        "random.seed(42)"
      ]
    },
    {
      "cell_type": "code",
      "execution_count": 3,
      "id": "iP78b7petNqR",
      "metadata": {
        "colab": {
          "base_uri": "https://localhost:8080/"
        },
        "id": "iP78b7petNqR",
        "outputId": "f71121be-6d6a-4f93-c691-351d3bd0ac41"
      },
      "outputs": [
        {
          "name": "stdout",
          "output_type": "stream",
          "text": [
            "Drive already mounted at /content/drive; to attempt to forcibly remount, call drive.mount(\"/content/drive\", force_remount=True).\n"
          ]
        }
      ],
      "source": [
        "from google.colab import drive\n",
        "drive.mount('/content/drive')"
      ]
    },
    {
      "cell_type": "markdown",
      "id": "H92BuMCjBWpk",
      "metadata": {
        "id": "H92BuMCjBWpk"
      },
      "source": [
        "# 2. Data loading and preprocessing"
      ]
    },
    {
      "cell_type": "markdown",
      "id": "1ed52b56",
      "metadata": {
        "id": "1ed52b56"
      },
      "source": [
        "### 2.1. Let's download our first dataset"
      ]
    },
    {
      "cell_type": "code",
      "execution_count": 4,
      "id": "5e067f76",
      "metadata": {
        "colab": {
          "base_uri": "https://localhost:8080/",
          "height": 216
        },
        "id": "5e067f76",
        "outputId": "7175a43f-ed92-4dc9-a9be-6f0682ae9fea"
      },
      "outputs": [
        {
          "name": "stdout",
          "output_type": "stream",
          "text": [
            "(10000, 19)\n"
          ]
        },
        {
          "data": {
            "text/html": [
              "\n",
              "  <div id=\"df-cc8db5c9-319b-4f77-b322-c6bbbc466059\" class=\"colab-df-container\">\n",
              "    <div>\n",
              "<style scoped>\n",
              "    .dataframe tbody tr th:only-of-type {\n",
              "        vertical-align: middle;\n",
              "    }\n",
              "\n",
              "    .dataframe tbody tr th {\n",
              "        vertical-align: top;\n",
              "    }\n",
              "\n",
              "    .dataframe thead th {\n",
              "        text-align: right;\n",
              "    }\n",
              "</style>\n",
              "<table border=\"1\" class=\"dataframe\">\n",
              "  <thead>\n",
              "    <tr style=\"text-align: right;\">\n",
              "      <th></th>\n",
              "      <th>MAL_ID</th>\n",
              "      <th>Name</th>\n",
              "      <th>Score</th>\n",
              "      <th>Genres</th>\n",
              "      <th>English name</th>\n",
              "      <th>Type</th>\n",
              "      <th>Episodes</th>\n",
              "      <th>Premiered</th>\n",
              "      <th>Producers</th>\n",
              "      <th>Studios</th>\n",
              "      <th>Source</th>\n",
              "      <th>Duration</th>\n",
              "      <th>Rating</th>\n",
              "      <th>Ranked</th>\n",
              "      <th>Members</th>\n",
              "      <th>Favorites</th>\n",
              "      <th>Completed</th>\n",
              "      <th>On-Hold</th>\n",
              "      <th>synopsis</th>\n",
              "    </tr>\n",
              "  </thead>\n",
              "  <tbody>\n",
              "    <tr>\n",
              "      <th>0</th>\n",
              "      <td>1</td>\n",
              "      <td>Cowboy Bebop</td>\n",
              "      <td>8.78</td>\n",
              "      <td>Action, Adventure, Comedy, Drama, Sci-Fi, Space</td>\n",
              "      <td>Cowboy Bebop</td>\n",
              "      <td>TV</td>\n",
              "      <td>26</td>\n",
              "      <td>Spring 1998</td>\n",
              "      <td>Bandai Visual</td>\n",
              "      <td>Sunrise</td>\n",
              "      <td>Original</td>\n",
              "      <td>24 min. per ep.</td>\n",
              "      <td>R - 17+ (violence &amp; profanity)</td>\n",
              "      <td>28.0</td>\n",
              "      <td>1251960</td>\n",
              "      <td>61971</td>\n",
              "      <td>718161</td>\n",
              "      <td>71513</td>\n",
              "      <td>In the year 2071, humanity has colonized sever...</td>\n",
              "    </tr>\n",
              "    <tr>\n",
              "      <th>1</th>\n",
              "      <td>5</td>\n",
              "      <td>Cowboy Bebop: Tengoku no Tobira</td>\n",
              "      <td>8.39</td>\n",
              "      <td>Action, Drama, Mystery, Sci-Fi, Space</td>\n",
              "      <td>Cowboy Bebop:The Movie</td>\n",
              "      <td>Movie</td>\n",
              "      <td>1</td>\n",
              "      <td>Unknown</td>\n",
              "      <td>Sunrise, Bandai Visual</td>\n",
              "      <td>Bones</td>\n",
              "      <td>Original</td>\n",
              "      <td>1 hr. 55 min.</td>\n",
              "      <td>R - 17+ (violence &amp; profanity)</td>\n",
              "      <td>159.0</td>\n",
              "      <td>273145</td>\n",
              "      <td>1174</td>\n",
              "      <td>208333</td>\n",
              "      <td>1935</td>\n",
              "      <td>other day, another bounty—such is the life of ...</td>\n",
              "    </tr>\n",
              "  </tbody>\n",
              "</table>\n",
              "</div>\n",
              "    <div class=\"colab-df-buttons\">\n",
              "\n",
              "  <div class=\"colab-df-container\">\n",
              "    <button class=\"colab-df-convert\" onclick=\"convertToInteractive('df-cc8db5c9-319b-4f77-b322-c6bbbc466059')\"\n",
              "            title=\"Convert this dataframe to an interactive table.\"\n",
              "            style=\"display:none;\">\n",
              "\n",
              "  <svg xmlns=\"http://www.w3.org/2000/svg\" height=\"24px\" viewBox=\"0 -960 960 960\">\n",
              "    <path d=\"M120-120v-720h720v720H120Zm60-500h600v-160H180v160Zm220 220h160v-160H400v160Zm0 220h160v-160H400v160ZM180-400h160v-160H180v160Zm440 0h160v-160H620v160ZM180-180h160v-160H180v160Zm440 0h160v-160H620v160Z\"/>\n",
              "  </svg>\n",
              "    </button>\n",
              "\n",
              "  <style>\n",
              "    .colab-df-container {\n",
              "      display:flex;\n",
              "      gap: 12px;\n",
              "    }\n",
              "\n",
              "    .colab-df-convert {\n",
              "      background-color: #E8F0FE;\n",
              "      border: none;\n",
              "      border-radius: 50%;\n",
              "      cursor: pointer;\n",
              "      display: none;\n",
              "      fill: #1967D2;\n",
              "      height: 32px;\n",
              "      padding: 0 0 0 0;\n",
              "      width: 32px;\n",
              "    }\n",
              "\n",
              "    .colab-df-convert:hover {\n",
              "      background-color: #E2EBFA;\n",
              "      box-shadow: 0px 1px 2px rgba(60, 64, 67, 0.3), 0px 1px 3px 1px rgba(60, 64, 67, 0.15);\n",
              "      fill: #174EA6;\n",
              "    }\n",
              "\n",
              "    .colab-df-buttons div {\n",
              "      margin-bottom: 4px;\n",
              "    }\n",
              "\n",
              "    [theme=dark] .colab-df-convert {\n",
              "      background-color: #3B4455;\n",
              "      fill: #D2E3FC;\n",
              "    }\n",
              "\n",
              "    [theme=dark] .colab-df-convert:hover {\n",
              "      background-color: #434B5C;\n",
              "      box-shadow: 0px 1px 3px 1px rgba(0, 0, 0, 0.15);\n",
              "      filter: drop-shadow(0px 1px 2px rgba(0, 0, 0, 0.3));\n",
              "      fill: #FFFFFF;\n",
              "    }\n",
              "  </style>\n",
              "\n",
              "    <script>\n",
              "      const buttonEl =\n",
              "        document.querySelector('#df-cc8db5c9-319b-4f77-b322-c6bbbc466059 button.colab-df-convert');\n",
              "      buttonEl.style.display =\n",
              "        google.colab.kernel.accessAllowed ? 'block' : 'none';\n",
              "\n",
              "      async function convertToInteractive(key) {\n",
              "        const element = document.querySelector('#df-cc8db5c9-319b-4f77-b322-c6bbbc466059');\n",
              "        const dataTable =\n",
              "          await google.colab.kernel.invokeFunction('convertToInteractive',\n",
              "                                                    [key], {});\n",
              "        if (!dataTable) return;\n",
              "\n",
              "        const docLinkHtml = 'Like what you see? Visit the ' +\n",
              "          '<a target=\"_blank\" href=https://colab.research.google.com/notebooks/data_table.ipynb>data table notebook</a>'\n",
              "          + ' to learn more about interactive tables.';\n",
              "        element.innerHTML = '';\n",
              "        dataTable['output_type'] = 'display_data';\n",
              "        await google.colab.output.renderOutput(dataTable, element);\n",
              "        const docLink = document.createElement('div');\n",
              "        docLink.innerHTML = docLinkHtml;\n",
              "        element.appendChild(docLink);\n",
              "      }\n",
              "    </script>\n",
              "  </div>\n",
              "\n",
              "\n",
              "<div id=\"df-b49fbc12-b89d-42f4-bb8c-22a1f9601ca9\">\n",
              "  <button class=\"colab-df-quickchart\" onclick=\"quickchart('df-b49fbc12-b89d-42f4-bb8c-22a1f9601ca9')\"\n",
              "            title=\"Suggest charts\"\n",
              "            style=\"display:none;\">\n",
              "\n",
              "<svg xmlns=\"http://www.w3.org/2000/svg\" height=\"24px\"viewBox=\"0 0 24 24\"\n",
              "     width=\"24px\">\n",
              "    <g>\n",
              "        <path d=\"M19 3H5c-1.1 0-2 .9-2 2v14c0 1.1.9 2 2 2h14c1.1 0 2-.9 2-2V5c0-1.1-.9-2-2-2zM9 17H7v-7h2v7zm4 0h-2V7h2v10zm4 0h-2v-4h2v4z\"/>\n",
              "    </g>\n",
              "</svg>\n",
              "  </button>\n",
              "\n",
              "<style>\n",
              "  .colab-df-quickchart {\n",
              "      --bg-color: #E8F0FE;\n",
              "      --fill-color: #1967D2;\n",
              "      --hover-bg-color: #E2EBFA;\n",
              "      --hover-fill-color: #174EA6;\n",
              "      --disabled-fill-color: #AAA;\n",
              "      --disabled-bg-color: #DDD;\n",
              "  }\n",
              "\n",
              "  [theme=dark] .colab-df-quickchart {\n",
              "      --bg-color: #3B4455;\n",
              "      --fill-color: #D2E3FC;\n",
              "      --hover-bg-color: #434B5C;\n",
              "      --hover-fill-color: #FFFFFF;\n",
              "      --disabled-bg-color: #3B4455;\n",
              "      --disabled-fill-color: #666;\n",
              "  }\n",
              "\n",
              "  .colab-df-quickchart {\n",
              "    background-color: var(--bg-color);\n",
              "    border: none;\n",
              "    border-radius: 50%;\n",
              "    cursor: pointer;\n",
              "    display: none;\n",
              "    fill: var(--fill-color);\n",
              "    height: 32px;\n",
              "    padding: 0;\n",
              "    width: 32px;\n",
              "  }\n",
              "\n",
              "  .colab-df-quickchart:hover {\n",
              "    background-color: var(--hover-bg-color);\n",
              "    box-shadow: 0 1px 2px rgba(60, 64, 67, 0.3), 0 1px 3px 1px rgba(60, 64, 67, 0.15);\n",
              "    fill: var(--button-hover-fill-color);\n",
              "  }\n",
              "\n",
              "  .colab-df-quickchart-complete:disabled,\n",
              "  .colab-df-quickchart-complete:disabled:hover {\n",
              "    background-color: var(--disabled-bg-color);\n",
              "    fill: var(--disabled-fill-color);\n",
              "    box-shadow: none;\n",
              "  }\n",
              "\n",
              "  .colab-df-spinner {\n",
              "    border: 2px solid var(--fill-color);\n",
              "    border-color: transparent;\n",
              "    border-bottom-color: var(--fill-color);\n",
              "    animation:\n",
              "      spin 1s steps(1) infinite;\n",
              "  }\n",
              "\n",
              "  @keyframes spin {\n",
              "    0% {\n",
              "      border-color: transparent;\n",
              "      border-bottom-color: var(--fill-color);\n",
              "      border-left-color: var(--fill-color);\n",
              "    }\n",
              "    20% {\n",
              "      border-color: transparent;\n",
              "      border-left-color: var(--fill-color);\n",
              "      border-top-color: var(--fill-color);\n",
              "    }\n",
              "    30% {\n",
              "      border-color: transparent;\n",
              "      border-left-color: var(--fill-color);\n",
              "      border-top-color: var(--fill-color);\n",
              "      border-right-color: var(--fill-color);\n",
              "    }\n",
              "    40% {\n",
              "      border-color: transparent;\n",
              "      border-right-color: var(--fill-color);\n",
              "      border-top-color: var(--fill-color);\n",
              "    }\n",
              "    60% {\n",
              "      border-color: transparent;\n",
              "      border-right-color: var(--fill-color);\n",
              "    }\n",
              "    80% {\n",
              "      border-color: transparent;\n",
              "      border-right-color: var(--fill-color);\n",
              "      border-bottom-color: var(--fill-color);\n",
              "    }\n",
              "    90% {\n",
              "      border-color: transparent;\n",
              "      border-bottom-color: var(--fill-color);\n",
              "    }\n",
              "  }\n",
              "</style>\n",
              "\n",
              "  <script>\n",
              "    async function quickchart(key) {\n",
              "      const quickchartButtonEl =\n",
              "        document.querySelector('#' + key + ' button');\n",
              "      quickchartButtonEl.disabled = true;  // To prevent multiple clicks.\n",
              "      quickchartButtonEl.classList.add('colab-df-spinner');\n",
              "      try {\n",
              "        const charts = await google.colab.kernel.invokeFunction(\n",
              "            'suggestCharts', [key], {});\n",
              "      } catch (error) {\n",
              "        console.error('Error during call to suggestCharts:', error);\n",
              "      }\n",
              "      quickchartButtonEl.classList.remove('colab-df-spinner');\n",
              "      quickchartButtonEl.classList.add('colab-df-quickchart-complete');\n",
              "    }\n",
              "    (() => {\n",
              "      let quickchartButtonEl =\n",
              "        document.querySelector('#df-b49fbc12-b89d-42f4-bb8c-22a1f9601ca9 button');\n",
              "      quickchartButtonEl.style.display =\n",
              "        google.colab.kernel.accessAllowed ? 'block' : 'none';\n",
              "    })();\n",
              "  </script>\n",
              "</div>\n",
              "    </div>\n",
              "  </div>\n"
            ],
            "text/plain": [
              "   MAL_ID                             Name Score  \\\n",
              "0       1                     Cowboy Bebop  8.78   \n",
              "1       5  Cowboy Bebop: Tengoku no Tobira  8.39   \n",
              "\n",
              "                                            Genres            English name  \\\n",
              "0  Action, Adventure, Comedy, Drama, Sci-Fi, Space            Cowboy Bebop   \n",
              "1            Action, Drama, Mystery, Sci-Fi, Space  Cowboy Bebop:The Movie   \n",
              "\n",
              "    Type Episodes    Premiered               Producers  Studios    Source  \\\n",
              "0     TV       26  Spring 1998           Bandai Visual  Sunrise  Original   \n",
              "1  Movie        1      Unknown  Sunrise, Bandai Visual    Bones  Original   \n",
              "\n",
              "          Duration                          Rating Ranked  Members  Favorites  \\\n",
              "0  24 min. per ep.  R - 17+ (violence & profanity)   28.0  1251960      61971   \n",
              "1    1 hr. 55 min.  R - 17+ (violence & profanity)  159.0   273145       1174   \n",
              "\n",
              "   Completed  On-Hold                                           synopsis  \n",
              "0     718161    71513  In the year 2071, humanity has colonized sever...  \n",
              "1     208333     1935  other day, another bounty—such is the life of ...  "
            ]
          },
          "execution_count": 4,
          "metadata": {},
          "output_type": "execute_result"
        }
      ],
      "source": [
        "pre_merged_anime = pd.read_csv('drive/MyDrive/pre_merged_anime.csv').dropna()[:10000]\n",
        "print(pre_merged_anime.shape)\n",
        "pre_merged_anime.head(2)"
      ]
    },
    {
      "cell_type": "markdown",
      "id": "c3179f72",
      "metadata": {
        "id": "c3179f72"
      },
      "source": [
        "### 2.2. Let's check does the text in 'synopsis' column have unprintable symbols."
      ]
    },
    {
      "cell_type": "code",
      "execution_count": 5,
      "id": "3d83533d",
      "metadata": {
        "colab": {
          "base_uri": "https://localhost:8080/",
          "height": 105
        },
        "id": "3d83533d",
        "outputId": "d312c4c6-a03a-4d49-b682-ef76adb5781c"
      },
      "outputs": [
        {
          "data": {
            "application/vnd.google.colaboratory.intrinsic+json": {
              "type": "string"
            },
            "text/plain": [
              "'— — — — — é — — — — — ’ — — — — — — — — — — — — ä — — — é — — — — — — — — — Ü Ü Ü — — — — — — é ō ō — — — — é ’ é ’ ’ — — — — — — — — ’ — — … — — — — — — — — — — — — — — — — — — — — ’ — ☆ ï — — — — — ½ — — — — — — — — — — — — — — — — — é é é é é é é ’ “ ” — — — — — — — — — — — — É è É è — — — — — — — — — — ☆ ’ — ’ — — — — — — — ’ — — — — — — — — — — — — — — — — — — ♥ — — — — — — é — — ± — — — — — — — — — — — — — — — — — — — — — “ ’ — — — — — — — — — — — — — ☆ ☆ — — — — — — — — — — — — ’ ’ — — é é ’ é é é ’ — — — — — ’ é — — — ä ä ä — — — — ’ – ’ “ ” — – ō ō ō — — — — — ’ ’ — — — ― ― — — — — — — — — — — — — — — — — — — — ’ ’ ’ ’ ’ … ’ ’ ’ ’ ’ — — — — — — — — — — — ’ — ’ ’ — — — ’ ’ ’ ’ ’ — — — — — — — é ï — — — — — — — — ’ ’ ’ — — — — — ’ ’ — — — — é — \\u2060 — é — — — — — — — ’ — — — ’ ° — — — — — — — — — — — é é — é — é é é é é — é — — — … — — — — — — — — — — — ç è — — — — — — — — — — — … ’ — — — — — — — — — — — — — — — “ ” “ ” ’ ’ “ ” “ ” — … — — — — — — — — — — — — — — ’ è è － “ ” “ ” ’ “ ” ’ ’ “ ” í — — — — — — — — — ’ … — — — — — — — — — — é é é é — — — — é — é — é — é — ’ ’ ’ — — ’ é ’ — — — — … － — — “ ” ’ — — — ’ ’ – … ’ ä ü — ’ ’ — — — • • • • • • • • • • • • ’ — — ’ … — – – — — — — — ç — ’ — — — — — — — — — — — — ☆ — — — ’ ’ ’ – – “ ” é — — … ’ … – — — — — — … ’ ° — — — — ’ é — ñ — ñ ’ — — — ★ — — — ’ ’ — “ ” … – … … — ’ – ’ ’ ’ — — — — — — — ’ — — — … “ ” “ ” … — Ö — — — – – – — é é \\u2060 — é é é — — — — “ ” — — – — — ’ ’ — — — — ’ ’ — — — — — é — — — — — – — — — — — ’ ’ — — — — — — — — — — — — — — — — — — — ‘ — — … ’ — — 若 木 未 生 杜 真 琴 高 河 ゆ ん 空 の 者 妖 の 者 術 士 ’ “ ” … — — — — — — é — — — — — é — ° ō ō ° ° ō ° ° ō ō — — — é é é é é ’ ’ — — — … — — — — — — ’ — – — — — – – – — — — — — – – ü ü ü ü — ’ … — é — — “ ” “ ” — — — — — – ’ 眉 村 卓 – ’ ’ ’ á “ ” “ ” 朱 天 童 子 四 天 王 ō — — — — — — — — É è — — — ü ü ü – … — — — — — — — ’ — ☆ — — — — — — ’ — 幸 福 の 科 学 ° ° ° — — ☆ — — 道 原 か つ み 麻 城 ゆ う ü — ü ä — — — — ō ō ō ç è — — ’ × ’ — — — ’ — 百 瀬 ヨ シ ユ キ — — “ ” — ’ ’ ’ ō — — ° ’ ’ ’ é é — é — é é é — ’ ’ ’ 「 」 — … ’ – ’ ’ ’ ☆ ō ō ō “ ” — ’ ’ — — – Ō ō ō — — — — — ’ ’ — ’ 闘 龍 極 意 書 ’ ’ ’ … ‘ ’ ‘ ’ ’ ’ ’ — “ ” ’ ’ ’ “ ” ’ “ ” “ ” ’ — — — — — — — — — ä … … ’ ’ ’ “ — … ï – – é — ’ — ï “ ” ’ “ ” ’ ō ’ … — ’ — — — — é é — — ’ ’ ’ ’ ’ ° — — — † — — — ’ ’ — — — — ō — — — ō ’ ’ – – ’ ’ – “ ” … … — ☆ — — — é — — é ☆ ☆ ō ū ī — — ’ — — ½ “ ” ō é é ’ ’ ’ ’ ’ — — — — — — ï é ū ū ō — — ’ ’ ’ ’ ’ ’ ’ — É è ’ ’ — é ū ō ’ — — — — — ’ ’ — — ’ ’ “ ” — — ’ — — — — ł ’ — ’ ’ ’ ’ — — — é é — — … ’ ’ ’ ’ ä — — ’ “ ” “ ” “ ” “ ” “ ” “ ” é “ è ” “ ” é é é é é é é — — ’ ’ — — ド ラ マ 「 ス ペ シ ャ ル シ ー ト へ よ う こ そ 」 — — た が み よ し ひ さ — ç ã ビ ッ グ 錠 é é — — — — ‘ 「 」 メ イ ド の 午 後 愛 の ム チ 編 「 」 メ イ ド の 午 後 二 人 き り の 昼 下 が り 編 「 」 メ イ ド の 午 後 最 後 の 夜 編 「 」 バ タ フ ラ イ 伯 爵 夫 人 の 優 雅 な 一 日 序 章 「 」 バ タ フ ラ イ 伯 爵 夫 人 の 優 雅 な 一 日 第 章 「 」 バ タ フ ラ イ 伯 爵 夫 人 の 優 雅 な 一 日 第 章 「 」 バ タ フ ラ イ 伯 爵 夫 人 の 優 雅 な 一 日 最 終 章 — — — — — — é ’ ’ — ō ū — — — — — — — — ç ã ç ã ç ã ° — — — — — — — ç — — た ま — é — ë 森 妃 姫 子 引 き 籠 も り — — “ ” é ウ サ ビ ッ チ う さ ぎ — — ū ū — — ” 漫 才 — — é é — — — ★ é é — — ’ “ ” “ ” “ ” ō ’ ’ ’ ’ ’ – – ’ ’ ’ ’ “ ” “ ” ’ “ ” “ ” ’ ’ ’ ’ — — — ’ ‼ ’ ß — — — — — … ū ō — — — — — — — — — — — — — — — — — — é é é — — — — ’ — ’ 何 進 — ō – ’ ’ – – — — — — — — — — ’ ’ ō — — — — — – – ’ – é é — — — — é é é — — ō Ω — — … ’ ’ — ï … – “ ” “ ” ’ … É é “ ” ’ † — — — é é é é — — — ’ 第 三 の 皿 オ ッ ペ ル と 象 眠 い 町 é é ’ — — — ’ — — … â è — — — é é — — — — — — — — ° — — “ ” é é é ’ — — ’ é — — — — ☆ 鶺 鴒 診 断 鶺 鴒 余 暇 — — … — “ ’ ” â ” ” ― ― “ — — — — — ’ — — — ° ’ † ☆ ★ ’ ° — — サ ー ブ — — — — — — é é — μ — — — — … — ’ — — — — — — — — — — — — ’ — ’ ’ ’ ’ ’ é à ō ō — — ’ — “ ” ’ ’ — — — ’ — — — — — — ’ ’ ’ ’ … — † ヒ カ リ ・ 新 た な る 旅 立 ち ニ ビ ジ ム ・ 史 上 最 大 の 危 機 — — ü ä “ ” “ ” — \\u2060 — — — — — é ’ ’ — — — — — — — — — — ’ — — リ ル ル ’ ’ – — — — — – ä ’ — — — é é ’ 카 프 박 사 ü é é — — — é é ½ — — ’ ō é — ï “ ” ’ ’ — é µ — é é ウ ル 祭 Ⅲ — — — — — — ’ ★ é ç è “ ” é — ’ ’ ’ ’ — — ū — ☆ ☆ ☆ ♪ ♪ é — — — ’ “ ” ’ — — — — — — — ’ — — — ★ — ★ ’ é — É É É – — — — — ’ ’ 朗 読 少 年 朗 読 兄 弟 も う 一 つ の エ ン デ ィ ン グ 囚 わ れ の 安 藤 な つ － — — ä — — — — — ♪ ♪ — — ñ è ō ō ō — μ é é é — — ☆ ♪ ア ニ メ ・ ・ コ ミ ッ ク レ ン タ マ ン － ☆ — \\u200b à à à — — — — — — — … ° ° — … — — — 坂 本 渉 太 “ ” — — — — ° 謎 の 老 婆 名 奉 行 ・ 文 さ ん 女 警 部 ・ 神 宮 寺 葉 子 鈴 森 な ん で も 相 談 所 — — — — — ’ é é — — 少 女 病 ō — é × × — — — — — — — — — — ’ — — — — — ō ō — — — — — — ’ ’ \\u200b — — — — … μ — — — † † — — μ é † † † † — — — — ç — — — — — ☆ ☆ ’ ’ — — — — — — — 照 英 ū — ü — — é — — — — — — — — — — ï — — — — — — — — ’ ’ ’ — — ’ ’ ’ ’ — — — — — — — \\u2060 — — — — — – ’ ’ — — — — ä — — — — — — — — ’ — — — — — é é 鎮 座 ♡ チ ャ ン プ ア ッ プ ル — ワ ン ル ー ム 叙 事 詩 — — — é — — ° — ’ — — 飯 野 真 澄 今 井 弓 子 ö — ³ — — ’ ’ ’ — — ’ — — — — — — ë — — — è — ü — — — — — — 夏 の わ ず ら い 永 倉 新 八 最 強 伝 説 – — ’ ’ ’ ’ é μ μ é — “ ’ à — — — — — – – ’ Ψ — ラ マ ー ズ ’ — — バ カ じ ゃ 勝 て な い の よ ’ — — — — — — — — — — — — 小 沢 昭 巳 — — キ ル ミ ー ベ イ ベ ー ・ ス ー パ ー ☆ ï é é é é é é é é é é ア ニ メ ・ ・ コ ミ ッ ク レ ン タ マ ン ä — — é — — ☆ — é “ ” é μ — — — “ ” é — — — — é — μ — 男 宣 言 — é — — — — ☆ ☆ é — — — — — “ ” — — ☆ ♪ — — — — — — — — — é é — — — — — — ’ — — — ’ ’ ’ ’ — ’ — — ’ — — — — — — — — “ ” ’ ’ 潔 純 真 夜 — é — ï — — ’ — — — — — ’ ō ’ “ ” — — — ’ … ’ ’ ’ … ’ — — ’ – – é — — — — — ū — — — — é “ ” — — — — — — — — 「 」 ” é é ’ é Ō — — é é é é 兔 斯 基 … — — ☆ ☆ — — ‘ \\xad \\xad — — — — — — — — — — — — ☆ ― ― … … “ ” ― ― — — ’ — — — “ ” — — — — ☆ μ μ μ μ μ ï — … “ ” “ ” “ ” … — — — — — — — ’ — ’ ’ ’ ’ é — — é ’ ’ é ’ — — 川 村 元 気 益 子 悠 紀 ’ — — — — θ — — — — — — — — â â — ☆ — — — ộ à μ — é ü — … — — — — — ☆ ’ ’ — — — — — — — ’ — — — — ’ — — ’ ’ ’ — — ’ ’ — ï — — — — — — — — — — ’ — é é é — — — ’ — — — — — — — — ハ ー バ ー テ イ ル ☆ ☆ — — — — — — — ☆ ☆ ☆ ☆ ☆ ☆ ’ ’ — ’ ’ ’ é ’ é — ’ – ï — ë ’ — ‘ ’ — — — — 猪 子 育 代 — — 赤 猫 — 水 猫 ‘ ’ ‘ ’ ‘ ’ é カ ル マ 鈴 木 伸 一 青 春 ミ ッ ド ナ イ ト ラ ン ナ ー ズ 潮 騒 — — — — é é ç è — — — — ’ ’ – – — — — ’ ’ ’ “ ” ’ ’ — キ ド ・ ア イ ぶ ん け か な 真 依 子 — γ α 手 塚 治 虫 ・ 世 紀 末 へ の メ ッ セ ー ジ — — ␣ — ’ — — ō — — — ☆ ï — ’ ☆ — — ‘ ’ ‘ ’ ‘ ’ ‘ ’ ★ ― ― — — — — — – – é – – – – — — è “ ” — — — — — — — — — — — — ’ — μ — — — — — — — — — é ’ る る ♪ の り の り ♪ の り ス タ ū é — — é é 青 青 草 原 — é é ā ’ ★ ☆ ★ — — – — — — — — — — — ＊ ’ — — “ ” — — — — — ï — — \\u2060 — — é — — — — — è — 白 雪 と ゼ ン 、 は じ め て の 城 下 町 デ ー ト ラ ジ 王 子 幼 少 の み ぎ り 始 ま り の ゼ ン ＆ ミ ツ ヒ デ ＆ 木 々 — — — — — — — — — — — ° ℃ — — — — ñ — — — — — '"
            ]
          },
          "execution_count": 5,
          "metadata": {},
          "output_type": "execute_result"
        }
      ],
      "source": [
        "unprintable_symbols=''\n",
        "for i in pre_merged_anime['synopsis']:\n",
        "    for j in i:\n",
        "        if j not in string.printable:\n",
        "            unprintable_symbols+=f'{j} '\n",
        "unprintable_symbols"
      ]
    },
    {
      "cell_type": "markdown",
      "id": "74bfd6e2",
      "metadata": {
        "id": "74bfd6e2"
      },
      "source": [
        "Let's write function which delete unprintable symbols."
      ]
    },
    {
      "cell_type": "code",
      "execution_count": 6,
      "id": "d5ba33ad",
      "metadata": {
        "id": "d5ba33ad"
      },
      "outputs": [],
      "source": [
        "def clean_text(text):\n",
        "    text = ''.join(filter(lambda x: x in string.printable, text))\n",
        "    text = re.sub(r'\\s{2,}', ' ', text).strip()\n",
        "    return text.strip()"
      ]
    },
    {
      "cell_type": "markdown",
      "id": "1e554138",
      "metadata": {
        "id": "1e554138"
      },
      "source": [
        "### 2.3. We will use our own description for each anime. Let's write this function."
      ]
    },
    {
      "cell_type": "code",
      "execution_count": 7,
      "id": "fa6ef8ce",
      "metadata": {
        "id": "fa6ef8ce"
      },
      "outputs": [],
      "source": [
        "def get_anime_description(anime_row):\n",
        "    anime_type = \"TV Show\" if anime_row[\"Type\"] == \"TV\" else anime_row[\"Type\"]\n",
        "    description = (\n",
        "        f\"{anime_row['Name']} is a {anime_type}.\\n\"\n",
        "        f\"Synopsis: {anime_row['synopsis']}\\n\"\n",
        "        f\"It was produced by {anime_row['Producers']} and it is from {anime_row['Studios']} Studio.\\n\"\n",
        "        f\"Its source is {anime_row['Source']}.\\n\"\n",
        "        f\"It premiered in {anime_row['Premiered']}.\\n\"\n",
        "        f\"Its genres are {anime_row['Genres']}\\n\"\n",
        "    )\n",
        "    return clean_text(description)\n"
      ]
    },
    {
      "cell_type": "markdown",
      "id": "0b3e72f0",
      "metadata": {
        "id": "0b3e72f0"
      },
      "source": [
        "### 2.4. Let's apply this function to our dataset."
      ]
    },
    {
      "cell_type": "code",
      "execution_count": 8,
      "id": "376e7066",
      "metadata": {
        "id": "376e7066"
      },
      "outputs": [],
      "source": [
        "pre_merged_anime['generated_description'] = pre_merged_anime.apply(get_anime_description, axis=1)\n"
      ]
    },
    {
      "cell_type": "code",
      "execution_count": 85,
      "id": "YwLJ9bMiVM-_",
      "metadata": {
        "colab": {
          "base_uri": "https://localhost:8080/",
          "height": 424
        },
        "id": "YwLJ9bMiVM-_",
        "outputId": "cc8c4bdb-6af3-4488-fdab-0ce513f0f789"
      },
      "outputs": [
        {
          "data": {
            "text/html": [
              "\n",
              "  <div id=\"df-3b05ae9e-674d-4fc4-a82b-2da3829f928b\" class=\"colab-df-container\">\n",
              "    <div>\n",
              "<style scoped>\n",
              "    .dataframe tbody tr th:only-of-type {\n",
              "        vertical-align: middle;\n",
              "    }\n",
              "\n",
              "    .dataframe tbody tr th {\n",
              "        vertical-align: top;\n",
              "    }\n",
              "\n",
              "    .dataframe thead th {\n",
              "        text-align: right;\n",
              "    }\n",
              "</style>\n",
              "<table border=\"1\" class=\"dataframe\">\n",
              "  <thead>\n",
              "    <tr style=\"text-align: right;\">\n",
              "      <th></th>\n",
              "      <th>MAL_ID</th>\n",
              "      <th>generated_description</th>\n",
              "    </tr>\n",
              "  </thead>\n",
              "  <tbody>\n",
              "    <tr>\n",
              "      <th>0</th>\n",
              "      <td>1</td>\n",
              "      <td>Cowboy Bebop is a TV Show.\\nSynopsis: In the y...</td>\n",
              "    </tr>\n",
              "    <tr>\n",
              "      <th>1</th>\n",
              "      <td>5</td>\n",
              "      <td>Cowboy Bebop: Tengoku no Tobira is a Movie.\\nS...</td>\n",
              "    </tr>\n",
              "    <tr>\n",
              "      <th>2</th>\n",
              "      <td>6</td>\n",
              "      <td>Trigun is a TV Show.\\nSynopsis: Vash the Stamp...</td>\n",
              "    </tr>\n",
              "    <tr>\n",
              "      <th>3</th>\n",
              "      <td>7</td>\n",
              "      <td>Witch Hunter Robin is a TV Show.\\nSynopsis: ch...</td>\n",
              "    </tr>\n",
              "    <tr>\n",
              "      <th>4</th>\n",
              "      <td>8</td>\n",
              "      <td>Bouken Ou Beet is a TV Show.\\nSynopsis: It is ...</td>\n",
              "    </tr>\n",
              "    <tr>\n",
              "      <th>...</th>\n",
              "      <td>...</td>\n",
              "      <td>...</td>\n",
              "    </tr>\n",
              "    <tr>\n",
              "      <th>9995</th>\n",
              "      <td>31698</td>\n",
              "      <td>Zhan Long Si Qu is a TV Show.\\nSynopsis: Go fo...</td>\n",
              "    </tr>\n",
              "    <tr>\n",
              "      <th>9996</th>\n",
              "      <td>31699</td>\n",
              "      <td>Good Morning!!! Doronjo is a TV Show.\\nSynopsi...</td>\n",
              "    </tr>\n",
              "    <tr>\n",
              "      <th>9997</th>\n",
              "      <td>31700</td>\n",
              "      <td>Xiao Taiji is a TV Show.\\nSynopsis: No synopsi...</td>\n",
              "    </tr>\n",
              "    <tr>\n",
              "      <th>9998</th>\n",
              "      <td>31701</td>\n",
              "      <td>Wu Lan Qi Qi Ge is a TV Show.\\nSynopsis: No sy...</td>\n",
              "    </tr>\n",
              "    <tr>\n",
              "      <th>9999</th>\n",
              "      <td>31704</td>\n",
              "      <td>One Punch Man: Road to Hero is a OVA.\\nSynopsi...</td>\n",
              "    </tr>\n",
              "  </tbody>\n",
              "</table>\n",
              "<p>10000 rows × 2 columns</p>\n",
              "</div>\n",
              "    <div class=\"colab-df-buttons\">\n",
              "\n",
              "  <div class=\"colab-df-container\">\n",
              "    <button class=\"colab-df-convert\" onclick=\"convertToInteractive('df-3b05ae9e-674d-4fc4-a82b-2da3829f928b')\"\n",
              "            title=\"Convert this dataframe to an interactive table.\"\n",
              "            style=\"display:none;\">\n",
              "\n",
              "  <svg xmlns=\"http://www.w3.org/2000/svg\" height=\"24px\" viewBox=\"0 -960 960 960\">\n",
              "    <path d=\"M120-120v-720h720v720H120Zm60-500h600v-160H180v160Zm220 220h160v-160H400v160Zm0 220h160v-160H400v160ZM180-400h160v-160H180v160Zm440 0h160v-160H620v160ZM180-180h160v-160H180v160Zm440 0h160v-160H620v160Z\"/>\n",
              "  </svg>\n",
              "    </button>\n",
              "\n",
              "  <style>\n",
              "    .colab-df-container {\n",
              "      display:flex;\n",
              "      gap: 12px;\n",
              "    }\n",
              "\n",
              "    .colab-df-convert {\n",
              "      background-color: #E8F0FE;\n",
              "      border: none;\n",
              "      border-radius: 50%;\n",
              "      cursor: pointer;\n",
              "      display: none;\n",
              "      fill: #1967D2;\n",
              "      height: 32px;\n",
              "      padding: 0 0 0 0;\n",
              "      width: 32px;\n",
              "    }\n",
              "\n",
              "    .colab-df-convert:hover {\n",
              "      background-color: #E2EBFA;\n",
              "      box-shadow: 0px 1px 2px rgba(60, 64, 67, 0.3), 0px 1px 3px 1px rgba(60, 64, 67, 0.15);\n",
              "      fill: #174EA6;\n",
              "    }\n",
              "\n",
              "    .colab-df-buttons div {\n",
              "      margin-bottom: 4px;\n",
              "    }\n",
              "\n",
              "    [theme=dark] .colab-df-convert {\n",
              "      background-color: #3B4455;\n",
              "      fill: #D2E3FC;\n",
              "    }\n",
              "\n",
              "    [theme=dark] .colab-df-convert:hover {\n",
              "      background-color: #434B5C;\n",
              "      box-shadow: 0px 1px 3px 1px rgba(0, 0, 0, 0.15);\n",
              "      filter: drop-shadow(0px 1px 2px rgba(0, 0, 0, 0.3));\n",
              "      fill: #FFFFFF;\n",
              "    }\n",
              "  </style>\n",
              "\n",
              "    <script>\n",
              "      const buttonEl =\n",
              "        document.querySelector('#df-3b05ae9e-674d-4fc4-a82b-2da3829f928b button.colab-df-convert');\n",
              "      buttonEl.style.display =\n",
              "        google.colab.kernel.accessAllowed ? 'block' : 'none';\n",
              "\n",
              "      async function convertToInteractive(key) {\n",
              "        const element = document.querySelector('#df-3b05ae9e-674d-4fc4-a82b-2da3829f928b');\n",
              "        const dataTable =\n",
              "          await google.colab.kernel.invokeFunction('convertToInteractive',\n",
              "                                                    [key], {});\n",
              "        if (!dataTable) return;\n",
              "\n",
              "        const docLinkHtml = 'Like what you see? Visit the ' +\n",
              "          '<a target=\"_blank\" href=https://colab.research.google.com/notebooks/data_table.ipynb>data table notebook</a>'\n",
              "          + ' to learn more about interactive tables.';\n",
              "        element.innerHTML = '';\n",
              "        dataTable['output_type'] = 'display_data';\n",
              "        await google.colab.output.renderOutput(dataTable, element);\n",
              "        const docLink = document.createElement('div');\n",
              "        docLink.innerHTML = docLinkHtml;\n",
              "        element.appendChild(docLink);\n",
              "      }\n",
              "    </script>\n",
              "  </div>\n",
              "\n",
              "\n",
              "<div id=\"df-2efc0f0f-0225-4133-ad8f-5910f13ccfbf\">\n",
              "  <button class=\"colab-df-quickchart\" onclick=\"quickchart('df-2efc0f0f-0225-4133-ad8f-5910f13ccfbf')\"\n",
              "            title=\"Suggest charts\"\n",
              "            style=\"display:none;\">\n",
              "\n",
              "<svg xmlns=\"http://www.w3.org/2000/svg\" height=\"24px\"viewBox=\"0 0 24 24\"\n",
              "     width=\"24px\">\n",
              "    <g>\n",
              "        <path d=\"M19 3H5c-1.1 0-2 .9-2 2v14c0 1.1.9 2 2 2h14c1.1 0 2-.9 2-2V5c0-1.1-.9-2-2-2zM9 17H7v-7h2v7zm4 0h-2V7h2v10zm4 0h-2v-4h2v4z\"/>\n",
              "    </g>\n",
              "</svg>\n",
              "  </button>\n",
              "\n",
              "<style>\n",
              "  .colab-df-quickchart {\n",
              "      --bg-color: #E8F0FE;\n",
              "      --fill-color: #1967D2;\n",
              "      --hover-bg-color: #E2EBFA;\n",
              "      --hover-fill-color: #174EA6;\n",
              "      --disabled-fill-color: #AAA;\n",
              "      --disabled-bg-color: #DDD;\n",
              "  }\n",
              "\n",
              "  [theme=dark] .colab-df-quickchart {\n",
              "      --bg-color: #3B4455;\n",
              "      --fill-color: #D2E3FC;\n",
              "      --hover-bg-color: #434B5C;\n",
              "      --hover-fill-color: #FFFFFF;\n",
              "      --disabled-bg-color: #3B4455;\n",
              "      --disabled-fill-color: #666;\n",
              "  }\n",
              "\n",
              "  .colab-df-quickchart {\n",
              "    background-color: var(--bg-color);\n",
              "    border: none;\n",
              "    border-radius: 50%;\n",
              "    cursor: pointer;\n",
              "    display: none;\n",
              "    fill: var(--fill-color);\n",
              "    height: 32px;\n",
              "    padding: 0;\n",
              "    width: 32px;\n",
              "  }\n",
              "\n",
              "  .colab-df-quickchart:hover {\n",
              "    background-color: var(--hover-bg-color);\n",
              "    box-shadow: 0 1px 2px rgba(60, 64, 67, 0.3), 0 1px 3px 1px rgba(60, 64, 67, 0.15);\n",
              "    fill: var(--button-hover-fill-color);\n",
              "  }\n",
              "\n",
              "  .colab-df-quickchart-complete:disabled,\n",
              "  .colab-df-quickchart-complete:disabled:hover {\n",
              "    background-color: var(--disabled-bg-color);\n",
              "    fill: var(--disabled-fill-color);\n",
              "    box-shadow: none;\n",
              "  }\n",
              "\n",
              "  .colab-df-spinner {\n",
              "    border: 2px solid var(--fill-color);\n",
              "    border-color: transparent;\n",
              "    border-bottom-color: var(--fill-color);\n",
              "    animation:\n",
              "      spin 1s steps(1) infinite;\n",
              "  }\n",
              "\n",
              "  @keyframes spin {\n",
              "    0% {\n",
              "      border-color: transparent;\n",
              "      border-bottom-color: var(--fill-color);\n",
              "      border-left-color: var(--fill-color);\n",
              "    }\n",
              "    20% {\n",
              "      border-color: transparent;\n",
              "      border-left-color: var(--fill-color);\n",
              "      border-top-color: var(--fill-color);\n",
              "    }\n",
              "    30% {\n",
              "      border-color: transparent;\n",
              "      border-left-color: var(--fill-color);\n",
              "      border-top-color: var(--fill-color);\n",
              "      border-right-color: var(--fill-color);\n",
              "    }\n",
              "    40% {\n",
              "      border-color: transparent;\n",
              "      border-right-color: var(--fill-color);\n",
              "      border-top-color: var(--fill-color);\n",
              "    }\n",
              "    60% {\n",
              "      border-color: transparent;\n",
              "      border-right-color: var(--fill-color);\n",
              "    }\n",
              "    80% {\n",
              "      border-color: transparent;\n",
              "      border-right-color: var(--fill-color);\n",
              "      border-bottom-color: var(--fill-color);\n",
              "    }\n",
              "    90% {\n",
              "      border-color: transparent;\n",
              "      border-bottom-color: var(--fill-color);\n",
              "    }\n",
              "  }\n",
              "</style>\n",
              "\n",
              "  <script>\n",
              "    async function quickchart(key) {\n",
              "      const quickchartButtonEl =\n",
              "        document.querySelector('#' + key + ' button');\n",
              "      quickchartButtonEl.disabled = true;  // To prevent multiple clicks.\n",
              "      quickchartButtonEl.classList.add('colab-df-spinner');\n",
              "      try {\n",
              "        const charts = await google.colab.kernel.invokeFunction(\n",
              "            'suggestCharts', [key], {});\n",
              "      } catch (error) {\n",
              "        console.error('Error during call to suggestCharts:', error);\n",
              "      }\n",
              "      quickchartButtonEl.classList.remove('colab-df-spinner');\n",
              "      quickchartButtonEl.classList.add('colab-df-quickchart-complete');\n",
              "    }\n",
              "    (() => {\n",
              "      let quickchartButtonEl =\n",
              "        document.querySelector('#df-2efc0f0f-0225-4133-ad8f-5910f13ccfbf button');\n",
              "      quickchartButtonEl.style.display =\n",
              "        google.colab.kernel.accessAllowed ? 'block' : 'none';\n",
              "    })();\n",
              "  </script>\n",
              "</div>\n",
              "    </div>\n",
              "  </div>\n"
            ],
            "text/plain": [
              "      MAL_ID                              generated_description\n",
              "0          1  Cowboy Bebop is a TV Show.\\nSynopsis: In the y...\n",
              "1          5  Cowboy Bebop: Tengoku no Tobira is a Movie.\\nS...\n",
              "2          6  Trigun is a TV Show.\\nSynopsis: Vash the Stamp...\n",
              "3          7  Witch Hunter Robin is a TV Show.\\nSynopsis: ch...\n",
              "4          8  Bouken Ou Beet is a TV Show.\\nSynopsis: It is ...\n",
              "...      ...                                                ...\n",
              "9995   31698  Zhan Long Si Qu is a TV Show.\\nSynopsis: Go fo...\n",
              "9996   31699  Good Morning!!! Doronjo is a TV Show.\\nSynopsi...\n",
              "9997   31700  Xiao Taiji is a TV Show.\\nSynopsis: No synopsi...\n",
              "9998   31701  Wu Lan Qi Qi Ge is a TV Show.\\nSynopsis: No sy...\n",
              "9999   31704  One Punch Man: Road to Hero is a OVA.\\nSynopsi...\n",
              "\n",
              "[10000 rows x 2 columns]"
            ]
          },
          "execution_count": 85,
          "metadata": {},
          "output_type": "execute_result"
        }
      ],
      "source": [
        "pre_merged_anime[['MAL_ID','generated_description']]"
      ]
    },
    {
      "cell_type": "code",
      "execution_count": 9,
      "id": "8ecdb601",
      "metadata": {
        "colab": {
          "base_uri": "https://localhost:8080/",
          "height": 35
        },
        "id": "8ecdb601",
        "outputId": "d8b96b83-50db-493d-f6ac-5e9915268f3e"
      },
      "outputs": [
        {
          "data": {
            "application/vnd.google.colaboratory.intrinsic+json": {
              "type": "string"
            },
            "text/plain": [
              "''"
            ]
          },
          "execution_count": 9,
          "metadata": {},
          "output_type": "execute_result"
        }
      ],
      "source": [
        "unprintable_symbols=''\n",
        "for i in pre_merged_anime['generated_description']:\n",
        "    for j in i:\n",
        "        if j not in string.printable:\n",
        "            unprintable_symbols+=f'{j} '\n",
        "unprintable_symbols"
      ]
    },
    {
      "cell_type": "markdown",
      "id": "3c7a7f7e",
      "metadata": {
        "id": "3c7a7f7e"
      },
      "source": [
        "### 2.5. Let's downoad our second dataset"
      ]
    },
    {
      "cell_type": "code",
      "execution_count": 10,
      "id": "a4455cc3",
      "metadata": {
        "colab": {
          "base_uri": "https://localhost:8080/"
        },
        "id": "a4455cc3",
        "outputId": "4258582e-3f94-4d65-a7f5-21289467217f"
      },
      "outputs": [
        {
          "data": {
            "text/plain": [
              "(1000000, 3)"
            ]
          },
          "execution_count": 10,
          "metadata": {},
          "output_type": "execute_result"
        }
      ],
      "source": [
        "rating_complete = pd.read_csv('drive/MyDrive/rating_complete.csv').dropna()[:5000000]\n",
        "rating_complete.shape\n"
      ]
    },
    {
      "cell_type": "markdown",
      "id": "64b0883a",
      "metadata": {
        "id": "64b0883a"
      },
      "source": [
        "### 2.6. For some (unknown to me) reason we add additional column 'nps_score' to this DataFrame"
      ]
    },
    {
      "cell_type": "code",
      "execution_count": 11,
      "id": "c16c0e81",
      "metadata": {
        "colab": {
          "base_uri": "https://localhost:8080/",
          "height": 129
        },
        "id": "c16c0e81",
        "outputId": "5c155025-706f-4b82-9e72-41ed67595472"
      },
      "outputs": [
        {
          "name": "stdout",
          "output_type": "stream",
          "text": [
            "(511369, 4)\n"
          ]
        },
        {
          "data": {
            "text/html": [
              "\n",
              "  <div id=\"df-f81f66b9-4b5b-40c6-9f1f-1966e191fe51\" class=\"colab-df-container\">\n",
              "    <div>\n",
              "<style scoped>\n",
              "    .dataframe tbody tr th:only-of-type {\n",
              "        vertical-align: middle;\n",
              "    }\n",
              "\n",
              "    .dataframe tbody tr th {\n",
              "        vertical-align: top;\n",
              "    }\n",
              "\n",
              "    .dataframe thead th {\n",
              "        text-align: right;\n",
              "    }\n",
              "</style>\n",
              "<table border=\"1\" class=\"dataframe\">\n",
              "  <thead>\n",
              "    <tr style=\"text-align: right;\">\n",
              "      <th></th>\n",
              "      <th>user_id</th>\n",
              "      <th>anime_id</th>\n",
              "      <th>rating</th>\n",
              "      <th>nps_score</th>\n",
              "    </tr>\n",
              "  </thead>\n",
              "  <tbody>\n",
              "    <tr>\n",
              "      <th>0</th>\n",
              "      <td>0</td>\n",
              "      <td>430</td>\n",
              "      <td>9</td>\n",
              "      <td>1</td>\n",
              "    </tr>\n",
              "    <tr>\n",
              "      <th>1</th>\n",
              "      <td>0</td>\n",
              "      <td>1004</td>\n",
              "      <td>5</td>\n",
              "      <td>-1</td>\n",
              "    </tr>\n",
              "  </tbody>\n",
              "</table>\n",
              "</div>\n",
              "    <div class=\"colab-df-buttons\">\n",
              "\n",
              "  <div class=\"colab-df-container\">\n",
              "    <button class=\"colab-df-convert\" onclick=\"convertToInteractive('df-f81f66b9-4b5b-40c6-9f1f-1966e191fe51')\"\n",
              "            title=\"Convert this dataframe to an interactive table.\"\n",
              "            style=\"display:none;\">\n",
              "\n",
              "  <svg xmlns=\"http://www.w3.org/2000/svg\" height=\"24px\" viewBox=\"0 -960 960 960\">\n",
              "    <path d=\"M120-120v-720h720v720H120Zm60-500h600v-160H180v160Zm220 220h160v-160H400v160Zm0 220h160v-160H400v160ZM180-400h160v-160H180v160Zm440 0h160v-160H620v160ZM180-180h160v-160H180v160Zm440 0h160v-160H620v160Z\"/>\n",
              "  </svg>\n",
              "    </button>\n",
              "\n",
              "  <style>\n",
              "    .colab-df-container {\n",
              "      display:flex;\n",
              "      gap: 12px;\n",
              "    }\n",
              "\n",
              "    .colab-df-convert {\n",
              "      background-color: #E8F0FE;\n",
              "      border: none;\n",
              "      border-radius: 50%;\n",
              "      cursor: pointer;\n",
              "      display: none;\n",
              "      fill: #1967D2;\n",
              "      height: 32px;\n",
              "      padding: 0 0 0 0;\n",
              "      width: 32px;\n",
              "    }\n",
              "\n",
              "    .colab-df-convert:hover {\n",
              "      background-color: #E2EBFA;\n",
              "      box-shadow: 0px 1px 2px rgba(60, 64, 67, 0.3), 0px 1px 3px 1px rgba(60, 64, 67, 0.15);\n",
              "      fill: #174EA6;\n",
              "    }\n",
              "\n",
              "    .colab-df-buttons div {\n",
              "      margin-bottom: 4px;\n",
              "    }\n",
              "\n",
              "    [theme=dark] .colab-df-convert {\n",
              "      background-color: #3B4455;\n",
              "      fill: #D2E3FC;\n",
              "    }\n",
              "\n",
              "    [theme=dark] .colab-df-convert:hover {\n",
              "      background-color: #434B5C;\n",
              "      box-shadow: 0px 1px 3px 1px rgba(0, 0, 0, 0.15);\n",
              "      filter: drop-shadow(0px 1px 2px rgba(0, 0, 0, 0.3));\n",
              "      fill: #FFFFFF;\n",
              "    }\n",
              "  </style>\n",
              "\n",
              "    <script>\n",
              "      const buttonEl =\n",
              "        document.querySelector('#df-f81f66b9-4b5b-40c6-9f1f-1966e191fe51 button.colab-df-convert');\n",
              "      buttonEl.style.display =\n",
              "        google.colab.kernel.accessAllowed ? 'block' : 'none';\n",
              "\n",
              "      async function convertToInteractive(key) {\n",
              "        const element = document.querySelector('#df-f81f66b9-4b5b-40c6-9f1f-1966e191fe51');\n",
              "        const dataTable =\n",
              "          await google.colab.kernel.invokeFunction('convertToInteractive',\n",
              "                                                    [key], {});\n",
              "        if (!dataTable) return;\n",
              "\n",
              "        const docLinkHtml = 'Like what you see? Visit the ' +\n",
              "          '<a target=\"_blank\" href=https://colab.research.google.com/notebooks/data_table.ipynb>data table notebook</a>'\n",
              "          + ' to learn more about interactive tables.';\n",
              "        element.innerHTML = '';\n",
              "        dataTable['output_type'] = 'display_data';\n",
              "        await google.colab.output.renderOutput(dataTable, element);\n",
              "        const docLink = document.createElement('div');\n",
              "        docLink.innerHTML = docLinkHtml;\n",
              "        element.appendChild(docLink);\n",
              "      }\n",
              "    </script>\n",
              "  </div>\n",
              "\n",
              "\n",
              "<div id=\"df-c96b20f6-bbb7-4954-bfdc-8a2fcf9a7c29\">\n",
              "  <button class=\"colab-df-quickchart\" onclick=\"quickchart('df-c96b20f6-bbb7-4954-bfdc-8a2fcf9a7c29')\"\n",
              "            title=\"Suggest charts\"\n",
              "            style=\"display:none;\">\n",
              "\n",
              "<svg xmlns=\"http://www.w3.org/2000/svg\" height=\"24px\"viewBox=\"0 0 24 24\"\n",
              "     width=\"24px\">\n",
              "    <g>\n",
              "        <path d=\"M19 3H5c-1.1 0-2 .9-2 2v14c0 1.1.9 2 2 2h14c1.1 0 2-.9 2-2V5c0-1.1-.9-2-2-2zM9 17H7v-7h2v7zm4 0h-2V7h2v10zm4 0h-2v-4h2v4z\"/>\n",
              "    </g>\n",
              "</svg>\n",
              "  </button>\n",
              "\n",
              "<style>\n",
              "  .colab-df-quickchart {\n",
              "      --bg-color: #E8F0FE;\n",
              "      --fill-color: #1967D2;\n",
              "      --hover-bg-color: #E2EBFA;\n",
              "      --hover-fill-color: #174EA6;\n",
              "      --disabled-fill-color: #AAA;\n",
              "      --disabled-bg-color: #DDD;\n",
              "  }\n",
              "\n",
              "  [theme=dark] .colab-df-quickchart {\n",
              "      --bg-color: #3B4455;\n",
              "      --fill-color: #D2E3FC;\n",
              "      --hover-bg-color: #434B5C;\n",
              "      --hover-fill-color: #FFFFFF;\n",
              "      --disabled-bg-color: #3B4455;\n",
              "      --disabled-fill-color: #666;\n",
              "  }\n",
              "\n",
              "  .colab-df-quickchart {\n",
              "    background-color: var(--bg-color);\n",
              "    border: none;\n",
              "    border-radius: 50%;\n",
              "    cursor: pointer;\n",
              "    display: none;\n",
              "    fill: var(--fill-color);\n",
              "    height: 32px;\n",
              "    padding: 0;\n",
              "    width: 32px;\n",
              "  }\n",
              "\n",
              "  .colab-df-quickchart:hover {\n",
              "    background-color: var(--hover-bg-color);\n",
              "    box-shadow: 0 1px 2px rgba(60, 64, 67, 0.3), 0 1px 3px 1px rgba(60, 64, 67, 0.15);\n",
              "    fill: var(--button-hover-fill-color);\n",
              "  }\n",
              "\n",
              "  .colab-df-quickchart-complete:disabled,\n",
              "  .colab-df-quickchart-complete:disabled:hover {\n",
              "    background-color: var(--disabled-bg-color);\n",
              "    fill: var(--disabled-fill-color);\n",
              "    box-shadow: none;\n",
              "  }\n",
              "\n",
              "  .colab-df-spinner {\n",
              "    border: 2px solid var(--fill-color);\n",
              "    border-color: transparent;\n",
              "    border-bottom-color: var(--fill-color);\n",
              "    animation:\n",
              "      spin 1s steps(1) infinite;\n",
              "  }\n",
              "\n",
              "  @keyframes spin {\n",
              "    0% {\n",
              "      border-color: transparent;\n",
              "      border-bottom-color: var(--fill-color);\n",
              "      border-left-color: var(--fill-color);\n",
              "    }\n",
              "    20% {\n",
              "      border-color: transparent;\n",
              "      border-left-color: var(--fill-color);\n",
              "      border-top-color: var(--fill-color);\n",
              "    }\n",
              "    30% {\n",
              "      border-color: transparent;\n",
              "      border-left-color: var(--fill-color);\n",
              "      border-top-color: var(--fill-color);\n",
              "      border-right-color: var(--fill-color);\n",
              "    }\n",
              "    40% {\n",
              "      border-color: transparent;\n",
              "      border-right-color: var(--fill-color);\n",
              "      border-top-color: var(--fill-color);\n",
              "    }\n",
              "    60% {\n",
              "      border-color: transparent;\n",
              "      border-right-color: var(--fill-color);\n",
              "    }\n",
              "    80% {\n",
              "      border-color: transparent;\n",
              "      border-right-color: var(--fill-color);\n",
              "      border-bottom-color: var(--fill-color);\n",
              "    }\n",
              "    90% {\n",
              "      border-color: transparent;\n",
              "      border-bottom-color: var(--fill-color);\n",
              "    }\n",
              "  }\n",
              "</style>\n",
              "\n",
              "  <script>\n",
              "    async function quickchart(key) {\n",
              "      const quickchartButtonEl =\n",
              "        document.querySelector('#' + key + ' button');\n",
              "      quickchartButtonEl.disabled = true;  // To prevent multiple clicks.\n",
              "      quickchartButtonEl.classList.add('colab-df-spinner');\n",
              "      try {\n",
              "        const charts = await google.colab.kernel.invokeFunction(\n",
              "            'suggestCharts', [key], {});\n",
              "      } catch (error) {\n",
              "        console.error('Error during call to suggestCharts:', error);\n",
              "      }\n",
              "      quickchartButtonEl.classList.remove('colab-df-spinner');\n",
              "      quickchartButtonEl.classList.add('colab-df-quickchart-complete');\n",
              "    }\n",
              "    (() => {\n",
              "      let quickchartButtonEl =\n",
              "        document.querySelector('#df-c96b20f6-bbb7-4954-bfdc-8a2fcf9a7c29 button');\n",
              "      quickchartButtonEl.style.display =\n",
              "        google.colab.kernel.accessAllowed ? 'block' : 'none';\n",
              "    })();\n",
              "  </script>\n",
              "</div>\n",
              "    </div>\n",
              "  </div>\n"
            ],
            "text/plain": [
              "   user_id  anime_id  rating  nps_score\n",
              "0        0       430       9          1\n",
              "1        0      1004       5         -1"
            ]
          },
          "execution_count": 11,
          "metadata": {},
          "output_type": "execute_result"
        }
      ],
      "source": [
        "score_map = {10: 1, 9: 1, 8: 0, 7: 0, 6: -1, 5: -1, 4:-1, 3:-1, 2:-1, 1:-1, 0:-1}\n",
        "rating_complete['nps_score'] = rating_complete['rating'].map(score_map)\n",
        "rating_complete = rating_complete[rating_complete['nps_score'] != 0]\n",
        "print(rating_complete.shape)\n",
        "rating_complete.head(2)"
      ]
    },
    {
      "cell_type": "markdown",
      "id": "0e53e077",
      "metadata": {
        "id": "0e53e077"
      },
      "source": [
        "### 2.7. Let's check the number of reviews for each anime and slice 0.9 quantile"
      ]
    },
    {
      "cell_type": "code",
      "execution_count": 12,
      "id": "a18a55d3",
      "metadata": {
        "colab": {
          "base_uri": "https://localhost:8080/",
          "height": 447
        },
        "id": "a18a55d3",
        "outputId": "7d10d956-3f80-4a71-e839-9f9502a05657"
      },
      "outputs": [
        {
          "data": {
            "text/plain": [
              "<Axes: >"
            ]
          },
          "execution_count": 12,
          "metadata": {},
          "output_type": "execute_result"
        },
        {
          "data": {
            "image/png": "[encoded data removed]",
            "text/plain": [
              "<Figure size 640x480 with 1 Axes>"
            ]
          },
          "metadata": {},
          "output_type": "display_data"
        }
      ],
      "source": [
        "rating_complete.groupby('anime_id').count()['rating'].hist()"
      ]
    },
    {
      "cell_type": "code",
      "execution_count": 13,
      "id": "2ZpetZkwU4G_",
      "metadata": {
        "colab": {
          "base_uri": "https://localhost:8080/",
          "height": 147
        },
        "id": "2ZpetZkwU4G_",
        "outputId": "c4b3005c-55be-4634-b0ff-adde6ef09560"
      },
      "outputs": [
        {
          "name": "stdout",
          "output_type": "stream",
          "text": [
            "107.0\n",
            "(345481, 4)\n"
          ]
        },
        {
          "data": {
            "text/html": [
              "\n",
              "  <div id=\"df-72bfbfc8-0bf4-45d6-8c4e-4ab1e158ca14\" class=\"colab-df-container\">\n",
              "    <div>\n",
              "<style scoped>\n",
              "    .dataframe tbody tr th:only-of-type {\n",
              "        vertical-align: middle;\n",
              "    }\n",
              "\n",
              "    .dataframe tbody tr th {\n",
              "        vertical-align: top;\n",
              "    }\n",
              "\n",
              "    .dataframe thead th {\n",
              "        text-align: right;\n",
              "    }\n",
              "</style>\n",
              "<table border=\"1\" class=\"dataframe\">\n",
              "  <thead>\n",
              "    <tr style=\"text-align: right;\">\n",
              "      <th></th>\n",
              "      <th>user_id</th>\n",
              "      <th>anime_id</th>\n",
              "      <th>rating</th>\n",
              "      <th>nps_score</th>\n",
              "    </tr>\n",
              "  </thead>\n",
              "  <tbody>\n",
              "    <tr>\n",
              "      <th>0</th>\n",
              "      <td>0</td>\n",
              "      <td>430</td>\n",
              "      <td>9</td>\n",
              "      <td>1</td>\n",
              "    </tr>\n",
              "    <tr>\n",
              "      <th>1</th>\n",
              "      <td>0</td>\n",
              "      <td>1004</td>\n",
              "      <td>5</td>\n",
              "      <td>-1</td>\n",
              "    </tr>\n",
              "  </tbody>\n",
              "</table>\n",
              "</div>\n",
              "    <div class=\"colab-df-buttons\">\n",
              "\n",
              "  <div class=\"colab-df-container\">\n",
              "    <button class=\"colab-df-convert\" onclick=\"convertToInteractive('df-72bfbfc8-0bf4-45d6-8c4e-4ab1e158ca14')\"\n",
              "            title=\"Convert this dataframe to an interactive table.\"\n",
              "            style=\"display:none;\">\n",
              "\n",
              "  <svg xmlns=\"http://www.w3.org/2000/svg\" height=\"24px\" viewBox=\"0 -960 960 960\">\n",
              "    <path d=\"M120-120v-720h720v720H120Zm60-500h600v-160H180v160Zm220 220h160v-160H400v160Zm0 220h160v-160H400v160ZM180-400h160v-160H180v160Zm440 0h160v-160H620v160ZM180-180h160v-160H180v160Zm440 0h160v-160H620v160Z\"/>\n",
              "  </svg>\n",
              "    </button>\n",
              "\n",
              "  <style>\n",
              "    .colab-df-container {\n",
              "      display:flex;\n",
              "      gap: 12px;\n",
              "    }\n",
              "\n",
              "    .colab-df-convert {\n",
              "      background-color: #E8F0FE;\n",
              "      border: none;\n",
              "      border-radius: 50%;\n",
              "      cursor: pointer;\n",
              "      display: none;\n",
              "      fill: #1967D2;\n",
              "      height: 32px;\n",
              "      padding: 0 0 0 0;\n",
              "      width: 32px;\n",
              "    }\n",
              "\n",
              "    .colab-df-convert:hover {\n",
              "      background-color: #E2EBFA;\n",
              "      box-shadow: 0px 1px 2px rgba(60, 64, 67, 0.3), 0px 1px 3px 1px rgba(60, 64, 67, 0.15);\n",
              "      fill: #174EA6;\n",
              "    }\n",
              "\n",
              "    .colab-df-buttons div {\n",
              "      margin-bottom: 4px;\n",
              "    }\n",
              "\n",
              "    [theme=dark] .colab-df-convert {\n",
              "      background-color: #3B4455;\n",
              "      fill: #D2E3FC;\n",
              "    }\n",
              "\n",
              "    [theme=dark] .colab-df-convert:hover {\n",
              "      background-color: #434B5C;\n",
              "      box-shadow: 0px 1px 3px 1px rgba(0, 0, 0, 0.15);\n",
              "      filter: drop-shadow(0px 1px 2px rgba(0, 0, 0, 0.3));\n",
              "      fill: #FFFFFF;\n",
              "    }\n",
              "  </style>\n",
              "\n",
              "    <script>\n",
              "      const buttonEl =\n",
              "        document.querySelector('#df-72bfbfc8-0bf4-45d6-8c4e-4ab1e158ca14 button.colab-df-convert');\n",
              "      buttonEl.style.display =\n",
              "        google.colab.kernel.accessAllowed ? 'block' : 'none';\n",
              "\n",
              "      async function convertToInteractive(key) {\n",
              "        const element = document.querySelector('#df-72bfbfc8-0bf4-45d6-8c4e-4ab1e158ca14');\n",
              "        const dataTable =\n",
              "          await google.colab.kernel.invokeFunction('convertToInteractive',\n",
              "                                                    [key], {});\n",
              "        if (!dataTable) return;\n",
              "\n",
              "        const docLinkHtml = 'Like what you see? Visit the ' +\n",
              "          '<a target=\"_blank\" href=https://colab.research.google.com/notebooks/data_table.ipynb>data table notebook</a>'\n",
              "          + ' to learn more about interactive tables.';\n",
              "        element.innerHTML = '';\n",
              "        dataTable['output_type'] = 'display_data';\n",
              "        await google.colab.output.renderOutput(dataTable, element);\n",
              "        const docLink = document.createElement('div');\n",
              "        docLink.innerHTML = docLinkHtml;\n",
              "        element.appendChild(docLink);\n",
              "      }\n",
              "    </script>\n",
              "  </div>\n",
              "\n",
              "\n",
              "<div id=\"df-d73d37fa-92c7-4426-8bb2-6eb76a98054c\">\n",
              "  <button class=\"colab-df-quickchart\" onclick=\"quickchart('df-d73d37fa-92c7-4426-8bb2-6eb76a98054c')\"\n",
              "            title=\"Suggest charts\"\n",
              "            style=\"display:none;\">\n",
              "\n",
              "<svg xmlns=\"http://www.w3.org/2000/svg\" height=\"24px\"viewBox=\"0 0 24 24\"\n",
              "     width=\"24px\">\n",
              "    <g>\n",
              "        <path d=\"M19 3H5c-1.1 0-2 .9-2 2v14c0 1.1.9 2 2 2h14c1.1 0 2-.9 2-2V5c0-1.1-.9-2-2-2zM9 17H7v-7h2v7zm4 0h-2V7h2v10zm4 0h-2v-4h2v4z\"/>\n",
              "    </g>\n",
              "</svg>\n",
              "  </button>\n",
              "\n",
              "<style>\n",
              "  .colab-df-quickchart {\n",
              "      --bg-color: #E8F0FE;\n",
              "      --fill-color: #1967D2;\n",
              "      --hover-bg-color: #E2EBFA;\n",
              "      --hover-fill-color: #174EA6;\n",
              "      --disabled-fill-color: #AAA;\n",
              "      --disabled-bg-color: #DDD;\n",
              "  }\n",
              "\n",
              "  [theme=dark] .colab-df-quickchart {\n",
              "      --bg-color: #3B4455;\n",
              "      --fill-color: #D2E3FC;\n",
              "      --hover-bg-color: #434B5C;\n",
              "      --hover-fill-color: #FFFFFF;\n",
              "      --disabled-bg-color: #3B4455;\n",
              "      --disabled-fill-color: #666;\n",
              "  }\n",
              "\n",
              "  .colab-df-quickchart {\n",
              "    background-color: var(--bg-color);\n",
              "    border: none;\n",
              "    border-radius: 50%;\n",
              "    cursor: pointer;\n",
              "    display: none;\n",
              "    fill: var(--fill-color);\n",
              "    height: 32px;\n",
              "    padding: 0;\n",
              "    width: 32px;\n",
              "  }\n",
              "\n",
              "  .colab-df-quickchart:hover {\n",
              "    background-color: var(--hover-bg-color);\n",
              "    box-shadow: 0 1px 2px rgba(60, 64, 67, 0.3), 0 1px 3px 1px rgba(60, 64, 67, 0.15);\n",
              "    fill: var(--button-hover-fill-color);\n",
              "  }\n",
              "\n",
              "  .colab-df-quickchart-complete:disabled,\n",
              "  .colab-df-quickchart-complete:disabled:hover {\n",
              "    background-color: var(--disabled-bg-color);\n",
              "    fill: var(--disabled-fill-color);\n",
              "    box-shadow: none;\n",
              "  }\n",
              "\n",
              "  .colab-df-spinner {\n",
              "    border: 2px solid var(--fill-color);\n",
              "    border-color: transparent;\n",
              "    border-bottom-color: var(--fill-color);\n",
              "    animation:\n",
              "      spin 1s steps(1) infinite;\n",
              "  }\n",
              "\n",
              "  @keyframes spin {\n",
              "    0% {\n",
              "      border-color: transparent;\n",
              "      border-bottom-color: var(--fill-color);\n",
              "      border-left-color: var(--fill-color);\n",
              "    }\n",
              "    20% {\n",
              "      border-color: transparent;\n",
              "      border-left-color: var(--fill-color);\n",
              "      border-top-color: var(--fill-color);\n",
              "    }\n",
              "    30% {\n",
              "      border-color: transparent;\n",
              "      border-left-color: var(--fill-color);\n",
              "      border-top-color: var(--fill-color);\n",
              "      border-right-color: var(--fill-color);\n",
              "    }\n",
              "    40% {\n",
              "      border-color: transparent;\n",
              "      border-right-color: var(--fill-color);\n",
              "      border-top-color: var(--fill-color);\n",
              "    }\n",
              "    60% {\n",
              "      border-color: transparent;\n",
              "      border-right-color: var(--fill-color);\n",
              "    }\n",
              "    80% {\n",
              "      border-color: transparent;\n",
              "      border-right-color: var(--fill-color);\n",
              "      border-bottom-color: var(--fill-color);\n",
              "    }\n",
              "    90% {\n",
              "      border-color: transparent;\n",
              "      border-bottom-color: var(--fill-color);\n",
              "    }\n",
              "  }\n",
              "</style>\n",
              "\n",
              "  <script>\n",
              "    async function quickchart(key) {\n",
              "      const quickchartButtonEl =\n",
              "        document.querySelector('#' + key + ' button');\n",
              "      quickchartButtonEl.disabled = true;  // To prevent multiple clicks.\n",
              "      quickchartButtonEl.classList.add('colab-df-spinner');\n",
              "      try {\n",
              "        const charts = await google.colab.kernel.invokeFunction(\n",
              "            'suggestCharts', [key], {});\n",
              "      } catch (error) {\n",
              "        console.error('Error during call to suggestCharts:', error);\n",
              "      }\n",
              "      quickchartButtonEl.classList.remove('colab-df-spinner');\n",
              "      quickchartButtonEl.classList.add('colab-df-quickchart-complete');\n",
              "    }\n",
              "    (() => {\n",
              "      let quickchartButtonEl =\n",
              "        document.querySelector('#df-d73d37fa-92c7-4426-8bb2-6eb76a98054c button');\n",
              "      quickchartButtonEl.style.display =\n",
              "        google.colab.kernel.accessAllowed ? 'block' : 'none';\n",
              "    })();\n",
              "  </script>\n",
              "</div>\n",
              "    </div>\n",
              "  </div>\n"
            ],
            "text/plain": [
              "   user_id  anime_id  rating  nps_score\n",
              "0        0       430       9          1\n",
              "1        0      1004       5         -1"
            ]
          },
          "execution_count": 13,
          "metadata": {},
          "output_type": "execute_result"
        }
      ],
      "source": [
        "# remove all rows with animes with under median_reviews reviews\n",
        "median_reviews = rating_complete.groupby('anime_id').count()['rating'].quantile(.90)\n",
        "print(median_reviews)\n",
        "animes_with_enough_reviews = rating_complete.groupby('anime_id').count()['rating'] >= median_reviews\n",
        "\n",
        "rating_complete = rating_complete[rating_complete['anime_id'].isin(animes_with_enough_reviews[animes_with_enough_reviews].index)]\n",
        "\n",
        "print(rating_complete.shape)\n",
        "rating_complete.head(2)"
      ]
    },
    {
      "cell_type": "code",
      "execution_count": 14,
      "id": "fe229d5e",
      "metadata": {
        "colab": {
          "base_uri": "https://localhost:8080/",
          "height": 447
        },
        "id": "fe229d5e",
        "outputId": "07130652-327d-4f59-f3f6-204942fedc67"
      },
      "outputs": [
        {
          "data": {
            "text/plain": [
              "<Axes: >"
            ]
          },
          "execution_count": 14,
          "metadata": {},
          "output_type": "execute_result"
        },
        {
          "data": {
            "image/png": "[encoded data removed]",
            "text/plain": [
              "<Figure size 640x480 with 1 Axes>"
            ]
          },
          "metadata": {},
          "output_type": "display_data"
        }
      ],
      "source": [
        "rating_complete.groupby('anime_id').count()['rating'].hist()"
      ]
    },
    {
      "cell_type": "markdown",
      "id": "6a56819c",
      "metadata": {
        "id": "6a56819c"
      },
      "source": [
        "### 2.8. Here we split the second dataset"
      ]
    },
    {
      "cell_type": "code",
      "execution_count": 15,
      "id": "4bd861f5",
      "metadata": {
        "id": "4bd861f5"
      },
      "outputs": [],
      "source": [
        "rating_complete_train, rating_complete_test = \\\n",
        "              np.split(rating_complete.sample(frac=1, random_state=42),\n",
        "                       [int(.9*len(rating_complete))])"
      ]
    },
    {
      "cell_type": "code",
      "execution_count": 16,
      "id": "3cf2f8c5",
      "metadata": {
        "colab": {
          "base_uri": "https://localhost:8080/"
        },
        "id": "3cf2f8c5",
        "outputId": "abaa208e-8082-4998-df1b-4bb59574e32b"
      },
      "outputs": [
        {
          "name": "stdout",
          "output_type": "stream",
          "text": [
            "(310932, 4)\n",
            "(34549, 4)\n"
          ]
        }
      ],
      "source": [
        "print(rating_complete_train.shape)\n",
        "print(rating_complete_test.shape)"
      ]
    },
    {
      "cell_type": "markdown",
      "id": "1d8bd08e",
      "metadata": {
        "id": "1d8bd08e"
      },
      "source": [
        "# 3. We want to embed the anime's description. But first we need fine-tune it. And before this we need dataset for fine-tuning."
      ]
    },
    {
      "cell_type": "markdown",
      "id": "rnfp8ubeOMjR",
      "metadata": {
        "id": "rnfp8ubeOMjR"
      },
      "source": [
        "The idea for fine-tuning is the next. We need some data for fine-tuning. What do we want to fine-tune? We want to fine-tune the embedder. So we will use sentence-transformers library. There are different structures for fine-tuning the models from the library. We will choose the stucture {sent1, sent2, score}.\n",
        "\n",
        "So we will have the pairs of animes descriptions. What about the score? We must construct it. We can do the next thing. Let's explain the idea in the next steps:\n",
        "\n",
        "1. If we take two animes we can find a user who rated them both. If he liked them both then this two animes are similiar. If user likes one and does not like other then they are not similiar.\n",
        "\n",
        "2. Then let's find all users who rated this pair of animes. Count which part of them likes both animes. And this will be our score."
      ]
    },
    {
      "cell_type": "markdown",
      "id": "21d33830",
      "metadata": {
        "id": "21d33830"
      },
      "source": [
        "### 3.1. First we get the list of anime ids which are common to both datatsets."
      ]
    },
    {
      "cell_type": "code",
      "execution_count": 17,
      "id": "7ce5d3e3",
      "metadata": {
        "id": "7ce5d3e3"
      },
      "outputs": [],
      "source": [
        "anime_ids = sorted(set(pre_merged_anime['MAL_ID'].unique()) & set(rating_complete_train['anime_id'].unique()))"
      ]
    },
    {
      "cell_type": "markdown",
      "id": "41ee1843",
      "metadata": {
        "id": "41ee1843"
      },
      "source": [
        "Note that in anime_ids there are not duplicates due to the definition of sets and set operations."
      ]
    },
    {
      "cell_type": "markdown",
      "id": "a2ff2149",
      "metadata": {
        "id": "a2ff2149"
      },
      "source": [
        "### 3.2. Then we create combinations"
      ]
    },
    {
      "cell_type": "code",
      "execution_count": 18,
      "id": "b5e4413c",
      "metadata": {
        "id": "b5e4413c"
      },
      "outputs": [],
      "source": [
        "anime_pairs = set(itertools.combinations(anime_ids, 2))"
      ]
    },
    {
      "cell_type": "markdown",
      "id": "2842d048",
      "metadata": {
        "id": "2842d048"
      },
      "source": [
        "We make them sets for better performance."
      ]
    },
    {
      "cell_type": "markdown",
      "id": "5ba38e6a",
      "metadata": {
        "id": "5ba38e6a"
      },
      "source": [
        "### 3.3. For some reasons we also implement the following functionality."
      ]
    },
    {
      "cell_type": "code",
      "execution_count": 19,
      "id": "51b64304",
      "metadata": {
        "colab": {
          "base_uri": "https://localhost:8080/"
        },
        "id": "51b64304",
        "outputId": "062621f4-5109-473d-d96b-ae3ff54cc935"
      },
      "outputs": [
        {
          "data": {
            "text/plain": [
              "429201"
            ]
          },
          "execution_count": 19,
          "metadata": {},
          "output_type": "execute_result"
        }
      ],
      "source": [
        "len(anime_pairs)"
      ]
    },
    {
      "cell_type": "code",
      "execution_count": 20,
      "id": "5abJxttX8Ftr",
      "metadata": {
        "colab": {
          "base_uri": "https://localhost:8080/"
        },
        "id": "5abJxttX8Ftr",
        "outputId": "a6c93d69-dc08-4208-f00b-99acc4ea9794"
      },
      "outputs": [
        {
          "name": "stderr",
          "output_type": "stream",
          "text": [
            "<ipython-input-20-8dac9d0d454d>:3: DeprecationWarning: Sampling from a set deprecated\n",
            "since Python 3.9 and will be removed in a subsequent version.\n",
            "  anime_pairs = random.sample(anime_pairs, SAMPLE)\n"
          ]
        }
      ],
      "source": [
        "SAMPLE = 1000  # only taking a sample of the pairs to scan\n",
        "if SAMPLE:\n",
        "    anime_pairs = random.sample(anime_pairs, SAMPLE)"
      ]
    },
    {
      "cell_type": "code",
      "execution_count": 21,
      "id": "38ad060c",
      "metadata": {
        "colab": {
          "base_uri": "https://localhost:8080/"
        },
        "id": "38ad060c",
        "outputId": "6a6be4fe-113e-455a-8336-37f42ef08b44"
      },
      "outputs": [
        {
          "data": {
            "text/plain": [
              "1000"
            ]
          },
          "execution_count": 21,
          "metadata": {},
          "output_type": "execute_result"
        }
      ],
      "source": [
        "len(anime_pairs)"
      ]
    },
    {
      "cell_type": "markdown",
      "id": "xQgP51okvfgM",
      "metadata": {
        "id": "xQgP51okvfgM"
      },
      "source": [
        "### 3.4. Let's discuss some pandas features"
      ]
    },
    {
      "cell_type": "markdown",
      "id": "UtUXR9ZVvv7A",
      "metadata": {
        "id": "UtUXR9ZVvv7A"
      },
      "source": [
        "If we want to look at rows for animes with ids 20 and 68 we can do the next."
      ]
    },
    {
      "cell_type": "code",
      "execution_count": 22,
      "id": "09c2a75c",
      "metadata": {
        "colab": {
          "base_uri": "https://localhost:8080/",
          "height": 424
        },
        "id": "09c2a75c",
        "outputId": "483458a7-2cb3-412a-8320-bbb292f494f1"
      },
      "outputs": [
        {
          "data": {
            "text/html": [
              "\n",
              "  <div id=\"df-4c63f5fa-1f4a-4738-8c78-28e0fc04fdf8\" class=\"colab-df-container\">\n",
              "    <div>\n",
              "<style scoped>\n",
              "    .dataframe tbody tr th:only-of-type {\n",
              "        vertical-align: middle;\n",
              "    }\n",
              "\n",
              "    .dataframe tbody tr th {\n",
              "        vertical-align: top;\n",
              "    }\n",
              "\n",
              "    .dataframe thead th {\n",
              "        text-align: right;\n",
              "    }\n",
              "</style>\n",
              "<table border=\"1\" class=\"dataframe\">\n",
              "  <thead>\n",
              "    <tr style=\"text-align: right;\">\n",
              "      <th></th>\n",
              "      <th>user_id</th>\n",
              "      <th>anime_id</th>\n",
              "      <th>rating</th>\n",
              "      <th>nps_score</th>\n",
              "    </tr>\n",
              "  </thead>\n",
              "  <tbody>\n",
              "    <tr>\n",
              "      <th>505452</th>\n",
              "      <td>3284</td>\n",
              "      <td>68</td>\n",
              "      <td>10</td>\n",
              "      <td>1</td>\n",
              "    </tr>\n",
              "    <tr>\n",
              "      <th>632259</th>\n",
              "      <td>4129</td>\n",
              "      <td>20</td>\n",
              "      <td>4</td>\n",
              "      <td>-1</td>\n",
              "    </tr>\n",
              "    <tr>\n",
              "      <th>436565</th>\n",
              "      <td>2809</td>\n",
              "      <td>68</td>\n",
              "      <td>10</td>\n",
              "      <td>1</td>\n",
              "    </tr>\n",
              "    <tr>\n",
              "      <th>455773</th>\n",
              "      <td>2940</td>\n",
              "      <td>20</td>\n",
              "      <td>9</td>\n",
              "      <td>1</td>\n",
              "    </tr>\n",
              "    <tr>\n",
              "      <th>458217</th>\n",
              "      <td>2954</td>\n",
              "      <td>20</td>\n",
              "      <td>9</td>\n",
              "      <td>1</td>\n",
              "    </tr>\n",
              "    <tr>\n",
              "      <th>...</th>\n",
              "      <td>...</td>\n",
              "      <td>...</td>\n",
              "      <td>...</td>\n",
              "      <td>...</td>\n",
              "    </tr>\n",
              "    <tr>\n",
              "      <th>248830</th>\n",
              "      <td>1527</td>\n",
              "      <td>20</td>\n",
              "      <td>5</td>\n",
              "      <td>-1</td>\n",
              "    </tr>\n",
              "    <tr>\n",
              "      <th>620181</th>\n",
              "      <td>4028</td>\n",
              "      <td>20</td>\n",
              "      <td>6</td>\n",
              "      <td>-1</td>\n",
              "    </tr>\n",
              "    <tr>\n",
              "      <th>398220</th>\n",
              "      <td>2515</td>\n",
              "      <td>20</td>\n",
              "      <td>9</td>\n",
              "      <td>1</td>\n",
              "    </tr>\n",
              "    <tr>\n",
              "      <th>304267</th>\n",
              "      <td>1898</td>\n",
              "      <td>20</td>\n",
              "      <td>9</td>\n",
              "      <td>1</td>\n",
              "    </tr>\n",
              "    <tr>\n",
              "      <th>251891</th>\n",
              "      <td>1554</td>\n",
              "      <td>20</td>\n",
              "      <td>9</td>\n",
              "      <td>1</td>\n",
              "    </tr>\n",
              "  </tbody>\n",
              "</table>\n",
              "<p>1166 rows × 4 columns</p>\n",
              "</div>\n",
              "    <div class=\"colab-df-buttons\">\n",
              "\n",
              "  <div class=\"colab-df-container\">\n",
              "    <button class=\"colab-df-convert\" onclick=\"convertToInteractive('df-4c63f5fa-1f4a-4738-8c78-28e0fc04fdf8')\"\n",
              "            title=\"Convert this dataframe to an interactive table.\"\n",
              "            style=\"display:none;\">\n",
              "\n",
              "  <svg xmlns=\"http://www.w3.org/2000/svg\" height=\"24px\" viewBox=\"0 -960 960 960\">\n",
              "    <path d=\"M120-120v-720h720v720H120Zm60-500h600v-160H180v160Zm220 220h160v-160H400v160Zm0 220h160v-160H400v160ZM180-400h160v-160H180v160Zm440 0h160v-160H620v160ZM180-180h160v-160H180v160Zm440 0h160v-160H620v160Z\"/>\n",
              "  </svg>\n",
              "    </button>\n",
              "\n",
              "  <style>\n",
              "    .colab-df-container {\n",
              "      display:flex;\n",
              "      gap: 12px;\n",
              "    }\n",
              "\n",
              "    .colab-df-convert {\n",
              "      background-color: #E8F0FE;\n",
              "      border: none;\n",
              "      border-radius: 50%;\n",
              "      cursor: pointer;\n",
              "      display: none;\n",
              "      fill: #1967D2;\n",
              "      height: 32px;\n",
              "      padding: 0 0 0 0;\n",
              "      width: 32px;\n",
              "    }\n",
              "\n",
              "    .colab-df-convert:hover {\n",
              "      background-color: #E2EBFA;\n",
              "      box-shadow: 0px 1px 2px rgba(60, 64, 67, 0.3), 0px 1px 3px 1px rgba(60, 64, 67, 0.15);\n",
              "      fill: #174EA6;\n",
              "    }\n",
              "\n",
              "    .colab-df-buttons div {\n",
              "      margin-bottom: 4px;\n",
              "    }\n",
              "\n",
              "    [theme=dark] .colab-df-convert {\n",
              "      background-color: #3B4455;\n",
              "      fill: #D2E3FC;\n",
              "    }\n",
              "\n",
              "    [theme=dark] .colab-df-convert:hover {\n",
              "      background-color: #434B5C;\n",
              "      box-shadow: 0px 1px 3px 1px rgba(0, 0, 0, 0.15);\n",
              "      filter: drop-shadow(0px 1px 2px rgba(0, 0, 0, 0.3));\n",
              "      fill: #FFFFFF;\n",
              "    }\n",
              "  </style>\n",
              "\n",
              "    <script>\n",
              "      const buttonEl =\n",
              "        document.querySelector('#df-4c63f5fa-1f4a-4738-8c78-28e0fc04fdf8 button.colab-df-convert');\n",
              "      buttonEl.style.display =\n",
              "        google.colab.kernel.accessAllowed ? 'block' : 'none';\n",
              "\n",
              "      async function convertToInteractive(key) {\n",
              "        const element = document.querySelector('#df-4c63f5fa-1f4a-4738-8c78-28e0fc04fdf8');\n",
              "        const dataTable =\n",
              "          await google.colab.kernel.invokeFunction('convertToInteractive',\n",
              "                                                    [key], {});\n",
              "        if (!dataTable) return;\n",
              "\n",
              "        const docLinkHtml = 'Like what you see? Visit the ' +\n",
              "          '<a target=\"_blank\" href=https://colab.research.google.com/notebooks/data_table.ipynb>data table notebook</a>'\n",
              "          + ' to learn more about interactive tables.';\n",
              "        element.innerHTML = '';\n",
              "        dataTable['output_type'] = 'display_data';\n",
              "        await google.colab.output.renderOutput(dataTable, element);\n",
              "        const docLink = document.createElement('div');\n",
              "        docLink.innerHTML = docLinkHtml;\n",
              "        element.appendChild(docLink);\n",
              "      }\n",
              "    </script>\n",
              "  </div>\n",
              "\n",
              "\n",
              "<div id=\"df-b16e24f9-ed63-4c4f-9eeb-966da5282ffd\">\n",
              "  <button class=\"colab-df-quickchart\" onclick=\"quickchart('df-b16e24f9-ed63-4c4f-9eeb-966da5282ffd')\"\n",
              "            title=\"Suggest charts\"\n",
              "            style=\"display:none;\">\n",
              "\n",
              "<svg xmlns=\"http://www.w3.org/2000/svg\" height=\"24px\"viewBox=\"0 0 24 24\"\n",
              "     width=\"24px\">\n",
              "    <g>\n",
              "        <path d=\"M19 3H5c-1.1 0-2 .9-2 2v14c0 1.1.9 2 2 2h14c1.1 0 2-.9 2-2V5c0-1.1-.9-2-2-2zM9 17H7v-7h2v7zm4 0h-2V7h2v10zm4 0h-2v-4h2v4z\"/>\n",
              "    </g>\n",
              "</svg>\n",
              "  </button>\n",
              "\n",
              "<style>\n",
              "  .colab-df-quickchart {\n",
              "      --bg-color: #E8F0FE;\n",
              "      --fill-color: #1967D2;\n",
              "      --hover-bg-color: #E2EBFA;\n",
              "      --hover-fill-color: #174EA6;\n",
              "      --disabled-fill-color: #AAA;\n",
              "      --disabled-bg-color: #DDD;\n",
              "  }\n",
              "\n",
              "  [theme=dark] .colab-df-quickchart {\n",
              "      --bg-color: #3B4455;\n",
              "      --fill-color: #D2E3FC;\n",
              "      --hover-bg-color: #434B5C;\n",
              "      --hover-fill-color: #FFFFFF;\n",
              "      --disabled-bg-color: #3B4455;\n",
              "      --disabled-fill-color: #666;\n",
              "  }\n",
              "\n",
              "  .colab-df-quickchart {\n",
              "    background-color: var(--bg-color);\n",
              "    border: none;\n",
              "    border-radius: 50%;\n",
              "    cursor: pointer;\n",
              "    display: none;\n",
              "    fill: var(--fill-color);\n",
              "    height: 32px;\n",
              "    padding: 0;\n",
              "    width: 32px;\n",
              "  }\n",
              "\n",
              "  .colab-df-quickchart:hover {\n",
              "    background-color: var(--hover-bg-color);\n",
              "    box-shadow: 0 1px 2px rgba(60, 64, 67, 0.3), 0 1px 3px 1px rgba(60, 64, 67, 0.15);\n",
              "    fill: var(--button-hover-fill-color);\n",
              "  }\n",
              "\n",
              "  .colab-df-quickchart-complete:disabled,\n",
              "  .colab-df-quickchart-complete:disabled:hover {\n",
              "    background-color: var(--disabled-bg-color);\n",
              "    fill: var(--disabled-fill-color);\n",
              "    box-shadow: none;\n",
              "  }\n",
              "\n",
              "  .colab-df-spinner {\n",
              "    border: 2px solid var(--fill-color);\n",
              "    border-color: transparent;\n",
              "    border-bottom-color: var(--fill-color);\n",
              "    animation:\n",
              "      spin 1s steps(1) infinite;\n",
              "  }\n",
              "\n",
              "  @keyframes spin {\n",
              "    0% {\n",
              "      border-color: transparent;\n",
              "      border-bottom-color: var(--fill-color);\n",
              "      border-left-color: var(--fill-color);\n",
              "    }\n",
              "    20% {\n",
              "      border-color: transparent;\n",
              "      border-left-color: var(--fill-color);\n",
              "      border-top-color: var(--fill-color);\n",
              "    }\n",
              "    30% {\n",
              "      border-color: transparent;\n",
              "      border-left-color: var(--fill-color);\n",
              "      border-top-color: var(--fill-color);\n",
              "      border-right-color: var(--fill-color);\n",
              "    }\n",
              "    40% {\n",
              "      border-color: transparent;\n",
              "      border-right-color: var(--fill-color);\n",
              "      border-top-color: var(--fill-color);\n",
              "    }\n",
              "    60% {\n",
              "      border-color: transparent;\n",
              "      border-right-color: var(--fill-color);\n",
              "    }\n",
              "    80% {\n",
              "      border-color: transparent;\n",
              "      border-right-color: var(--fill-color);\n",
              "      border-bottom-color: var(--fill-color);\n",
              "    }\n",
              "    90% {\n",
              "      border-color: transparent;\n",
              "      border-bottom-color: var(--fill-color);\n",
              "    }\n",
              "  }\n",
              "</style>\n",
              "\n",
              "  <script>\n",
              "    async function quickchart(key) {\n",
              "      const quickchartButtonEl =\n",
              "        document.querySelector('#' + key + ' button');\n",
              "      quickchartButtonEl.disabled = true;  // To prevent multiple clicks.\n",
              "      quickchartButtonEl.classList.add('colab-df-spinner');\n",
              "      try {\n",
              "        const charts = await google.colab.kernel.invokeFunction(\n",
              "            'suggestCharts', [key], {});\n",
              "      } catch (error) {\n",
              "        console.error('Error during call to suggestCharts:', error);\n",
              "      }\n",
              "      quickchartButtonEl.classList.remove('colab-df-spinner');\n",
              "      quickchartButtonEl.classList.add('colab-df-quickchart-complete');\n",
              "    }\n",
              "    (() => {\n",
              "      let quickchartButtonEl =\n",
              "        document.querySelector('#df-b16e24f9-ed63-4c4f-9eeb-966da5282ffd button');\n",
              "      quickchartButtonEl.style.display =\n",
              "        google.colab.kernel.accessAllowed ? 'block' : 'none';\n",
              "    })();\n",
              "  </script>\n",
              "</div>\n",
              "    </div>\n",
              "  </div>\n"
            ],
            "text/plain": [
              "        user_id  anime_id  rating  nps_score\n",
              "505452     3284        68      10          1\n",
              "632259     4129        20       4         -1\n",
              "436565     2809        68      10          1\n",
              "455773     2940        20       9          1\n",
              "458217     2954        20       9          1\n",
              "...         ...       ...     ...        ...\n",
              "248830     1527        20       5         -1\n",
              "620181     4028        20       6         -1\n",
              "398220     2515        20       9          1\n",
              "304267     1898        20       9          1\n",
              "251891     1554        20       9          1\n",
              "\n",
              "[1166 rows x 4 columns]"
            ]
          },
          "execution_count": 22,
          "metadata": {},
          "output_type": "execute_result"
        }
      ],
      "source": [
        "for_example=rating_complete_train[rating_complete_train['anime_id'].isin([20, 68])]\n",
        "for_example"
      ]
    },
    {
      "cell_type": "markdown",
      "id": "t2lp1lKNyh5H",
      "metadata": {
        "id": "t2lp1lKNyh5H"
      },
      "source": [
        "Do we need user how rated only one anime? I do not understand the logic behind this but we say No."
      ]
    },
    {
      "cell_type": "code",
      "execution_count": 23,
      "id": "emif5lwxwVnA",
      "metadata": {
        "colab": {
          "base_uri": "https://localhost:8080/",
          "height": 424
        },
        "id": "emif5lwxwVnA",
        "outputId": "ab5d4923-9d6b-4666-f2e4-b16eaddf18eb"
      },
      "outputs": [
        {
          "data": {
            "text/html": [
              "\n",
              "  <div id=\"df-37def9f3-3d78-4565-8c04-6a14da888d7a\" class=\"colab-df-container\">\n",
              "    <div>\n",
              "<style scoped>\n",
              "    .dataframe tbody tr th:only-of-type {\n",
              "        vertical-align: middle;\n",
              "    }\n",
              "\n",
              "    .dataframe tbody tr th {\n",
              "        vertical-align: top;\n",
              "    }\n",
              "\n",
              "    .dataframe thead th {\n",
              "        text-align: right;\n",
              "    }\n",
              "</style>\n",
              "<table border=\"1\" class=\"dataframe\">\n",
              "  <thead>\n",
              "    <tr style=\"text-align: right;\">\n",
              "      <th></th>\n",
              "      <th>user_id</th>\n",
              "      <th>anime_id</th>\n",
              "      <th>rating</th>\n",
              "      <th>nps_score</th>\n",
              "    </tr>\n",
              "  </thead>\n",
              "  <tbody>\n",
              "    <tr>\n",
              "      <th>10408</th>\n",
              "      <td>78</td>\n",
              "      <td>68</td>\n",
              "      <td>9</td>\n",
              "      <td>1</td>\n",
              "    </tr>\n",
              "    <tr>\n",
              "      <th>10444</th>\n",
              "      <td>78</td>\n",
              "      <td>20</td>\n",
              "      <td>10</td>\n",
              "      <td>1</td>\n",
              "    </tr>\n",
              "    <tr>\n",
              "      <th>19725</th>\n",
              "      <td>153</td>\n",
              "      <td>20</td>\n",
              "      <td>10</td>\n",
              "      <td>1</td>\n",
              "    </tr>\n",
              "    <tr>\n",
              "      <th>19531</th>\n",
              "      <td>153</td>\n",
              "      <td>68</td>\n",
              "      <td>10</td>\n",
              "      <td>1</td>\n",
              "    </tr>\n",
              "    <tr>\n",
              "      <th>20043</th>\n",
              "      <td>154</td>\n",
              "      <td>68</td>\n",
              "      <td>6</td>\n",
              "      <td>-1</td>\n",
              "    </tr>\n",
              "    <tr>\n",
              "      <th>...</th>\n",
              "      <td>...</td>\n",
              "      <td>...</td>\n",
              "      <td>...</td>\n",
              "      <td>...</td>\n",
              "    </tr>\n",
              "    <tr>\n",
              "      <th>971347</th>\n",
              "      <td>6246</td>\n",
              "      <td>68</td>\n",
              "      <td>9</td>\n",
              "      <td>1</td>\n",
              "    </tr>\n",
              "    <tr>\n",
              "      <th>982570</th>\n",
              "      <td>6313</td>\n",
              "      <td>68</td>\n",
              "      <td>9</td>\n",
              "      <td>1</td>\n",
              "    </tr>\n",
              "    <tr>\n",
              "      <th>982747</th>\n",
              "      <td>6313</td>\n",
              "      <td>20</td>\n",
              "      <td>9</td>\n",
              "      <td>1</td>\n",
              "    </tr>\n",
              "    <tr>\n",
              "      <th>987885</th>\n",
              "      <td>6357</td>\n",
              "      <td>20</td>\n",
              "      <td>6</td>\n",
              "      <td>-1</td>\n",
              "    </tr>\n",
              "    <tr>\n",
              "      <th>987917</th>\n",
              "      <td>6357</td>\n",
              "      <td>68</td>\n",
              "      <td>6</td>\n",
              "      <td>-1</td>\n",
              "    </tr>\n",
              "  </tbody>\n",
              "</table>\n",
              "<p>94 rows × 4 columns</p>\n",
              "</div>\n",
              "    <div class=\"colab-df-buttons\">\n",
              "\n",
              "  <div class=\"colab-df-container\">\n",
              "    <button class=\"colab-df-convert\" onclick=\"convertToInteractive('df-37def9f3-3d78-4565-8c04-6a14da888d7a')\"\n",
              "            title=\"Convert this dataframe to an interactive table.\"\n",
              "            style=\"display:none;\">\n",
              "\n",
              "  <svg xmlns=\"http://www.w3.org/2000/svg\" height=\"24px\" viewBox=\"0 -960 960 960\">\n",
              "    <path d=\"M120-120v-720h720v720H120Zm60-500h600v-160H180v160Zm220 220h160v-160H400v160Zm0 220h160v-160H400v160ZM180-400h160v-160H180v160Zm440 0h160v-160H620v160ZM180-180h160v-160H180v160Zm440 0h160v-160H620v160Z\"/>\n",
              "  </svg>\n",
              "    </button>\n",
              "\n",
              "  <style>\n",
              "    .colab-df-container {\n",
              "      display:flex;\n",
              "      gap: 12px;\n",
              "    }\n",
              "\n",
              "    .colab-df-convert {\n",
              "      background-color: #E8F0FE;\n",
              "      border: none;\n",
              "      border-radius: 50%;\n",
              "      cursor: pointer;\n",
              "      display: none;\n",
              "      fill: #1967D2;\n",
              "      height: 32px;\n",
              "      padding: 0 0 0 0;\n",
              "      width: 32px;\n",
              "    }\n",
              "\n",
              "    .colab-df-convert:hover {\n",
              "      background-color: #E2EBFA;\n",
              "      box-shadow: 0px 1px 2px rgba(60, 64, 67, 0.3), 0px 1px 3px 1px rgba(60, 64, 67, 0.15);\n",
              "      fill: #174EA6;\n",
              "    }\n",
              "\n",
              "    .colab-df-buttons div {\n",
              "      margin-bottom: 4px;\n",
              "    }\n",
              "\n",
              "    [theme=dark] .colab-df-convert {\n",
              "      background-color: #3B4455;\n",
              "      fill: #D2E3FC;\n",
              "    }\n",
              "\n",
              "    [theme=dark] .colab-df-convert:hover {\n",
              "      background-color: #434B5C;\n",
              "      box-shadow: 0px 1px 3px 1px rgba(0, 0, 0, 0.15);\n",
              "      filter: drop-shadow(0px 1px 2px rgba(0, 0, 0, 0.3));\n",
              "      fill: #FFFFFF;\n",
              "    }\n",
              "  </style>\n",
              "\n",
              "    <script>\n",
              "      const buttonEl =\n",
              "        document.querySelector('#df-37def9f3-3d78-4565-8c04-6a14da888d7a button.colab-df-convert');\n",
              "      buttonEl.style.display =\n",
              "        google.colab.kernel.accessAllowed ? 'block' : 'none';\n",
              "\n",
              "      async function convertToInteractive(key) {\n",
              "        const element = document.querySelector('#df-37def9f3-3d78-4565-8c04-6a14da888d7a');\n",
              "        const dataTable =\n",
              "          await google.colab.kernel.invokeFunction('convertToInteractive',\n",
              "                                                    [key], {});\n",
              "        if (!dataTable) return;\n",
              "\n",
              "        const docLinkHtml = 'Like what you see? Visit the ' +\n",
              "          '<a target=\"_blank\" href=https://colab.research.google.com/notebooks/data_table.ipynb>data table notebook</a>'\n",
              "          + ' to learn more about interactive tables.';\n",
              "        element.innerHTML = '';\n",
              "        dataTable['output_type'] = 'display_data';\n",
              "        await google.colab.output.renderOutput(dataTable, element);\n",
              "        const docLink = document.createElement('div');\n",
              "        docLink.innerHTML = docLinkHtml;\n",
              "        element.appendChild(docLink);\n",
              "      }\n",
              "    </script>\n",
              "  </div>\n",
              "\n",
              "\n",
              "<div id=\"df-bfccf16b-d48b-43e7-9445-5f6c0449c2b8\">\n",
              "  <button class=\"colab-df-quickchart\" onclick=\"quickchart('df-bfccf16b-d48b-43e7-9445-5f6c0449c2b8')\"\n",
              "            title=\"Suggest charts\"\n",
              "            style=\"display:none;\">\n",
              "\n",
              "<svg xmlns=\"http://www.w3.org/2000/svg\" height=\"24px\"viewBox=\"0 0 24 24\"\n",
              "     width=\"24px\">\n",
              "    <g>\n",
              "        <path d=\"M19 3H5c-1.1 0-2 .9-2 2v14c0 1.1.9 2 2 2h14c1.1 0 2-.9 2-2V5c0-1.1-.9-2-2-2zM9 17H7v-7h2v7zm4 0h-2V7h2v10zm4 0h-2v-4h2v4z\"/>\n",
              "    </g>\n",
              "</svg>\n",
              "  </button>\n",
              "\n",
              "<style>\n",
              "  .colab-df-quickchart {\n",
              "      --bg-color: #E8F0FE;\n",
              "      --fill-color: #1967D2;\n",
              "      --hover-bg-color: #E2EBFA;\n",
              "      --hover-fill-color: #174EA6;\n",
              "      --disabled-fill-color: #AAA;\n",
              "      --disabled-bg-color: #DDD;\n",
              "  }\n",
              "\n",
              "  [theme=dark] .colab-df-quickchart {\n",
              "      --bg-color: #3B4455;\n",
              "      --fill-color: #D2E3FC;\n",
              "      --hover-bg-color: #434B5C;\n",
              "      --hover-fill-color: #FFFFFF;\n",
              "      --disabled-bg-color: #3B4455;\n",
              "      --disabled-fill-color: #666;\n",
              "  }\n",
              "\n",
              "  .colab-df-quickchart {\n",
              "    background-color: var(--bg-color);\n",
              "    border: none;\n",
              "    border-radius: 50%;\n",
              "    cursor: pointer;\n",
              "    display: none;\n",
              "    fill: var(--fill-color);\n",
              "    height: 32px;\n",
              "    padding: 0;\n",
              "    width: 32px;\n",
              "  }\n",
              "\n",
              "  .colab-df-quickchart:hover {\n",
              "    background-color: var(--hover-bg-color);\n",
              "    box-shadow: 0 1px 2px rgba(60, 64, 67, 0.3), 0 1px 3px 1px rgba(60, 64, 67, 0.15);\n",
              "    fill: var(--button-hover-fill-color);\n",
              "  }\n",
              "\n",
              "  .colab-df-quickchart-complete:disabled,\n",
              "  .colab-df-quickchart-complete:disabled:hover {\n",
              "    background-color: var(--disabled-bg-color);\n",
              "    fill: var(--disabled-fill-color);\n",
              "    box-shadow: none;\n",
              "  }\n",
              "\n",
              "  .colab-df-spinner {\n",
              "    border: 2px solid var(--fill-color);\n",
              "    border-color: transparent;\n",
              "    border-bottom-color: var(--fill-color);\n",
              "    animation:\n",
              "      spin 1s steps(1) infinite;\n",
              "  }\n",
              "\n",
              "  @keyframes spin {\n",
              "    0% {\n",
              "      border-color: transparent;\n",
              "      border-bottom-color: var(--fill-color);\n",
              "      border-left-color: var(--fill-color);\n",
              "    }\n",
              "    20% {\n",
              "      border-color: transparent;\n",
              "      border-left-color: var(--fill-color);\n",
              "      border-top-color: var(--fill-color);\n",
              "    }\n",
              "    30% {\n",
              "      border-color: transparent;\n",
              "      border-left-color: var(--fill-color);\n",
              "      border-top-color: var(--fill-color);\n",
              "      border-right-color: var(--fill-color);\n",
              "    }\n",
              "    40% {\n",
              "      border-color: transparent;\n",
              "      border-right-color: var(--fill-color);\n",
              "      border-top-color: var(--fill-color);\n",
              "    }\n",
              "    60% {\n",
              "      border-color: transparent;\n",
              "      border-right-color: var(--fill-color);\n",
              "    }\n",
              "    80% {\n",
              "      border-color: transparent;\n",
              "      border-right-color: var(--fill-color);\n",
              "      border-bottom-color: var(--fill-color);\n",
              "    }\n",
              "    90% {\n",
              "      border-color: transparent;\n",
              "      border-bottom-color: var(--fill-color);\n",
              "    }\n",
              "  }\n",
              "</style>\n",
              "\n",
              "  <script>\n",
              "    async function quickchart(key) {\n",
              "      const quickchartButtonEl =\n",
              "        document.querySelector('#' + key + ' button');\n",
              "      quickchartButtonEl.disabled = true;  // To prevent multiple clicks.\n",
              "      quickchartButtonEl.classList.add('colab-df-spinner');\n",
              "      try {\n",
              "        const charts = await google.colab.kernel.invokeFunction(\n",
              "            'suggestCharts', [key], {});\n",
              "      } catch (error) {\n",
              "        console.error('Error during call to suggestCharts:', error);\n",
              "      }\n",
              "      quickchartButtonEl.classList.remove('colab-df-spinner');\n",
              "      quickchartButtonEl.classList.add('colab-df-quickchart-complete');\n",
              "    }\n",
              "    (() => {\n",
              "      let quickchartButtonEl =\n",
              "        document.querySelector('#df-bfccf16b-d48b-43e7-9445-5f6c0449c2b8 button');\n",
              "      quickchartButtonEl.style.display =\n",
              "        google.colab.kernel.accessAllowed ? 'block' : 'none';\n",
              "    })();\n",
              "  </script>\n",
              "</div>\n",
              "    </div>\n",
              "  </div>\n"
            ],
            "text/plain": [
              "        user_id  anime_id  rating  nps_score\n",
              "10408        78        68       9          1\n",
              "10444        78        20      10          1\n",
              "19725       153        20      10          1\n",
              "19531       153        68      10          1\n",
              "20043       154        68       6         -1\n",
              "...         ...       ...     ...        ...\n",
              "971347     6246        68       9          1\n",
              "982570     6313        68       9          1\n",
              "982747     6313        20       9          1\n",
              "987885     6357        20       6         -1\n",
              "987917     6357        68       6         -1\n",
              "\n",
              "[94 rows x 4 columns]"
            ]
          },
          "execution_count": 23,
          "metadata": {},
          "output_type": "execute_result"
        }
      ],
      "source": [
        "for_example = for_example[for_example.duplicated(subset=['user_id'], keep=False)].sort_values('user_id')\n",
        "for_example"
      ]
    },
    {
      "cell_type": "markdown",
      "id": "K8ThALeFyBQp",
      "metadata": {
        "id": "K8ThALeFyBQp"
      },
      "source": [
        "This line of code is doing two main things:\n",
        "\n",
        "1. a.duplicated(subset=['user_id'], keep=False): This part of the code is creating a boolean mask for the DataFrame a. It checks if the 'user_id' is duplicated in the DataFrame. The keep=False argument means that it will mark all duplicates as True, not just the second and subsequent occurrences. So, if a 'user_id' appears more than once in the DataFrame, all its occurrences will be marked as True.\n",
        "2. [...]: This part of the code is using the boolean mask to filter the DataFrame a. Only the rows where the mask is True (i.e., the 'user_id' is duplicated) will be kept.\n",
        "3. .sort_values('user_id'): Finally, this part of the code sorts the filtered DataFrame based on the 'user_id' column."
      ]
    },
    {
      "cell_type": "code",
      "execution_count": 24,
      "id": "D7Rqm3w20AKB",
      "metadata": {
        "colab": {
          "base_uri": "https://localhost:8080/"
        },
        "id": "D7Rqm3w20AKB",
        "outputId": "171af899-ea14-460c-f536-8fedf6b94623"
      },
      "outputs": [
        {
          "data": {
            "text/plain": [
              "user_id\n",
              "78        [1, 1]\n",
              "153       [1, 1]\n",
              "154      [-1, 1]\n",
              "375      [-1, 1]\n",
              "433      [-1, 1]\n",
              "439     [-1, -1]\n",
              "440       [1, 1]\n",
              "446      [-1, 1]\n",
              "689       [1, 1]\n",
              "719      [-1, 1]\n",
              "851     [-1, -1]\n",
              "1094     [-1, 1]\n",
              "1752      [1, 1]\n",
              "1916     [-1, 1]\n",
              "2403    [-1, -1]\n",
              "2450     [-1, 1]\n",
              "2809      [1, 1]\n",
              "2866      [1, 1]\n",
              "2919    [-1, -1]\n",
              "3260    [-1, -1]\n",
              "3354      [1, 1]\n",
              "3399      [1, 1]\n",
              "3558    [-1, -1]\n",
              "3578      [1, 1]\n",
              "3651      [1, 1]\n",
              "3663     [-1, 1]\n",
              "3836     [-1, 1]\n",
              "3842     [-1, 1]\n",
              "3899      [1, 1]\n",
              "3916    [-1, -1]\n",
              "4036    [-1, -1]\n",
              "4136      [1, 1]\n",
              "4396      [1, 1]\n",
              "4732     [-1, 1]\n",
              "5009     [-1, 1]\n",
              "5043     [-1, 1]\n",
              "5117      [1, 1]\n",
              "5211    [-1, -1]\n",
              "5558     [-1, 1]\n",
              "5778      [1, 1]\n",
              "5910     [-1, 1]\n",
              "5947    [-1, -1]\n",
              "6084    [-1, -1]\n",
              "6095     [-1, 1]\n",
              "6246      [1, 1]\n",
              "6313      [1, 1]\n",
              "6357    [-1, -1]\n",
              "Name: nps_score, dtype: object"
            ]
          },
          "execution_count": 24,
          "metadata": {},
          "output_type": "execute_result"
        }
      ],
      "source": [
        "for_example=for_example.groupby('user_id', group_keys=True)['nps_score'].apply(sorted)\n",
        "for_example"
      ]
    },
    {
      "cell_type": "code",
      "execution_count": 25,
      "id": "R43Oxfqt2F2l",
      "metadata": {
        "colab": {
          "base_uri": "https://localhost:8080/"
        },
        "id": "R43Oxfqt2F2l",
        "outputId": "677347a8-3c73-48e6-a0c0-a30bd665ff89"
      },
      "outputs": [
        {
          "data": {
            "text/plain": [
              "[1, 1]     0.514286\n",
              "[-1, 1]    0.485714\n",
              "Name: nps_score, dtype: float64"
            ]
          },
          "execution_count": 25,
          "metadata": {},
          "output_type": "execute_result"
        }
      ],
      "source": [
        "for_example=for_example[for_example.isin([[-1, 1], [1, 1]])].value_counts(normalize=True)\n",
        "for_example"
      ]
    },
    {
      "cell_type": "code",
      "execution_count": 26,
      "id": "9bVObheYImCe",
      "metadata": {
        "colab": {
          "base_uri": "https://localhost:8080/"
        },
        "id": "9bVObheYImCe",
        "outputId": "dba4e2d5-6cb8-47fe-be32-bcbdf8d32cb3"
      },
      "outputs": [
        {
          "data": {
            "text/plain": [
              "[0.4857142857142857, 0.5142857142857142]"
            ]
          },
          "execution_count": 26,
          "metadata": {},
          "output_type": "execute_result"
        }
      ],
      "source": [
        "for_example.sort_index().tolist()"
      ]
    },
    {
      "cell_type": "code",
      "execution_count": 27,
      "id": "mHZ_WZZZVWm1",
      "metadata": {
        "id": "mHZ_WZZZVWm1"
      },
      "outputs": [],
      "source": [
        "def anime_pair_scores(a1, a2):\n",
        "    a = rating_complete_train[rating_complete_train['anime_id'].isin([a1, a2])]\n",
        "\n",
        "    # only keep rows with duplicates in the user_id column\n",
        "    a = a[a.duplicated(subset=['user_id'], keep=False)].sort_values('user_id')\n",
        "    # print(a.groupby('user_id')['nps_score'].apply(sorted).value_counts())\n",
        "\n",
        "    anime_pair_scores = a.groupby('user_id', group_keys=True)['nps_score'].apply(sorted)\n",
        "\n",
        "    two_scores = anime_pair_scores[anime_pair_scores.isin([[-1, 1], [1, 1]])].value_counts(normalize=True)\n",
        "    if len(two_scores) != 2:\n",
        "        return None\n",
        "    disagree_score, positively_agree_score = two_scores.sort_index().tolist()  # [-1, 1], [1, 1]\n",
        "    # return disagree_score, positively_agree_score\n",
        "\n",
        "    if positively_agree_score > disagree_score:\n",
        "        # print(f'{a1} and {a2} are similar')\n",
        "        return positively_agree_score\n",
        "    else:\n",
        "        # print(f'{a1} and {a2} are dissimilar')\n",
        "        return -1 * disagree_score"
      ]
    },
    {
      "cell_type": "code",
      "execution_count": 28,
      "id": "bFglVUghWs36",
      "metadata": {
        "id": "bFglVUghWs36"
      },
      "outputs": [],
      "source": [
        "set_of_anime_pairs = set(anime_pairs)"
      ]
    },
    {
      "cell_type": "code",
      "execution_count": 29,
      "id": "96bed0c5",
      "metadata": {
        "colab": {
          "base_uri": "https://localhost:8080/",
          "height": 49,
          "referenced_widgets": [
            "d550a5429e7341608069a1fbdf92794a",
            "64961d7224c948d6af592939651ead86",
            "aea199156afb4ef7bbff01f2261a3fe5",
            "a5b88f33924747b7af4645b2d1f0b5a9",
            "92cc1c72147c43a88989d4421421b4a7",
            "9388dec9188e4f60976ec4e20f2d2e6f",
            "e695d29a840c44aeabef68c005cc0d65",
            "eee1be1df27743eea60d944ccb2bcbec",
            "7b8067d65fbb4f37a73341e7d19425c5",
            "3a41336fc27f4e789df0384756f1aa94",
            "13f4f4fbd442410285e9e6dfbda451c6"
          ]
        },
        "id": "96bed0c5",
        "outputId": "c48faf6f-aca6-441b-9493-f5a57a1025b9",
        "scrolled": true
      },
      "outputs": [
        {
          "data": {
            "application/vnd.jupyter.widget-view+json": {
              "model_id": "d550a5429e7341608069a1fbdf92794a",
              "version_major": 2,
              "version_minor": 0
            },
            "text/plain": [
              "  0%|          | 0/1000 [00:00<?, ?it/s]"
            ]
          },
          "metadata": {},
          "output_type": "display_data"
        }
      ],
      "source": [
        "'''\n",
        "This script prepares training examples where each example consists of a pair of animes.\n",
        "'''\n",
        "# Initializing empty lists for storing positive and negative pairs examples\n",
        "positive_pairs_examples, negative_pairs_examples = [], []\n",
        "considered_pairs = {}\n",
        "all_scores = []\n",
        "\n",
        "unique_mal_ids = set(pre_merged_anime['MAL_ID'].unique())\n",
        "\n",
        "# Setting the seed value for random function to ensure the reproducibility of results\n",
        "random.seed(42)\n",
        "\n",
        "# Looping over each pair of animes\n",
        "for a1, a2 in tqdm(anime_pairs):\n",
        "    # If any of the animes in the pair is not found in the pre_merged_anime dataframe index, we skip the current iteration\n",
        "    if a1 not in unique_mal_ids or a2 not in unique_mal_ids:\n",
        "        continue\n",
        "\n",
        "    # Calculating similarity between the sets of users who like anime a1 and anime a2\n",
        "    j = anime_pair_scores(a1, a2)\n",
        "    all_scores.append(j)\n",
        "    text_pair = pre_merged_anime[pre_merged_anime['MAL_ID'].isin([a1, a2])]['generated_description'].tolist()\n",
        "\n",
        "    # If the similarity is non-zero (i.e., there are some common users)\n",
        "    if j is not None:\n",
        "        # If similarity is greater than or equal to 0.8,\n",
        "        # then the pair is considered as a positive example and added to the positive_pairs_examples list\n",
        "        if j >= 0.7:\n",
        "            positive_pairs_examples.append(InputExample(texts=text_pair, label=j))\n",
        "\n",
        "        # If similarity is less than -0.8,\n",
        "        # then the pair is considered as a negative example and added to the negative_pairs_examples list\n",
        "        elif j < -0.7:\n",
        "            negative_pairs_examples.append(InputExample(texts=text_pair, label=j))\n"
      ]
    },
    {
      "cell_type": "code",
      "execution_count": 30,
      "id": "BHNyPPWrSwqL",
      "metadata": {
        "colab": {
          "base_uri": "https://localhost:8080/",
          "height": 604
        },
        "id": "BHNyPPWrSwqL",
        "outputId": "d5b5728f-ce5e-4828-a2fa-0231b28af4bf"
      },
      "outputs": [
        {
          "data": {
            "text/plain": [
              "(count    885.000000\n",
              " mean       0.176305\n",
              " std        0.672927\n",
              " min       -0.954545\n",
              " 25%       -0.578947\n",
              " 50%        0.597015\n",
              " 75%        0.743590\n",
              " max        0.964286\n",
              " dtype: float64,\n",
              " <Axes: >)"
            ]
          },
          "execution_count": 30,
          "metadata": {},
          "output_type": "execute_result"
        },
        {
          "data": {
            "image/png": "[encoded data removed]",
            "text/plain": [
              "<Figure size 640x480 with 1 Axes>"
            ]
          },
          "metadata": {},
          "output_type": "display_data"
        }
      ],
      "source": [
        "# Unsurprisingly, we get a multi-modal distribution where people tend to either agree or disagree considering we removed all nps scores of 0 :)\n",
        "pd.Series(all_scores).describe(), pd.Series(all_scores).hist()"
      ]
    },
    {
      "cell_type": "code",
      "execution_count": 31,
      "id": "5MvoUlKHpUlC",
      "metadata": {
        "colab": {
          "base_uri": "https://localhost:8080/"
        },
        "id": "5MvoUlKHpUlC",
        "outputId": "f0f6f615-b2f7-4fed-a457-d58930f0a5d9"
      },
      "outputs": [
        {
          "data": {
            "text/plain": [
              "(270, 100)"
            ]
          },
          "execution_count": 31,
          "metadata": {},
          "output_type": "execute_result"
        }
      ],
      "source": [
        "# This might seem like not a lot of data, but we will see sometimes that's all it takes!\n",
        "len(positive_pairs_examples), len(negative_pairs_examples)"
      ]
    },
    {
      "cell_type": "code",
      "execution_count": 32,
      "id": "d5749609",
      "metadata": {
        "colab": {
          "base_uri": "https://localhost:8080/"
        },
        "id": "d5749609",
        "outputId": "9012a5f4-c6b6-49a9-8c73-f1bafcee2a0e"
      },
      "outputs": [
        {
          "data": {
            "text/plain": [
              "{'guid': '',\n",
              " 'texts': ['Highschool of the Dead is a TV Show.\\nSynopsis: It happened suddenly: The dead began to rise and Japan was thrown into total chaos. As these monsters begin terrorizing a high school, Takashi Kimuro is forced to kill his best friend when he gets bitten and joins the ranks of the walking dead. Vowing to protect Rei Miyamoto, the girlfriend of the man he just executed, they narrowly escape their death trap of a school, only to be greeted with a society that has already fallen. Soon, Takashi and Rei band together with other students on a journey to find their family members and uncover what caused this overwhelming pandemic. Joining them is Saeko Busujima, the beautiful president of the Kendo Club; Kouta Hirano, an otaku with a fetish for firearms; Saya Takagi, the daughter of an influential politician; and Shizuka Marikawa, their hot school nurse. But will the combined strength of these individuals be enough to conquer this undead apocalypse?\\nIt was produced by Geneon Universal Entertainment, AT-X, Showgate and it is from Madhouse Studio.\\nIts source is Manga.\\nIt premiered in Summer 2010.\\nIts genres are Action, Horror, Supernatural, Ecchi, Shounen',\n",
              "  'To LOVE-Ru Darkness is a TV Show.\\nSynopsis: s close encounters of the twisted kind between the residents of the planet Develuke (represented primarily by the female members of the royal family) and the inhabitants of Earth (represented mainly by one very exhausted Rito Yuki) continue to escalate, the situation spirals even further out of control. When junior princesses Nana and Momo transferred into Earth School where big sister LaLa can (theoretically) keep an eye on them, things SHOULD be smooth sailing. But when Momo decides she\\'d like to \"supplement\" Rito\\'s relationship with LaLa with a little \"sisterly love,\" you know LaLa\\'s not going to waste any time splitting harems. Unfortunately, it\\'s just about that point that Yami, the Golden Darkness, enters the scene with all the subtleness of a supernova, along with an army of possessed high school students! All of which is certain to make Rito\\'s life suck more than a black hole at the family picnic. Unless, of course, a certain semi-demonic princess can apply a little of her Develukean Whoop Ass to exactly that portion of certain other heavenly bodies! (Source: Sentai Filmworks)\\nIt was produced by Geneon Universal Entertainment, Magic Capsule, Shueisha and it is from Xebec Studio.\\nIts source is Manga.\\nIt premiered in Fall 2012.\\nIts genres are Comedy, Ecchi, Harem, Romance, School, Sci-Fi, Shounen'],\n",
              " 'label': 0.7611940298507462}"
            ]
          },
          "execution_count": 32,
          "metadata": {},
          "output_type": "execute_result"
        }
      ],
      "source": [
        "positive_pairs_examples[0].__dict__  # example of a positive pair"
      ]
    },
    {
      "cell_type": "code",
      "execution_count": 33,
      "id": "c49514cd",
      "metadata": {
        "colab": {
          "base_uri": "https://localhost:8080/"
        },
        "id": "c49514cd",
        "outputId": "31f98680-1b10-44fb-af5b-5899e25dcd4d"
      },
      "outputs": [
        {
          "data": {
            "text/plain": [
              "{'guid': '',\n",
              " 'texts': [\"Goshuushou-sama Ninomiya-kun is a TV Show.\\nSynopsis: Shungo Ninomiya is just an ordinary, run-of-the-mill high school student who lives at home with his older sister Ryokoat least when she's not away doing her job as a mercenary. However, Shungo's life ceases to be normal the moment a cute girl named Mayu Tsukimura descends into the middle of his school's campus in a military-grade helicopter. It turns out Ryoko sent this girl, along with her older brother Mikihiro, to live at the Ninomiya household. But the newly-arrived siblings are a little special: Mayu is, in fact, a succubus and her brother, an incubus! And as if the circumstances are not problematic enough, Mayu is crippled with androphobiathe fear of menand it's up to Shungo to help her overcome this at the behest of his sister. Ryoko plans to force Mayu to be closer to Shungo, and to do this, shell employ some questionable methods such as having them share the same bed and even take baths together. The situation further complicates when student council president Reika Houjou arrives as the new maid of the Ninomiya family, and she will stop at nothing to thwart Shungo and Mayus sexually-geared training. With the sudden arrival of all these oddities, Shungo's ordinary life is about to be thrown into utter turmoil.\\nIt was produced by Kadokawa Shoten and it is from AIC Spirits Studio.\\nIts source is Light novel.\\nIt premiered in Fall 2007.\\nIts genres are Harem, Comedy, Ecchi, Fantasy\",\n",
              "  'Shinsekai yori is a TV Show.\\nSynopsis: In the town of Kamisu 66, 12-year-old Saki Watanabe has just awakened to her psychic powers and is relieved to rejoin her friendsthe mischievous Satoru Asahina, the shy Mamoru Itou, the cheerful Maria Akizuki, and Shun Aonuma, a mysterious boy whom Saki admiresat Sage Academy, a special school for psychics. However, unease looms as Saki begins to question the fate of those unable to awaken to their powers, and the children begin to get involved with secretive matters such as the rumored Tainted Cats said to abduct children. Shinsekai yori tells the unique coming-of-age story of Saki and her friends as they journey to grow into their roles in the supposed utopia. Accepting these roles, however, might not come easy when faced with the dark and shocking truths of society, and the impending havoc born from the new world.\\nIt was produced by Aniplex, TV Asahi, Pony Canyon and it is from A-1 Pictures Studio.\\nIts source is Novel.\\nIt premiered in Fall 2012.\\nIts genres are Drama, Horror, Mystery, Psychological, Sci-Fi, Supernatural'],\n",
              " 'label': -0.875}"
            ]
          },
          "execution_count": 33,
          "metadata": {},
          "output_type": "execute_result"
        }
      ],
      "source": [
        "negative_pairs_examples[0].__dict__  # example of a negative pair"
      ]
    },
    {
      "cell_type": "code",
      "execution_count": 34,
      "id": "4f7af0d3",
      "metadata": {
        "id": "4f7af0d3"
      },
      "outputs": [],
      "source": [
        "# Splitting them up separately to keep the split a bit stratefied.\n",
        "train_positive_pairs, val_positive_pairs = train_test_split(positive_pairs_examples, test_size=0.2, random_state=42)\n",
        "train_negative_pairs, val_negative_pairs = train_test_split(negative_pairs_examples, test_size=0.2, random_state=42)\n",
        "\n",
        "# Combine positive and negative pairs\n",
        "train_examples = train_positive_pairs + train_negative_pairs\n",
        "\n",
        "# Combine positive and negative pairs for the validation set\n",
        "val_examples = val_positive_pairs + val_negative_pairs"
      ]
    },
    {
      "cell_type": "markdown",
      "id": "jZkCD83janGr",
      "metadata": {
        "id": "jZkCD83janGr"
      },
      "source": [
        "**Our dataset for training embedders is ready!!!**"
      ]
    },
    {
      "cell_type": "markdown",
      "id": "7LNUWOwsa-2B",
      "metadata": {
        "id": "7LNUWOwsa-2B"
      },
      "source": [
        "# 4. Let's fine-tune our embedders."
      ]
    },
    {
      "cell_type": "markdown",
      "id": "AM5qD9IQbs5a",
      "metadata": {
        "id": "AM5qD9IQbs5a"
      },
      "source": [
        "### 4.1. Let's download our first embedder and look at its architecture."
      ]
    },
    {
      "cell_type": "code",
      "execution_count": 35,
      "id": "81c7f340",
      "metadata": {
        "colab": {
          "base_uri": "https://localhost:8080/"
        },
        "id": "81c7f340",
        "outputId": "f7811040-ad79-4085-d479-73154774f9fb"
      },
      "outputs": [
        {
          "data": {
            "text/plain": [
              "SentenceTransformer(\n",
              "  (0): Transformer({'max_seq_length': 128, 'do_lower_case': False}) with Transformer model: RobertaModel \n",
              "  (1): Pooling({'word_embedding_dimension': 768, 'pooling_mode_cls_token': False, 'pooling_mode_mean_tokens': True, 'pooling_mode_max_tokens': False, 'pooling_mode_mean_sqrt_len_tokens': False})\n",
              ")"
            ]
          },
          "execution_count": 35,
          "metadata": {},
          "output_type": "execute_result"
        }
      ],
      "source": [
        "anime_encoder = SentenceTransformer('paraphrase-distilroberta-base-v1')\n",
        "anime_encoder"
      ]
    },
    {
      "cell_type": "markdown",
      "id": "IKw_q3yEcyq0",
      "metadata": {
        "id": "IKw_q3yEcyq0"
      },
      "source": [
        "We see that the seq_length is only 128. Are we sure that it is enough for our inputs (descriptions)? Let's check it."
      ]
    },
    {
      "cell_type": "code",
      "execution_count": 36,
      "id": "6XHZpg6pdbAN",
      "metadata": {
        "colab": {
          "base_uri": "https://localhost:8080/",
          "height": 0
        },
        "id": "6XHZpg6pdbAN",
        "outputId": "1b20d21d-808a-4222-aa17-a3f58caaa070"
      },
      "outputs": [
        {
          "name": "stderr",
          "output_type": "stream",
          "text": [
            "Token indices sequence length is longer than the specified maximum sequence length for this model (689 > 512). Running this sequence through the model will result in indexing errors\n"
          ]
        },
        {
          "data": {
            "image/png": "[encoded data removed]",
            "text/plain": [
              "<Figure size 1000x600 with 1 Axes>"
            ]
          },
          "metadata": {},
          "output_type": "display_data"
        }
      ],
      "source": [
        "lengths = []\n",
        "for c in pre_merged_anime['generated_description']:\n",
        "    lengths.append(anime_encoder.tokenizer(c, return_tensors='pt')['input_ids'].shape[1])\n",
        "\n",
        "# Set up the plot and histogram\n",
        "plt.figure(figsize=(10, 6))\n",
        "plt.hist(lengths, bins=30, edgecolor='black', color='steelblue', alpha=0.7)\n",
        "\n",
        "# Customize the plot's appearance\n",
        "plt.title(\"Histogram of Token Lengths\", fontsize=16)\n",
        "plt.xlabel(\"Lengths\", fontsize=14)\n",
        "plt.ylabel(\"Frequency\", fontsize=14)\n",
        "plt.xticks(fontsize=12)\n",
        "plt.yticks(fontsize=12)\n",
        "plt.grid(axis='y', alpha=0.5, linestyle='--')\n",
        "\n",
        "# Display the histogram\n",
        "plt.show()"
      ]
    },
    {
      "cell_type": "markdown",
      "id": "2gXvMqPkd1zR",
      "metadata": {
        "id": "2gXvMqPkd1zR"
      },
      "source": [
        "128 is very low for our inputs. So we will increase its value."
      ]
    },
    {
      "cell_type": "code",
      "execution_count": 37,
      "id": "c4bd3786",
      "metadata": {
        "colab": {
          "base_uri": "https://localhost:8080/"
        },
        "id": "c4bd3786",
        "outputId": "b5f49714-b1f4-40d8-8540-271221dd65a6",
        "scrolled": true
      },
      "outputs": [
        {
          "data": {
            "text/plain": [
              "SentenceTransformer(\n",
              "  (0): Transformer({'max_seq_length': 384, 'do_lower_case': False}) with Transformer model: RobertaModel \n",
              "  (1): Pooling({'word_embedding_dimension': 768, 'pooling_mode_cls_token': False, 'pooling_mode_mean_tokens': True, 'pooling_mode_max_tokens': False, 'pooling_mode_mean_sqrt_len_tokens': False})\n",
              ")"
            ]
          },
          "execution_count": 37,
          "metadata": {},
          "output_type": "execute_result"
        }
      ],
      "source": [
        "anime_encoder.max_seq_length = 384\n",
        "anime_encoder"
      ]
    },
    {
      "cell_type": "markdown",
      "id": "0_oyeVCBeOqY",
      "metadata": {
        "id": "0_oyeVCBeOqY"
      },
      "source": [
        "### 4.2. Now let's create val DataLoader."
      ]
    },
    {
      "cell_type": "code",
      "execution_count": 38,
      "id": "fef14de9",
      "metadata": {
        "id": "fef14de9"
      },
      "outputs": [],
      "source": [
        "# Create a DataLoader for the validation examples\n",
        "val_dataloader = DataLoader(\n",
        "    val_examples,\n",
        "    batch_size=2,\n",
        "    shuffle=True\n",
        ")\n",
        "\n",
        "# Extract sentences and scores from the validation examples\n",
        "val_sentences1 = [ex.texts[0] for ex in val_examples]\n",
        "val_sentences2 = [ex.texts[1] for ex in val_examples]\n",
        "val_scores = [ex.label for ex in val_examples]\n",
        "\n",
        "# Create the evaluator\n",
        "evaluator = evaluation.EmbeddingSimilarityEvaluator(val_sentences1, val_sentences2, val_scores)"
      ]
    },
    {
      "cell_type": "markdown",
      "id": "bxLOc2wFec2E",
      "metadata": {
        "id": "bxLOc2wFec2E"
      },
      "source": [
        "### 4.3. Let's check the performance of unfine-tuned models with 128 and 384 max_seq_length"
      ]
    },
    {
      "cell_type": "code",
      "execution_count": 39,
      "id": "a98cad44",
      "metadata": {
        "colab": {
          "base_uri": "https://localhost:8080/"
        },
        "id": "a98cad44",
        "outputId": "9f85919e-dd7c-49e7-c6f8-3de2b239e710"
      },
      "outputs": [
        {
          "data": {
            "text/plain": [
              "0.20356269201777127"
            ]
          },
          "execution_count": 39,
          "metadata": {},
          "output_type": "execute_result"
        }
      ],
      "source": [
        "# original architecture cuts off so much context becasue limit is 128\n",
        "SentenceTransformer('paraphrase-distilroberta-base-v1').evaluate(evaluator)"
      ]
    },
    {
      "cell_type": "code",
      "execution_count": 40,
      "id": "e3294b38",
      "metadata": {
        "colab": {
          "base_uri": "https://localhost:8080/"
        },
        "id": "e3294b38",
        "outputId": "0699cafe-c345-4ae8-f496-4875df247190",
        "scrolled": true
      },
      "outputs": [
        {
          "data": {
            "text/plain": [
              "0.0984024661472045"
            ]
          },
          "execution_count": 40,
          "metadata": {},
          "output_type": "execute_result"
        }
      ],
      "source": [
        "# Both are pretty bad to be fair.\n",
        "anime_encoder.evaluate(evaluator)"
      ]
    },
    {
      "cell_type": "markdown",
      "id": "FKax-IQMe3vT",
      "metadata": {
        "id": "FKax-IQMe3vT"
      },
      "source": [
        "### 4.4. Let's create train dataLoader and fine-tube our model."
      ]
    },
    {
      "cell_type": "code",
      "execution_count": 41,
      "id": "52262c78",
      "metadata": {
        "colab": {
          "base_uri": "https://localhost:8080/",
          "height": 0,
          "referenced_widgets": [
            "80b4ef454a584743a042dfcad5cdaeab",
            "ad8769e09df34b6db25078db39d817c5",
            "1b378af7efb942848b12d4e8165a2b55",
            "c8bf8f1c36fd4d92ac6518f4e64c6acd",
            "9ce94b03367c4f24a0c4eef5302ba0f3",
            "c7907d21100148d9af29fcb43aada4de",
            "d870464ed8064b0b92fd8fa069bfd730",
            "4ceb6a9ec3c14a889970820fb8e831a1",
            "74ae5bc99d06493ca160bce89ce53f11",
            "7b2d605756304169992cbad5f03ef5ae",
            "edb0c03a05b641998450817008069389",
            "7027bfef0b3f4662addeb27a5d2c15bc",
            "893bfe1f42fa45d28bb91fb1f0db921d",
            "6cf8d84474b84367a25e56a1af4addc6",
            "1e5f5d9587944cd79298fd7ca9e2e541",
            "a682cf57b32d451cbac748e6621a7ee4",
            "88ae901f20db4c53996c8c2682b2ff82",
            "4c7993aa17a646be8da09ba4044a34cc",
            "0e141bcede7043bba6fadec3021883f7",
            "894e8cf6cbe24142858a840228b79930",
            "fad5bbd13c30418c90ebf355be7f6763",
            "3579d8437b0d4e13a8212dc1edec0fa0"
          ]
        },
        "id": "52262c78",
        "outputId": "01f2aa35-eeb8-439a-ea9b-f42b409693b7",
        "scrolled": true
      },
      "outputs": [
        {
          "data": {
            "application/vnd.jupyter.widget-view+json": {
              "model_id": "80b4ef454a584743a042dfcad5cdaeab",
              "version_major": 2,
              "version_minor": 0
            },
            "text/plain": [
              "Epoch:   0%|          | 0/1 [00:00<?, ?it/s]"
            ]
          },
          "metadata": {},
          "output_type": "display_data"
        },
        {
          "data": {
            "application/vnd.jupyter.widget-view+json": {
              "model_id": "7027bfef0b3f4662addeb27a5d2c15bc",
              "version_major": 2,
              "version_minor": 0
            },
            "text/plain": [
              "Iteration:   0%|          | 0/148 [00:00<?, ?it/s]"
            ]
          },
          "metadata": {},
          "output_type": "display_data"
        }
      ],
      "source": [
        "# Create a DataLoader for the examples\n",
        "train_dataloader = DataLoader(\n",
        "    train_examples,\n",
        "    batch_size=2,\n",
        "    shuffle=True\n",
        ")\n",
        "\n",
        "# Define the loss function\n",
        "loss = losses.CosineSimilarityLoss(model=anime_encoder)\n",
        "\n",
        "# Train the model\n",
        "num_epochs = 1\n",
        "warmup_steps = int(len(train_dataloader) * num_epochs * 0.1)  # 10% of training data for warm-up\n",
        "\n",
        "# Configure the training\n",
        "anime_encoder.fit(\n",
        "    train_objectives=[(train_dataloader, loss)],\n",
        "    epochs=num_epochs,\n",
        "    warmup_steps=warmup_steps,\n",
        "    evaluator=evaluator,\n",
        "    output_path=\"anime_encoder\"\n",
        ")"
      ]
    },
    {
      "cell_type": "markdown",
      "id": "nEGHk6HpfFT1",
      "metadata": {
        "id": "nEGHk6HpfFT1"
      },
      "source": [
        "And let's check its performance!"
      ]
    },
    {
      "cell_type": "code",
      "execution_count": 42,
      "id": "7338061f",
      "metadata": {
        "colab": {
          "base_uri": "https://localhost:8080/"
        },
        "id": "7338061f",
        "outputId": "8129b256-73e0-4e12-9a8c-42d74cc47150"
      },
      "outputs": [
        {
          "data": {
            "text/plain": [
              "0.20737134168642057"
            ]
          },
          "execution_count": 42,
          "metadata": {},
          "output_type": "execute_result"
        }
      ],
      "source": [
        "anime_encoder.evaluate(evaluator)  # better!"
      ]
    },
    {
      "cell_type": "code",
      "execution_count": 43,
      "id": "902e9e94",
      "metadata": {
        "id": "902e9e94"
      },
      "outputs": [],
      "source": [
        "# Save the fine-tuned model\n",
        "anime_encoder.save(\"anime_encoder\")"
      ]
    },
    {
      "cell_type": "markdown",
      "id": "GjCt5aaufNu4",
      "metadata": {
        "id": "GjCt5aaufNu4"
      },
      "source": [
        "# 5. Let's do the same thing with other embedder."
      ]
    },
    {
      "cell_type": "code",
      "execution_count": 44,
      "id": "d4ce640b",
      "metadata": {
        "colab": {
          "base_uri": "https://localhost:8080/"
        },
        "id": "d4ce640b",
        "outputId": "4de6bcda-3dac-4ff1-b575-e509d4e74890",
        "scrolled": true
      },
      "outputs": [
        {
          "data": {
            "text/plain": [
              "SentenceTransformer(\n",
              "  (0): Transformer({'max_seq_length': 384, 'do_lower_case': False}) with Transformer model: MPNetModel \n",
              "  (1): Pooling({'word_embedding_dimension': 768, 'pooling_mode_cls_token': False, 'pooling_mode_mean_tokens': True, 'pooling_mode_max_tokens': False, 'pooling_mode_mean_sqrt_len_tokens': False})\n",
              "  (2): Normalize()\n",
              ")"
            ]
          },
          "execution_count": 44,
          "metadata": {},
          "output_type": "execute_result"
        }
      ],
      "source": [
        "# Load a pre-trained SBERT model\n",
        "anime_encoder_bigger = SentenceTransformer('all-mpnet-base-v2')\n",
        "anime_encoder_bigger"
      ]
    },
    {
      "cell_type": "code",
      "execution_count": 45,
      "id": "bba6f93f",
      "metadata": {
        "id": "bba6f93f"
      },
      "outputs": [],
      "source": [
        "# Create a DataLoader for the examples. Technically not necessary because we defined it earlier\n",
        "train_dataloader = DataLoader(\n",
        "    train_examples,\n",
        "    batch_size=2,\n",
        "    shuffle=True\n",
        ")\n",
        "\n",
        "# Define the loss function for our new model\n",
        "loss = losses.CosineSimilarityLoss(model=anime_encoder_bigger)"
      ]
    },
    {
      "cell_type": "code",
      "execution_count": 46,
      "id": "cb557fbd",
      "metadata": {
        "colab": {
          "base_uri": "https://localhost:8080/"
        },
        "id": "cb557fbd",
        "outputId": "afc3679b-a246-4272-fb35-18a0c9b9489e",
        "scrolled": true
      },
      "outputs": [
        {
          "data": {
            "text/plain": [
              "-0.20791966868151798"
            ]
          },
          "execution_count": 46,
          "metadata": {},
          "output_type": "execute_result"
        }
      ],
      "source": [
        "anime_encoder_bigger.evaluate(evaluator)"
      ]
    },
    {
      "cell_type": "code",
      "execution_count": 47,
      "id": "fd76411d",
      "metadata": {
        "colab": {
          "base_uri": "https://localhost:8080/",
          "height": 0,
          "referenced_widgets": [
            "4b334ad6c8dc4faaa50359ee5116d2f3",
            "2b6e69f4cf474fb4b6259950c67c1616",
            "623fe0ba5d584138b4e206d71761938f",
            "5e46f73bd4b544409c3bbaf3328560e1",
            "399b1ea6da9e4cbfbb779ce1aea8491f",
            "5e8f29f85f0a49abb4f78e5018c5c162",
            "7e2680dd838b4cfcaf46d0db9d045829",
            "032b7ec36a26413e9abf210df87d8195",
            "6323f7eaf1ae4014b370202b1d67c7b0",
            "2a08e497ef2241eea952680b7508d7e6",
            "507af17e2d144059b4c274d2d1e91baf",
            "3b6cf6005055499b8dbdb39814c63fcf",
            "7cd3a6c7ab244d1ebd82f8834dfd1817",
            "9a2cb97d1c79471eafec49d6d7d2bb8a",
            "934a969b77b345ffb01634985897d527",
            "40ee7a2b34734491bf77386abacb1f95",
            "69a377c70d214bf7934adaf8b99ad9d2",
            "7479b419f3c74ae5a5b142f0d370dd50",
            "1aff4749703543d6b1231f12f145a587",
            "d552c32b06f04a3d8560e8e5784d50f4",
            "46563fa183f7443d88f9db3f25121cec",
            "de61ceae2fe34b18880c86785a17ede8"
          ]
        },
        "id": "fd76411d",
        "outputId": "e81407eb-f004-4ed5-d645-b4a083eda266",
        "scrolled": true
      },
      "outputs": [
        {
          "data": {
            "application/vnd.jupyter.widget-view+json": {
              "model_id": "4b334ad6c8dc4faaa50359ee5116d2f3",
              "version_major": 2,
              "version_minor": 0
            },
            "text/plain": [
              "Epoch:   0%|          | 0/1 [00:00<?, ?it/s]"
            ]
          },
          "metadata": {},
          "output_type": "display_data"
        },
        {
          "data": {
            "application/vnd.jupyter.widget-view+json": {
              "model_id": "3b6cf6005055499b8dbdb39814c63fcf",
              "version_major": 2,
              "version_minor": 0
            },
            "text/plain": [
              "Iteration:   0%|          | 0/148 [00:00<?, ?it/s]"
            ]
          },
          "metadata": {},
          "output_type": "display_data"
        }
      ],
      "source": [
        "# Train the model\n",
        "num_epochs = 1\n",
        "warmup_steps = int(len(train_dataloader) * num_epochs * 0.1)  # 10% of training data for warm-up\n",
        "\n",
        "# Configure the training\n",
        "anime_encoder_bigger.fit(\n",
        "    train_objectives=[(train_dataloader, loss)],\n",
        "    epochs=num_epochs,\n",
        "    evaluator=evaluator,\n",
        "    output_path=\"anime_encoder_bigger\"\n",
        ")"
      ]
    },
    {
      "cell_type": "code",
      "execution_count": 48,
      "id": "Qo3Qh_FFLSAv",
      "metadata": {
        "colab": {
          "base_uri": "https://localhost:8080/"
        },
        "id": "Qo3Qh_FFLSAv",
        "outputId": "df98d906-7c64-40cf-a151-fed85358a19c"
      },
      "outputs": [
        {
          "data": {
            "text/plain": [
              "-0.18013282771374559"
            ]
          },
          "execution_count": 48,
          "metadata": {},
          "output_type": "execute_result"
        }
      ],
      "source": [
        "anime_encoder_bigger.evaluate(evaluator)  # Got better!"
      ]
    },
    {
      "cell_type": "markdown",
      "id": "BjBmAWXkfrl7",
      "metadata": {
        "id": "BjBmAWXkfrl7"
      },
      "source": [
        "# 6. Now let's turn on our \"embedders fune-tuning machine\"!"
      ]
    },
    {
      "cell_type": "markdown",
      "id": "3RVnDhtWjnYB",
      "metadata": {
        "id": "3RVnDhtWjnYB"
      },
      "source": [
        "### 6.1. Preparation"
      ]
    },
    {
      "cell_type": "markdown",
      "id": "NfItZ3EugLAq",
      "metadata": {
        "id": "NfItZ3EugLAq"
      },
      "source": [
        "First we create the list of desired embedder."
      ]
    },
    {
      "cell_type": "code",
      "execution_count": 49,
      "id": "de11cf7a",
      "metadata": {
        "id": "de11cf7a"
      },
      "outputs": [],
      "source": [
        "embedders = (\n",
        "    'paraphrase-distilroberta-base-v1',\n",
        "    'anime_encoder',\n",
        "    'all-mpnet-base-v2',\n",
        "    'anime_encoder_bigger'\n",
        ")"
      ]
    },
    {
      "cell_type": "markdown",
      "id": "6OX_CVbXgZWp",
      "metadata": {
        "id": "6OX_CVbXgZWp"
      },
      "source": [
        "Next we initialize our dictionary which will keep all our embeddings for all animes and for all embedders."
      ]
    },
    {
      "cell_type": "code",
      "execution_count": 50,
      "id": "w4H-YxnGgYM7",
      "metadata": {
        "id": "w4H-YxnGgYM7"
      },
      "outputs": [],
      "source": [
        "embeddings = {}"
      ]
    },
    {
      "cell_type": "markdown",
      "id": "dhDcmiWfhIYF",
      "metadata": {
        "id": "dhDcmiWfhIYF"
      },
      "source": [
        "And here we run our \"machine\"."
      ]
    },
    {
      "cell_type": "markdown",
      "id": "y9eb8SO-O3Xw",
      "metadata": {
        "id": "y9eb8SO-O3Xw"
      },
      "source": [
        "**WE CREATE OUR DICTIONATY OF EMBEDDINGS!**"
      ]
    },
    {
      "cell_type": "code",
      "execution_count": 51,
      "id": "56b52afb",
      "metadata": {
        "colab": {
          "base_uri": "https://localhost:8080/",
          "height": 145,
          "referenced_widgets": [
            "9ac0612b33224b5ebc19e9adc70e205a",
            "fee5afc3172a4970b4b31569777eb03f",
            "a185697918a1497b90cd894ab417e873",
            "56334eba9d4c4188bd71f9051ec7fcf5",
            "d058d602c4da41ddb30f48f80b3feca6",
            "5ca09054bafd4fda84ed24fd000282e6",
            "cc91911ea3c54f1899bcd668fef73fc2",
            "977d79d65bdf417ab5c9f4cf9109c11a",
            "5395ebf388fb4f928b9c1021ae24f5a2",
            "1a028a499ccb4273a64db890bdbabde3",
            "022246e588e5473488f963efba08de7a",
            "e8635e08db2344d9b2fac824330d5d46",
            "b2ade3ca426f447a817eb4133fe72f11",
            "0febda31832e4e0890c278650b1f6cca",
            "1bfe65b2d6d54a5c99f9c10be6087625",
            "5ce983de065d4eb7a2bb727ce510a8b8",
            "b276750b3af34dac81842fe32971c3da",
            "733338126b5848d99ce03e7719edc755",
            "90a1184d1c5d44eea418d02c6e35235a",
            "29bf32f617f24c808673cc4620c14cad",
            "9e85f894292a4e67b20f461d0defb617",
            "580096fff3c34c4a93b516e0ebef06a2",
            "71ee6abdd1b244889eabac8ee34359d8",
            "c0af75b0d95f433bb83c3baeb1e4c168",
            "ffccbffe3df74e12a0d58f706c0c0c23",
            "0c2e810eca914114a595956c529ce8dd",
            "decb1aff926e4ba9be8a7d3cb745dc0d",
            "f839759dc1bb4ebab3ee0297ca0d0053",
            "525f2e79dcd84743863333da60ac258d",
            "ae91cc6547bd4bca8363dc9794b82604",
            "773a245dd8534284a2bb60a60b79e95b",
            "735edfe5aa174e2bbae13cee0961bdcd",
            "ddfdd6f3f3994f9c835c4d145e634c06",
            "3a52b9feb5544bb2a1ef9b3911718675",
            "7c36628b644645bd9fb0f6004b347677",
            "69b9d6b6d93d4b70bd68ee2100e01e01",
            "bc4f56e6e84a42d18c91553c52648106",
            "e8db6dc199ab4be9a0915bf4f4dd240d",
            "ff38c101dc2d4461a61f783cbbdf7638",
            "5da521f36be442a2ba6ffa01995ea9b5",
            "929dd5f8aadf4fb7b2a34c169a264ef7",
            "d90c18f2c75b4d5db672c897f9b0e2ff",
            "5cacbfdab5b449e0b58f9c8892c2b2b1",
            "85a8870b71224536b6f15f63196c2981"
          ]
        },
        "id": "56b52afb",
        "outputId": "de43ca30-bf07-4331-eb36-b7d682bf7310",
        "scrolled": true
      },
      "outputs": [
        {
          "data": {
            "application/vnd.jupyter.widget-view+json": {
              "model_id": "9ac0612b33224b5ebc19e9adc70e205a",
              "version_major": 2,
              "version_minor": 0
            },
            "text/plain": [
              "Batches:   0%|          | 0/79 [00:00<?, ?it/s]"
            ]
          },
          "metadata": {},
          "output_type": "display_data"
        },
        {
          "data": {
            "application/vnd.jupyter.widget-view+json": {
              "model_id": "e8635e08db2344d9b2fac824330d5d46",
              "version_major": 2,
              "version_minor": 0
            },
            "text/plain": [
              "Batches:   0%|          | 0/79 [00:00<?, ?it/s]"
            ]
          },
          "metadata": {},
          "output_type": "display_data"
        },
        {
          "data": {
            "application/vnd.jupyter.widget-view+json": {
              "model_id": "71ee6abdd1b244889eabac8ee34359d8",
              "version_major": 2,
              "version_minor": 0
            },
            "text/plain": [
              "Batches:   0%|          | 0/79 [00:00<?, ?it/s]"
            ]
          },
          "metadata": {},
          "output_type": "display_data"
        },
        {
          "data": {
            "application/vnd.jupyter.widget-view+json": {
              "model_id": "3a52b9feb5544bb2a1ef9b3911718675",
              "version_major": 2,
              "version_minor": 0
            },
            "text/plain": [
              "Batches:   0%|          | 0/79 [00:00<?, ?it/s]"
            ]
          },
          "metadata": {},
          "output_type": "display_data"
        }
      ],
      "source": [
        "docs = pre_merged_anime['generated_description'].tolist()\n",
        "for embedder in embedders:\n",
        "        try:\n",
        "            e = SentenceTransformer(embedder)\n",
        "        except:\n",
        "            print(f'Could not load {embedder}')\n",
        "            continue\n",
        "        embeddings[embedder] = e.encode(docs, batch_size=128, show_progress_bar=True)\n"
      ]
    },
    {
      "cell_type": "markdown",
      "id": "gF_YjEcRhXwj",
      "metadata": {
        "id": "gF_YjEcRhXwj"
      },
      "source": [
        "We now have embeddings for all of the animes in our testing set for all of our embedders"
      ]
    },
    {
      "cell_type": "code",
      "execution_count": 82,
      "id": "b2HKBe3BRvXH",
      "metadata": {
        "colab": {
          "base_uri": "https://localhost:8080/"
        },
        "id": "b2HKBe3BRvXH",
        "outputId": "3700f646-dab9-48c2-fdf8-ba46954bca4f"
      },
      "outputs": [
        {
          "data": {
            "text/plain": [
              "(10000, 768)"
            ]
          },
          "execution_count": 82,
          "metadata": {},
          "output_type": "execute_result"
        }
      ],
      "source": [
        "embeddings['all-mpnet-base-v2'].shape"
      ]
    },
    {
      "cell_type": "code",
      "execution_count": 52,
      "id": "99b69b6b",
      "metadata": {
        "colab": {
          "base_uri": "https://localhost:8080/"
        },
        "id": "99b69b6b",
        "outputId": "3dee3172-857c-4186-8663-d21b20ecfe2f"
      },
      "outputs": [
        {
          "data": {
            "text/plain": [
              "dict_keys(['paraphrase-distilroberta-base-v1', 'anime_encoder', 'all-mpnet-base-v2', 'anime_encoder_bigger'])"
            ]
          },
          "execution_count": 52,
          "metadata": {},
          "output_type": "execute_result"
        }
      ],
      "source": [
        "embeddings.keys()"
      ]
    },
    {
      "cell_type": "markdown",
      "id": "Q8mL3Bu-Kgci",
      "metadata": {
        "id": "Q8mL3Bu-Kgci"
      },
      "source": [
        "{  name_of_embedder#1: list[] number_of_discriptions X embedding_dim,\n",
        "\n",
        "   name_of_embedder#2: list[] number_of_discriptions X embedding_dim,\n",
        "\n",
        "   name_of_embedder#3: list[] number_of_discriptions X embedding_dim,\n",
        "\n",
        "   name_of_embedder#4: list[] number_of_discriptions X embedding_dim }"
      ]
    },
    {
      "cell_type": "markdown",
      "id": "23yFo7r3hoO8",
      "metadata": {
        "id": "23yFo7r3hoO8"
      },
      "source": [
        "Here we get cosine similarities for all pairs of animes for all embedders"
      ]
    },
    {
      "cell_type": "code",
      "execution_count": 53,
      "id": "9e460e63",
      "metadata": {
        "id": "9e460e63"
      },
      "outputs": [],
      "source": [
        "cosine_sim_matrices = {embedder: cosine_similarity(embeddings[embedder]) for embedder in embedders if embedder in embeddings}"
      ]
    },
    {
      "cell_type": "markdown",
      "id": "9DcZF3w3R36q",
      "metadata": {
        "id": "9DcZF3w3R36q"
      },
      "source": [
        "Note that for each embedder we get matrix with the shape number_of_descriptions X number_of_descriptions."
      ]
    },
    {
      "cell_type": "code",
      "execution_count": 83,
      "id": "_KHlSGA-Qys6",
      "metadata": {
        "colab": {
          "base_uri": "https://localhost:8080/"
        },
        "id": "_KHlSGA-Qys6",
        "outputId": "83827994-cb80-4e7b-d2fc-fc364916bfe7"
      },
      "outputs": [
        {
          "data": {
            "text/plain": [
              "(10000, 10000)"
            ]
          },
          "execution_count": 83,
          "metadata": {},
          "output_type": "execute_result"
        }
      ],
      "source": [
        "cosine_sim_matrices['paraphrase-distilroberta-base-v1'].shape"
      ]
    },
    {
      "cell_type": "markdown",
      "id": "fLS1uJ3cSaub",
      "metadata": {
        "id": "fLS1uJ3cSaub"
      },
      "source": [
        "{ name_of_embedder#1: list[] number_of_discriptions X number_of_discriptions,\n",
        "\n",
        "  name_of_embedder#2: list[] number_of_discriptions X number_of_discriptions,\n",
        "\n",
        "  name_of_embedder#3: list[] number_of_discriptions X number_of_discriptions,\n",
        "  \n",
        "  name_of_embedder#4: list[] number_of_discriptions X number_of_discriptions }\n"
      ]
    },
    {
      "cell_type": "markdown",
      "id": "pkWwFJtojvez",
      "metadata": {
        "id": "pkWwFJtojvez"
      },
      "source": [
        "### 6.2. At this point we have embeddings for all descriptions. So let's write function which will return similar animes ids for given anime and embedder."
      ]
    },
    {
      "cell_type": "code",
      "execution_count": 54,
      "id": "4fb9110b",
      "metadata": {
        "id": "4fb9110b"
      },
      "outputs": [],
      "source": [
        "@lru_cache(maxsize=None)\n",
        "def get_similar_animes(anime_id: int, embedder: str, k: int = 10, verbose: bool = False) -> List[Tuple[int, float]]:\n",
        "    if embedder not in embeddings:\n",
        "        return []\n",
        "    # Get the index of the anime in the pre_merged_anime dataframe\n",
        "    try:\n",
        "        idx = pre_merged_anime[pre_merged_anime['MAL_ID'] == anime_id].index[0]\n",
        "    except:\n",
        "        return []\n",
        "    if verbose:\n",
        "        print(f'idx: {idx}')\n",
        "    cosine_sim_matrix = cosine_sim_matrices[embedder]\n",
        "\n",
        "    # Get the cosine similarity scores for the given anime_id\n",
        "    sim_scores = list(enumerate(cosine_sim_matrix[idx]))\n",
        "\n",
        "    # Sort the animes based on the similarity scores\n",
        "    sim_scores = sorted(sim_scores, key=lambda x: x[1], reverse=True)\n",
        "\n",
        "    # Get the indices and scores of the k most similar animes\n",
        "    k_indices_scores = sim_scores[1:k+1]\n",
        "\n",
        "    # Separate indices and scores\n",
        "    k_indices = [i[0] for i in k_indices_scores]\n",
        "    k_scores = [round(i[1], 3) for i in k_indices_scores]\n",
        "\n",
        "    # Get the MAL_IDs of the k most similar animes\n",
        "    k_anime_ids = pre_merged_anime['MAL_ID'].iloc[k_indices].tolist()\n",
        "\n",
        "    # Return the MAL_IDs and their corresponding similarity scores\n",
        "    return list(zip(k_anime_ids, k_scores))\n"
      ]
    },
    {
      "cell_type": "code",
      "execution_count": 55,
      "id": "d0e312e2",
      "metadata": {
        "colab": {
          "base_uri": "https://localhost:8080/"
        },
        "id": "d0e312e2",
        "outputId": "e262674f-db6e-4784-8726-f408bff1f9bf"
      },
      "outputs": [
        {
          "name": "stdout",
          "output_type": "stream",
          "text": [
            "Anime ID: 4059\n",
            "Clannad: Mou Hitotsu no Sekai, Tomoyo-hen is a Special.\n",
            "Synopsis: Clannad: Mou Hitotsu no Sekai, Tomoyo-hen is set in an alternate reality where Tomoya Okazaki dates his junior, Tomoyo Sakagami. Tomoyo has been elected to be the school's next Student Council President. This is great news as she can now work toward her goal of preventing the school's cherry blossom trees from being axed. Although Tomoya is ecstatic for her, given his reputation as a delinquent in school, his relationship with Tomoyo is making them the subject of gossip around the campus, which can potentially compromise her standing as Student Council President. The school community's disapproval of their relationship becomes more apparent when the Student Council's Vice-President and even the school's administration warn Tomoya to distance himself from Tomoyo. With the bad atmosphere widening the rift between Tomoya and Tomoyo, will Tomoya succumb to societal pressure and do as they say, or will their love for each other rise above it all?\n",
            "It was produced by Pony Canyon and it is from Kyoto Animation Studio.\n",
            "Its source is Visual novel.\n",
            "It premiered in Unknown.\n",
            "Its genres are Drama, Romance, School, Slice of Life\n",
            "idx: 3057\n",
            "paraphrase-distilroberta-base-v1\n",
            "[(17835, 0.594), (1723, 0.586), (6408, 0.575)]\n",
            "\n",
            "idx: 3057\n",
            "anime_encoder\n",
            "[(2167, 0.761), (1723, 0.76), (6351, 0.728)]\n",
            "\n",
            "idx: 3057\n",
            "all-mpnet-base-v2\n",
            "[(6351, 0.834), (1723, 0.802), (2167, 0.795)]\n",
            "\n",
            "idx: 3057\n",
            "anime_encoder_bigger\n",
            "[(6351, 0.838), (1723, 0.812), (2167, 0.807)]\n",
            "\n"
          ]
        }
      ],
      "source": [
        "anime_id = 4059\n",
        "print(f'Anime ID: {anime_id}')\n",
        "print(pre_merged_anime[pre_merged_anime['MAL_ID'] == anime_id]['generated_description'].iloc[0])\n",
        "for e in embedders:\n",
        "    if e in embeddings:\n",
        "        similar_animes = get_similar_animes(anime_id, e, k=3, verbose=True)\n",
        "        print(e)\n",
        "        print(similar_animes)\n",
        "        print()\n"
      ]
    },
    {
      "cell_type": "code",
      "execution_count": 56,
      "id": "283b4836",
      "metadata": {
        "colab": {
          "base_uri": "https://localhost:8080/",
          "height": 105
        },
        "id": "283b4836",
        "outputId": "d8e7f3f5-3d26-4aa6-bdd1-b90e6cee1945"
      },
      "outputs": [
        {
          "data": {
            "application/vnd.google.colaboratory.intrinsic+json": {
              "type": "string"
            },
            "text/plain": [
              "\"Clannad: After Story - Mou Hitotsu no Sekai, Kyou-hen is a Special.\\nSynopsis: Included in the 8th and final DVD of Clannad ~After Story~ is an extra episode set in an alternate universe. Here, Fujibayashi Kyou is the main heroine in place of Furukawa Nagisa. Love can be wonderfully exciting, but also extremely painful. Fujibayashi Ryou, Kyou's sister, is in love with Okazaki Tomoya, the male protagonist. With the help of Kyou, Ryou manages to sum up the courage to ask him out and now Tomoya and Ryou are a couple. However, as things progress, Kyou begins to acknowledge her feelings for Tomoya, and a love-triangle is formed. As everything is revealed, the sisters learn the pains of love and try to decide between the two loves of their life: Tomoya, or each other.\\nIt was produced by Animation Do and it is from Kyoto Animation Studio.\\nIts source is Visual novel.\\nIt premiered in Unknown.\\nIts genres are Drama, Romance, School\""
            ]
          },
          "execution_count": 56,
          "metadata": {},
          "output_type": "execute_result"
        }
      ],
      "source": [
        "pre_merged_anime[pre_merged_anime['MAL_ID'] == 6351]['generated_description'].iloc[0]"
      ]
    },
    {
      "cell_type": "markdown",
      "id": "S3UF0_TCscWE",
      "metadata": {
        "id": "S3UF0_TCscWE"
      },
      "source": [
        "### 6.3. The function to get favorite animes for a user from training dataset"
      ]
    },
    {
      "cell_type": "code",
      "execution_count": 57,
      "id": "ceb734ef",
      "metadata": {
        "id": "ceb734ef"
      },
      "outputs": [],
      "source": [
        "def get_promoted_animes_from_user(user_id):\n",
        "    return rating_complete_train[(rating_complete_train['user_id'] == user_id) & (rating_complete_train['nps_score'] == 1)]['anime_id'].unique().tolist()\n"
      ]
    },
    {
      "cell_type": "markdown",
      "id": "WoneHXwakUm8",
      "metadata": {
        "id": "WoneHXwakUm8"
      },
      "source": [
        "### 6.4. Then we create the dictionary of users and their ratings for animes."
      ]
    },
    {
      "cell_type": "code",
      "execution_count": 58,
      "id": "49110f5f",
      "metadata": {
        "colab": {
          "base_uri": "https://localhost:8080/",
          "height": 49,
          "referenced_widgets": [
            "72cf0d7b1c8c467a9ec956d944a2a134",
            "ab47e313abb74e9e9149007add6887bc",
            "e098b86324004e1d91b60d72f345b95c",
            "37db90048a7b4e78aa6568572f661221",
            "c02c101b23bd46ae898ad985679a6dbe",
            "f5caacfc1aac46a98b230791006a2a94",
            "1a17fce9b0f04a01904a49853a024b72",
            "9e91437c7458402eb88e8b741d2a8e4a",
            "0deec70d107f4106b99ec4eebd600a67",
            "b2efa5f72911499c877ba516a0e34738",
            "eb05e04029174758933ff38fec7536a1"
          ]
        },
        "id": "49110f5f",
        "outputId": "b81b99e8-ebc4-44f7-f468-a4961cc46d58"
      },
      "outputs": [
        {
          "data": {
            "application/vnd.jupyter.widget-view+json": {
              "model_id": "72cf0d7b1c8c467a9ec956d944a2a134",
              "version_major": 2,
              "version_minor": 0
            },
            "text/plain": [
              "  0%|          | 0/34549 [00:00<?, ?it/s]"
            ]
          },
          "metadata": {},
          "output_type": "display_data"
        }
      ],
      "source": [
        "user_anime_test_ratings = defaultdict(dict)\n",
        "for index, user_id, anime_id, rating, nps_score in tqdm(rating_complete_test.to_records()):\n",
        "    user_anime_test_ratings[int(user_id)][int(anime_id)] = rating"
      ]
    },
    {
      "cell_type": "markdown",
      "id": "tbXLPDG4eQ2i",
      "metadata": {
        "id": "tbXLPDG4eQ2i"
      },
      "source": [
        "{ user_id#1: {anime_id#1: rating,\n",
        "              ...},\n",
        "\n",
        "  user_id#2: {anime_id#1: rating,\n",
        "              ...},\n",
        "              \n",
        "  ...\n",
        "}"
      ]
    },
    {
      "cell_type": "markdown",
      "id": "onlv72xnwFtR",
      "metadata": {
        "id": "onlv72xnwFtR"
      },
      "source": [
        "### 6.5. Next we write function to get relevant animes which are similar to a given anime. Relevant here means that we ignore exact matching."
      ]
    },
    {
      "cell_type": "code",
      "execution_count": 59,
      "id": "uPxhz03h7mE8",
      "metadata": {
        "id": "uPxhz03h7mE8"
      },
      "outputs": [],
      "source": [
        "@lru_cache()\n",
        "def get_relevant_animes(reference_promoted_anime_id, embedder, k=5, verbose=True):\n",
        "    preds = []\n",
        "    similar_animes = get_similar_animes(reference_promoted_anime_id, embedder, k=k)\n",
        "\n",
        "    for similar_anime_id, cosine_score in similar_animes:\n",
        "        if cosine_score >= 1:\n",
        "            continue\n",
        "        if verbose:\n",
        "            print(f'Recommending (ID {similar_anime_id}) Cos_Sim {cosine_score:.3f}')\n",
        "        preds.append((similar_anime_id, cosine_score))\n",
        "    return preds\n"
      ]
    },
    {
      "cell_type": "code",
      "execution_count": 60,
      "id": "vYll41yH7PYM",
      "metadata": {
        "colab": {
          "base_uri": "https://localhost:8080/"
        },
        "id": "vYll41yH7PYM",
        "outputId": "00122a01-bac6-46fa-f42b-f9270bc02c1f"
      },
      "outputs": [
        {
          "name": "stdout",
          "output_type": "stream",
          "text": [
            "Recommending (ID 6351) Cos_Sim 0.838\n",
            "Recommending (ID 1723) Cos_Sim 0.812\n",
            "Recommending (ID 2167) Cos_Sim 0.807\n",
            "Recommending (ID 4181) Cos_Sim 0.710\n",
            "Recommending (ID 29093) Cos_Sim 0.699\n"
          ]
        },
        {
          "data": {
            "text/plain": [
              "[(6351, 0.838), (1723, 0.812), (2167, 0.807), (4181, 0.71), (29093, 0.699)]"
            ]
          },
          "execution_count": 60,
          "metadata": {},
          "output_type": "execute_result"
        }
      ],
      "source": [
        "get_relevant_animes(4059, 'anime_encoder_bigger')"
      ]
    },
    {
      "cell_type": "code",
      "execution_count": 61,
      "id": "76340dea",
      "metadata": {
        "id": "76340dea"
      },
      "outputs": [],
      "source": [
        "user_preds = {}"
      ]
    },
    {
      "cell_type": "code",
      "execution_count": 62,
      "id": "ea91b958",
      "metadata": {
        "id": "ea91b958",
        "scrolled": true
      },
      "outputs": [],
      "source": [
        "def process_user(user_id, embedders, K, verbose=False):\n",
        "    user_predictions = {e: defaultdict(list) for e in embedders}\n",
        "    promoted_animes = set(get_promoted_animes_from_user(user_id))\n",
        "    if verbose:\n",
        "        print(f'{len(promoted_animes)} promoted animes')\n",
        "    for promoted_anime_id in promoted_animes:\n",
        "        for embedder in embedders:\n",
        "            relevant_animes = get_relevant_animes(promoted_anime_id, embedder, verbose=False, k=K)\n",
        "            for anime_id, cosine_score in relevant_animes:\n",
        "                # if anime_id not in user_predictions[embedder] or cosine_score > user_predictions[embedder][anime_id]:\n",
        "                user_predictions[embedder][anime_id].append(cosine_score)\n",
        "    user_predictions = {k: sorted(v.items(), key=lambda x: len(x[1]), reverse=True)[:K] for k, v in user_predictions.items()}\n",
        "    return user_id, user_predictions\n",
        "\n",
        "# Prepare the data\n",
        "user_ids = rating_complete_test['user_id'].unique()\n",
        "# user_ids = list(user_preds.keys())\n",
        "\n",
        "# Set the number of workers and the value for K\n",
        "num_workers = min(8, len(user_ids) + 1)\n",
        "K = 3\n"
      ]
    },
    {
      "cell_type": "code",
      "execution_count": 63,
      "id": "X8GKy2F1BT45",
      "metadata": {
        "colab": {
          "base_uri": "https://localhost:8080/"
        },
        "id": "X8GKy2F1BT45",
        "outputId": "410c0a40-a912-4747-a7c8-07b00155432e"
      },
      "outputs": [
        {
          "name": "stdout",
          "output_type": "stream",
          "text": [
            "117 promoted animes\n"
          ]
        },
        {
          "data": {
            "text/plain": [
              "(2713,\n",
              " {'paraphrase-distilroberta-base-v1': [(6164, [0.675, 0.61, 0.671]),\n",
              "   (646, [0.624, 0.648, 0.595]),\n",
              "   (2129, [0.632, 0.616, 0.572])],\n",
              "  'anime_encoder': [(4192,\n",
              "    [0.794, 0.797, 0.794, 0.792, 0.821, 0.755, 0.777, 0.771, 0.758]),\n",
              "   (29976, [0.799, 0.793, 0.786, 0.778]),\n",
              "   (3092, [0.779, 0.784, 0.785])],\n",
              "  'all-mpnet-base-v2': [(137, [0.694, 0.718, 0.707, 0.715]),\n",
              "   (138, [0.678, 0.718, 0.943, 0.682]),\n",
              "   (18277, [0.679, 0.731, 0.752])],\n",
              "  'anime_encoder_bigger': [(137, [0.697, 0.74, 0.731, 0.722]),\n",
              "   (18277, [0.72, 0.774, 0.792]),\n",
              "   (3457, [0.684, 0.958, 0.774])]})"
            ]
          },
          "execution_count": 63,
          "metadata": {},
          "output_type": "execute_result"
        }
      ],
      "source": [
        "user_id, user_predictions = process_user(user_ids[0], embedders, 3, verbose=True)\n",
        "user_id, user_predictions"
      ]
    },
    {
      "cell_type": "code",
      "execution_count": 64,
      "id": "mnRHxui0-RD3",
      "metadata": {
        "colab": {
          "base_uri": "https://localhost:8080/",
          "height": 49,
          "referenced_widgets": [
            "72eba833a7894d59910a0b59962cdf21",
            "1823b901bc034118a012b886726ad10f",
            "317016bb1a324b54a99c46c4a7337bd4",
            "c37a67d4a5974a67b2b12096f9416f4f",
            "b0b985d3dc654be0ac7fee094bf0b562",
            "48e3c657349e40b3b0255a46d4a95fc7",
            "32389fe6c64c479f8677f8ca186b757a",
            "d377b1ca9f274751b2722e8709c1f089",
            "6f742397ea9844ef9e6f8460b30a608d",
            "c5bdf3bdb4094af4997a974a4d0cd582",
            "6eb0139cb4be4825a5e1ec87512c6fea"
          ]
        },
        "id": "mnRHxui0-RD3",
        "outputId": "b95e79a7-6bcf-4b23-c664-2199e0f10ffa"
      },
      "outputs": [
        {
          "data": {
            "application/vnd.jupyter.widget-view+json": {
              "model_id": "72eba833a7894d59910a0b59962cdf21",
              "version_major": 2,
              "version_minor": 0
            },
            "text/plain": [
              "  0%|          | 0/4840 [00:00<?, ?it/s]"
            ]
          },
          "metadata": {},
          "output_type": "display_data"
        }
      ],
      "source": [
        "# user_preds = {}\n",
        "for user_id in tqdm(user_ids[len(user_preds):]):\n",
        "    user_preds[user_id] = process_user(user_id, embedders, 10, verbose=False)[1]"
      ]
    },
    {
      "cell_type": "code",
      "execution_count": 65,
      "id": "5ceab3a7",
      "metadata": {
        "colab": {
          "base_uri": "https://localhost:8080/"
        },
        "id": "5ceab3a7",
        "outputId": "fdd70f0c-8b4c-4f9f-db89-e002c184b016",
        "scrolled": true
      },
      "outputs": [
        {
          "data": {
            "text/plain": [
              "4840"
            ]
          },
          "execution_count": 65,
          "metadata": {},
          "output_type": "execute_result"
        }
      ],
      "source": [
        "len(user_preds)"
      ]
    },
    {
      "cell_type": "code",
      "execution_count": 66,
      "id": "f99be65d",
      "metadata": {
        "colab": {
          "base_uri": "https://localhost:8080/",
          "height": 694
        },
        "id": "f99be65d",
        "outputId": "b84b649c-597c-4bab-85fd-796922f21b96"
      },
      "outputs": [
        {
          "name": "stderr",
          "output_type": "stream",
          "text": [
            "<ipython-input-66-0bd16b0d4198>:16: FutureWarning: \n",
            "\n",
            "Passing `palette` without assigning `hue` is deprecated and will be removed in v0.14.0. Assign the `x` variable to `hue` and set `legend=False` for the same effect.\n",
            "\n",
            "  sns.barplot(x=sorted_embedders, y=sorted_counts, palette=\"viridis\")\n"
          ]
        },
        {
          "data": {
            "image/png": "[encoded data removed]",
            "text/plain": [
              "<Figure size 1000x600 with 1 Axes>"
            ]
          },
          "metadata": {},
          "output_type": "display_data"
        }
      ],
      "source": [
        "total_animes_predicted = {e: set() for e in embedders}\n",
        "for user_id, recs in user_preds.items():\n",
        "    for embedder, rec in recs.items():\n",
        "        # total_animes_predicted[embedder].update((rec.keys()))\n",
        "        total_animes_predicted[embedder].update(([r[0] for r in rec]))\n",
        "\n",
        "embedder_counts = {k: len(v) for k, v in total_animes_predicted.items()}\n",
        "sorted_embedder_counts = {k: v for k, v in sorted(embedder_counts.items(), key=lambda x: x[1])}\n",
        "\n",
        "# Creating lists for plotting the sorted data\n",
        "sorted_embedders = list(sorted_embedder_counts.keys())\n",
        "sorted_counts = list(sorted_embedder_counts.values())\n",
        "\n",
        "# Plotting the sorted data\n",
        "plt.figure(figsize=(10, 6))\n",
        "sns.barplot(x=sorted_embedders, y=sorted_counts, palette=\"viridis\")\n",
        "plt.title(\"Total Animes Predicted by Each Embedder\")\n",
        "plt.xlabel(\"Embedder\")\n",
        "plt.ylabel(\"Number of Animes\")\n",
        "plt.tight_layout()\n",
        "plt.show()"
      ]
    },
    {
      "cell_type": "code",
      "execution_count": 67,
      "id": "7560413f",
      "metadata": {
        "colab": {
          "base_uri": "https://localhost:8080/",
          "height": 112
        },
        "id": "7560413f",
        "outputId": "74e5485c-ac2c-4d0f-a609-57926b2b73c2"
      },
      "outputs": [
        {
          "data": {
            "text/html": [
              "\n",
              "  <div id=\"df-0db81832-a404-4184-8318-c76cd3eb692c\" class=\"colab-df-container\">\n",
              "    <div>\n",
              "<style scoped>\n",
              "    .dataframe tbody tr th:only-of-type {\n",
              "        vertical-align: middle;\n",
              "    }\n",
              "\n",
              "    .dataframe tbody tr th {\n",
              "        vertical-align: top;\n",
              "    }\n",
              "\n",
              "    .dataframe thead th {\n",
              "        text-align: right;\n",
              "    }\n",
              "</style>\n",
              "<table border=\"1\" class=\"dataframe\">\n",
              "  <thead>\n",
              "    <tr style=\"text-align: right;\">\n",
              "      <th></th>\n",
              "      <th>user_id</th>\n",
              "      <th>anime_id</th>\n",
              "      <th>rating</th>\n",
              "      <th>nps_score</th>\n",
              "    </tr>\n",
              "  </thead>\n",
              "  <tbody>\n",
              "    <tr>\n",
              "      <th>424120</th>\n",
              "      <td>2713</td>\n",
              "      <td>3731</td>\n",
              "      <td>10</td>\n",
              "      <td>1</td>\n",
              "    </tr>\n",
              "    <tr>\n",
              "      <th>316872</th>\n",
              "      <td>1965</td>\n",
              "      <td>552</td>\n",
              "      <td>10</td>\n",
              "      <td>1</td>\n",
              "    </tr>\n",
              "  </tbody>\n",
              "</table>\n",
              "</div>\n",
              "    <div class=\"colab-df-buttons\">\n",
              "\n",
              "  <div class=\"colab-df-container\">\n",
              "    <button class=\"colab-df-convert\" onclick=\"convertToInteractive('df-0db81832-a404-4184-8318-c76cd3eb692c')\"\n",
              "            title=\"Convert this dataframe to an interactive table.\"\n",
              "            style=\"display:none;\">\n",
              "\n",
              "  <svg xmlns=\"http://www.w3.org/2000/svg\" height=\"24px\" viewBox=\"0 -960 960 960\">\n",
              "    <path d=\"M120-120v-720h720v720H120Zm60-500h600v-160H180v160Zm220 220h160v-160H400v160Zm0 220h160v-160H400v160ZM180-400h160v-160H180v160Zm440 0h160v-160H620v160ZM180-180h160v-160H180v160Zm440 0h160v-160H620v160Z\"/>\n",
              "  </svg>\n",
              "    </button>\n",
              "\n",
              "  <style>\n",
              "    .colab-df-container {\n",
              "      display:flex;\n",
              "      gap: 12px;\n",
              "    }\n",
              "\n",
              "    .colab-df-convert {\n",
              "      background-color: #E8F0FE;\n",
              "      border: none;\n",
              "      border-radius: 50%;\n",
              "      cursor: pointer;\n",
              "      display: none;\n",
              "      fill: #1967D2;\n",
              "      height: 32px;\n",
              "      padding: 0 0 0 0;\n",
              "      width: 32px;\n",
              "    }\n",
              "\n",
              "    .colab-df-convert:hover {\n",
              "      background-color: #E2EBFA;\n",
              "      box-shadow: 0px 1px 2px rgba(60, 64, 67, 0.3), 0px 1px 3px 1px rgba(60, 64, 67, 0.15);\n",
              "      fill: #174EA6;\n",
              "    }\n",
              "\n",
              "    .colab-df-buttons div {\n",
              "      margin-bottom: 4px;\n",
              "    }\n",
              "\n",
              "    [theme=dark] .colab-df-convert {\n",
              "      background-color: #3B4455;\n",
              "      fill: #D2E3FC;\n",
              "    }\n",
              "\n",
              "    [theme=dark] .colab-df-convert:hover {\n",
              "      background-color: #434B5C;\n",
              "      box-shadow: 0px 1px 3px 1px rgba(0, 0, 0, 0.15);\n",
              "      filter: drop-shadow(0px 1px 2px rgba(0, 0, 0, 0.3));\n",
              "      fill: #FFFFFF;\n",
              "    }\n",
              "  </style>\n",
              "\n",
              "    <script>\n",
              "      const buttonEl =\n",
              "        document.querySelector('#df-0db81832-a404-4184-8318-c76cd3eb692c button.colab-df-convert');\n",
              "      buttonEl.style.display =\n",
              "        google.colab.kernel.accessAllowed ? 'block' : 'none';\n",
              "\n",
              "      async function convertToInteractive(key) {\n",
              "        const element = document.querySelector('#df-0db81832-a404-4184-8318-c76cd3eb692c');\n",
              "        const dataTable =\n",
              "          await google.colab.kernel.invokeFunction('convertToInteractive',\n",
              "                                                    [key], {});\n",
              "        if (!dataTable) return;\n",
              "\n",
              "        const docLinkHtml = 'Like what you see? Visit the ' +\n",
              "          '<a target=\"_blank\" href=https://colab.research.google.com/notebooks/data_table.ipynb>data table notebook</a>'\n",
              "          + ' to learn more about interactive tables.';\n",
              "        element.innerHTML = '';\n",
              "        dataTable['output_type'] = 'display_data';\n",
              "        await google.colab.output.renderOutput(dataTable, element);\n",
              "        const docLink = document.createElement('div');\n",
              "        docLink.innerHTML = docLinkHtml;\n",
              "        element.appendChild(docLink);\n",
              "      }\n",
              "    </script>\n",
              "  </div>\n",
              "\n",
              "\n",
              "<div id=\"df-9fc5a15c-bc5b-45dd-ad10-fad984399a29\">\n",
              "  <button class=\"colab-df-quickchart\" onclick=\"quickchart('df-9fc5a15c-bc5b-45dd-ad10-fad984399a29')\"\n",
              "            title=\"Suggest charts\"\n",
              "            style=\"display:none;\">\n",
              "\n",
              "<svg xmlns=\"http://www.w3.org/2000/svg\" height=\"24px\"viewBox=\"0 0 24 24\"\n",
              "     width=\"24px\">\n",
              "    <g>\n",
              "        <path d=\"M19 3H5c-1.1 0-2 .9-2 2v14c0 1.1.9 2 2 2h14c1.1 0 2-.9 2-2V5c0-1.1-.9-2-2-2zM9 17H7v-7h2v7zm4 0h-2V7h2v10zm4 0h-2v-4h2v4z\"/>\n",
              "    </g>\n",
              "</svg>\n",
              "  </button>\n",
              "\n",
              "<style>\n",
              "  .colab-df-quickchart {\n",
              "      --bg-color: #E8F0FE;\n",
              "      --fill-color: #1967D2;\n",
              "      --hover-bg-color: #E2EBFA;\n",
              "      --hover-fill-color: #174EA6;\n",
              "      --disabled-fill-color: #AAA;\n",
              "      --disabled-bg-color: #DDD;\n",
              "  }\n",
              "\n",
              "  [theme=dark] .colab-df-quickchart {\n",
              "      --bg-color: #3B4455;\n",
              "      --fill-color: #D2E3FC;\n",
              "      --hover-bg-color: #434B5C;\n",
              "      --hover-fill-color: #FFFFFF;\n",
              "      --disabled-bg-color: #3B4455;\n",
              "      --disabled-fill-color: #666;\n",
              "  }\n",
              "\n",
              "  .colab-df-quickchart {\n",
              "    background-color: var(--bg-color);\n",
              "    border: none;\n",
              "    border-radius: 50%;\n",
              "    cursor: pointer;\n",
              "    display: none;\n",
              "    fill: var(--fill-color);\n",
              "    height: 32px;\n",
              "    padding: 0;\n",
              "    width: 32px;\n",
              "  }\n",
              "\n",
              "  .colab-df-quickchart:hover {\n",
              "    background-color: var(--hover-bg-color);\n",
              "    box-shadow: 0 1px 2px rgba(60, 64, 67, 0.3), 0 1px 3px 1px rgba(60, 64, 67, 0.15);\n",
              "    fill: var(--button-hover-fill-color);\n",
              "  }\n",
              "\n",
              "  .colab-df-quickchart-complete:disabled,\n",
              "  .colab-df-quickchart-complete:disabled:hover {\n",
              "    background-color: var(--disabled-bg-color);\n",
              "    fill: var(--disabled-fill-color);\n",
              "    box-shadow: none;\n",
              "  }\n",
              "\n",
              "  .colab-df-spinner {\n",
              "    border: 2px solid var(--fill-color);\n",
              "    border-color: transparent;\n",
              "    border-bottom-color: var(--fill-color);\n",
              "    animation:\n",
              "      spin 1s steps(1) infinite;\n",
              "  }\n",
              "\n",
              "  @keyframes spin {\n",
              "    0% {\n",
              "      border-color: transparent;\n",
              "      border-bottom-color: var(--fill-color);\n",
              "      border-left-color: var(--fill-color);\n",
              "    }\n",
              "    20% {\n",
              "      border-color: transparent;\n",
              "      border-left-color: var(--fill-color);\n",
              "      border-top-color: var(--fill-color);\n",
              "    }\n",
              "    30% {\n",
              "      border-color: transparent;\n",
              "      border-left-color: var(--fill-color);\n",
              "      border-top-color: var(--fill-color);\n",
              "      border-right-color: var(--fill-color);\n",
              "    }\n",
              "    40% {\n",
              "      border-color: transparent;\n",
              "      border-right-color: var(--fill-color);\n",
              "      border-top-color: var(--fill-color);\n",
              "    }\n",
              "    60% {\n",
              "      border-color: transparent;\n",
              "      border-right-color: var(--fill-color);\n",
              "    }\n",
              "    80% {\n",
              "      border-color: transparent;\n",
              "      border-right-color: var(--fill-color);\n",
              "      border-bottom-color: var(--fill-color);\n",
              "    }\n",
              "    90% {\n",
              "      border-color: transparent;\n",
              "      border-bottom-color: var(--fill-color);\n",
              "    }\n",
              "  }\n",
              "</style>\n",
              "\n",
              "  <script>\n",
              "    async function quickchart(key) {\n",
              "      const quickchartButtonEl =\n",
              "        document.querySelector('#' + key + ' button');\n",
              "      quickchartButtonEl.disabled = true;  // To prevent multiple clicks.\n",
              "      quickchartButtonEl.classList.add('colab-df-spinner');\n",
              "      try {\n",
              "        const charts = await google.colab.kernel.invokeFunction(\n",
              "            'suggestCharts', [key], {});\n",
              "      } catch (error) {\n",
              "        console.error('Error during call to suggestCharts:', error);\n",
              "      }\n",
              "      quickchartButtonEl.classList.remove('colab-df-spinner');\n",
              "      quickchartButtonEl.classList.add('colab-df-quickchart-complete');\n",
              "    }\n",
              "    (() => {\n",
              "      let quickchartButtonEl =\n",
              "        document.querySelector('#df-9fc5a15c-bc5b-45dd-ad10-fad984399a29 button');\n",
              "      quickchartButtonEl.style.display =\n",
              "        google.colab.kernel.accessAllowed ? 'block' : 'none';\n",
              "    })();\n",
              "  </script>\n",
              "</div>\n",
              "    </div>\n",
              "  </div>\n"
            ],
            "text/plain": [
              "        user_id  anime_id  rating  nps_score\n",
              "424120     2713      3731      10          1\n",
              "316872     1965       552      10          1"
            ]
          },
          "execution_count": 67,
          "metadata": {},
          "output_type": "execute_result"
        }
      ],
      "source": [
        "rating_complete_test.head(2)"
      ]
    },
    {
      "cell_type": "code",
      "execution_count": 68,
      "id": "07d1a5cc",
      "metadata": {
        "colab": {
          "base_uri": "https://localhost:8080/",
          "height": 49,
          "referenced_widgets": [
            "620e6d93ab304f3a8db6a8d3687ae4bc",
            "94d3d5e3adf74a519ea4d75ea8024d9f",
            "c20348b1b57b4c1cbf50bca538127d8f",
            "c3121f598e08449781b77c2b20d267dd",
            "c9e4cc17d24041b496b7e8c190139a31",
            "9ccb086f96d14d8cb3ff852ccb85a2c0",
            "5a9304183bb241e5a25b9e161eec7fb6",
            "c6347956f1a24b98bd0eff5a4e1d9321",
            "fb96478b128d4b0690a0f8e3ebe06a88",
            "094c5107fa904e54950d3b7f24926d41",
            "c00449c1bd6845e6ad10e510e9712111"
          ]
        },
        "id": "07d1a5cc",
        "outputId": "acf4be92-b03b-476e-f5dc-c92445e35f00"
      },
      "outputs": [
        {
          "data": {
            "application/vnd.jupyter.widget-view+json": {
              "model_id": "620e6d93ab304f3a8db6a8d3687ae4bc",
              "version_major": 2,
              "version_minor": 0
            },
            "text/plain": [
              "  0%|          | 0/10 [00:00<?, ?it/s]"
            ]
          },
          "metadata": {},
          "output_type": "display_data"
        }
      ],
      "source": [
        "# Initializing list for k_values and dictionary for counts of each embedder\n",
        "k_values = []\n",
        "embedder_counts = defaultdict(list)\n",
        "raw_counts = []\n",
        "\n",
        "def _avg_score(scores):\n",
        "    int_score = int(round(sum(scores) / len(scores)))\n",
        "    return score_map[int_score]\n",
        "\n",
        "# Creating a range of integers from 1 to 10\n",
        "_r = list(range(1, 11))\n",
        "\n",
        "# Looping over the range to get the different k values (k-factor) for recommendations\n",
        "for k_factor in tqdm(_r):\n",
        "    # Looping over each user and their corresponding recommendations\n",
        "    for user_id, user_recs in user_preds.items():\n",
        "        # Looping over each embedder and the corresponding recommendations from the embedder\n",
        "        for embedder, recs_from_embedder in user_recs.items():\n",
        "            # Selecting the top-k recommendations for each user from each embedder\n",
        "            # final_recs = sorted(recs_from_embedder, key=lambda x: x[1], reverse=True)[:k_factor]\n",
        "            # print(final_recs)\n",
        "\n",
        "            # Looping over the top-k recommendations\n",
        "            for index, (recommended_anime_id, recommendation_score) in enumerate(recs_from_embedder):\n",
        "                # Fetching the user rating for the recommended anime\n",
        "                user_rating = user_anime_test_ratings.get(int(user_id), {}).get(int(recommended_anime_id))\n",
        "\n",
        "                # print(f'User {user_id} has a rating of {user_rating} for anime {recommended_anime} from embedder {embedder}')\n",
        "\n",
        "                # Checking if the user has a rating for the recommended anime\n",
        "                if user_rating is not None:\n",
        "                    avg_score = sum(recommendation_score) / len(recommendation_score)\n",
        "                    raw_counts.append(\n",
        "                        {\n",
        "                            'nps_score': score_map[user_rating], 'index': index,\n",
        "                            'user_id': user_id, 'anime_id': recommended_anime_id,\n",
        "                            'embedder': embedder, 'rating': user_rating,\n",
        "                            'count': len(recommendation_score), 'score': avg_score\n",
        "                            }\n",
        "                        )\n",
        "                    # The score of each recommendation is adjusted by its rank and added to the embedder_counts dictionary\n",
        "                    embedder_counts[embedder].append((_avg_score(recommendation_score) * (k_factor - index) / k_factor))\n",
        "\n",
        "    # Calculating the average Net Promoter Score (NPS) for each embedder and adding it to the k_values list\n",
        "    k_values.append({e: dict(k=k_factor, avg_nps=sum(l) / len(l), predictions_found_in_test_set=len(l)) for e, l in embedder_counts.items()})\n"
      ]
    },
    {
      "cell_type": "code",
      "execution_count": 69,
      "id": "4zQ9ic32NwA9",
      "metadata": {
        "colab": {
          "base_uri": "https://localhost:8080/"
        },
        "id": "4zQ9ic32NwA9",
        "outputId": "3d59f8f0-6e6a-4119-aad5-c52ca6943f10"
      },
      "outputs": [
        {
          "data": {
            "text/plain": [
              "[{'nps_score': -1,\n",
              "  'index': 7,\n",
              "  'user_id': 1965,\n",
              "  'anime_id': 896,\n",
              "  'embedder': 'paraphrase-distilroberta-base-v1',\n",
              "  'rating': 6,\n",
              "  'count': 3,\n",
              "  'score': 0.6646666526794434},\n",
              " {'nps_score': 1,\n",
              "  'index': 1,\n",
              "  'user_id': 1965,\n",
              "  'anime_id': 904,\n",
              "  'embedder': 'all-mpnet-base-v2',\n",
              "  'rating': 9,\n",
              "  'count': 4,\n",
              "  'score': 0.7825000137090683}]"
            ]
          },
          "execution_count": 69,
          "metadata": {},
          "output_type": "execute_result"
        }
      ],
      "source": [
        "raw_counts[:2]"
      ]
    },
    {
      "cell_type": "code",
      "execution_count": 70,
      "id": "sEW-nth0Dct0",
      "metadata": {
        "colab": {
          "base_uri": "https://localhost:8080/",
          "height": 224
        },
        "id": "sEW-nth0Dct0",
        "outputId": "04fa167f-3ef9-4b0a-a88d-0ef6061e5c4d"
      },
      "outputs": [
        {
          "name": "stdout",
          "output_type": "stream",
          "text": [
            "(3029, 9)\n"
          ]
        },
        {
          "data": {
            "text/html": [
              "\n",
              "  <div id=\"df-faff9ccf-ddef-47cb-97dc-f6fac99816e8\" class=\"colab-df-container\">\n",
              "    <div>\n",
              "<style scoped>\n",
              "    .dataframe tbody tr th:only-of-type {\n",
              "        vertical-align: middle;\n",
              "    }\n",
              "\n",
              "    .dataframe tbody tr th {\n",
              "        vertical-align: top;\n",
              "    }\n",
              "\n",
              "    .dataframe thead th {\n",
              "        text-align: right;\n",
              "    }\n",
              "</style>\n",
              "<table border=\"1\" class=\"dataframe\">\n",
              "  <thead>\n",
              "    <tr style=\"text-align: right;\">\n",
              "      <th></th>\n",
              "      <th>level_0</th>\n",
              "      <th>nps_score</th>\n",
              "      <th>index</th>\n",
              "      <th>user_id</th>\n",
              "      <th>anime_id</th>\n",
              "      <th>embedder</th>\n",
              "      <th>rating</th>\n",
              "      <th>count</th>\n",
              "      <th>score</th>\n",
              "    </tr>\n",
              "  </thead>\n",
              "  <tbody>\n",
              "    <tr>\n",
              "      <th>3206</th>\n",
              "      <td>3206</td>\n",
              "      <td>1</td>\n",
              "      <td>2</td>\n",
              "      <td>3464</td>\n",
              "      <td>11741</td>\n",
              "      <td>paraphrase-distilroberta-base-v1</td>\n",
              "      <td>10</td>\n",
              "      <td>2</td>\n",
              "      <td>0.610000</td>\n",
              "    </tr>\n",
              "    <tr>\n",
              "      <th>3207</th>\n",
              "      <td>3207</td>\n",
              "      <td>1</td>\n",
              "      <td>8</td>\n",
              "      <td>1131</td>\n",
              "      <td>13663</td>\n",
              "      <td>anime_encoder</td>\n",
              "      <td>10</td>\n",
              "      <td>3</td>\n",
              "      <td>0.788667</td>\n",
              "    </tr>\n",
              "    <tr>\n",
              "      <th>3208</th>\n",
              "      <td>3208</td>\n",
              "      <td>1</td>\n",
              "      <td>2</td>\n",
              "      <td>4341</td>\n",
              "      <td>5258</td>\n",
              "      <td>all-mpnet-base-v2</td>\n",
              "      <td>9</td>\n",
              "      <td>2</td>\n",
              "      <td>0.897000</td>\n",
              "    </tr>\n",
              "    <tr>\n",
              "      <th>3209</th>\n",
              "      <td>3209</td>\n",
              "      <td>1</td>\n",
              "      <td>2</td>\n",
              "      <td>4341</td>\n",
              "      <td>5258</td>\n",
              "      <td>anime_encoder_bigger</td>\n",
              "      <td>9</td>\n",
              "      <td>2</td>\n",
              "      <td>0.901000</td>\n",
              "    </tr>\n",
              "    <tr>\n",
              "      <th>3210</th>\n",
              "      <td>3210</td>\n",
              "      <td>1</td>\n",
              "      <td>0</td>\n",
              "      <td>5827</td>\n",
              "      <td>527</td>\n",
              "      <td>anime_encoder</td>\n",
              "      <td>10</td>\n",
              "      <td>2</td>\n",
              "      <td>0.764000</td>\n",
              "    </tr>\n",
              "  </tbody>\n",
              "</table>\n",
              "</div>\n",
              "    <div class=\"colab-df-buttons\">\n",
              "\n",
              "  <div class=\"colab-df-container\">\n",
              "    <button class=\"colab-df-convert\" onclick=\"convertToInteractive('df-faff9ccf-ddef-47cb-97dc-f6fac99816e8')\"\n",
              "            title=\"Convert this dataframe to an interactive table.\"\n",
              "            style=\"display:none;\">\n",
              "\n",
              "  <svg xmlns=\"http://www.w3.org/2000/svg\" height=\"24px\" viewBox=\"0 -960 960 960\">\n",
              "    <path d=\"M120-120v-720h720v720H120Zm60-500h600v-160H180v160Zm220 220h160v-160H400v160Zm0 220h160v-160H400v160ZM180-400h160v-160H180v160Zm440 0h160v-160H620v160ZM180-180h160v-160H180v160Zm440 0h160v-160H620v160Z\"/>\n",
              "  </svg>\n",
              "    </button>\n",
              "\n",
              "  <style>\n",
              "    .colab-df-container {\n",
              "      display:flex;\n",
              "      gap: 12px;\n",
              "    }\n",
              "\n",
              "    .colab-df-convert {\n",
              "      background-color: #E8F0FE;\n",
              "      border: none;\n",
              "      border-radius: 50%;\n",
              "      cursor: pointer;\n",
              "      display: none;\n",
              "      fill: #1967D2;\n",
              "      height: 32px;\n",
              "      padding: 0 0 0 0;\n",
              "      width: 32px;\n",
              "    }\n",
              "\n",
              "    .colab-df-convert:hover {\n",
              "      background-color: #E2EBFA;\n",
              "      box-shadow: 0px 1px 2px rgba(60, 64, 67, 0.3), 0px 1px 3px 1px rgba(60, 64, 67, 0.15);\n",
              "      fill: #174EA6;\n",
              "    }\n",
              "\n",
              "    .colab-df-buttons div {\n",
              "      margin-bottom: 4px;\n",
              "    }\n",
              "\n",
              "    [theme=dark] .colab-df-convert {\n",
              "      background-color: #3B4455;\n",
              "      fill: #D2E3FC;\n",
              "    }\n",
              "\n",
              "    [theme=dark] .colab-df-convert:hover {\n",
              "      background-color: #434B5C;\n",
              "      box-shadow: 0px 1px 3px 1px rgba(0, 0, 0, 0.15);\n",
              "      filter: drop-shadow(0px 1px 2px rgba(0, 0, 0, 0.3));\n",
              "      fill: #FFFFFF;\n",
              "    }\n",
              "  </style>\n",
              "\n",
              "    <script>\n",
              "      const buttonEl =\n",
              "        document.querySelector('#df-faff9ccf-ddef-47cb-97dc-f6fac99816e8 button.colab-df-convert');\n",
              "      buttonEl.style.display =\n",
              "        google.colab.kernel.accessAllowed ? 'block' : 'none';\n",
              "\n",
              "      async function convertToInteractive(key) {\n",
              "        const element = document.querySelector('#df-faff9ccf-ddef-47cb-97dc-f6fac99816e8');\n",
              "        const dataTable =\n",
              "          await google.colab.kernel.invokeFunction('convertToInteractive',\n",
              "                                                    [key], {});\n",
              "        if (!dataTable) return;\n",
              "\n",
              "        const docLinkHtml = 'Like what you see? Visit the ' +\n",
              "          '<a target=\"_blank\" href=https://colab.research.google.com/notebooks/data_table.ipynb>data table notebook</a>'\n",
              "          + ' to learn more about interactive tables.';\n",
              "        element.innerHTML = '';\n",
              "        dataTable['output_type'] = 'display_data';\n",
              "        await google.colab.output.renderOutput(dataTable, element);\n",
              "        const docLink = document.createElement('div');\n",
              "        docLink.innerHTML = docLinkHtml;\n",
              "        element.appendChild(docLink);\n",
              "      }\n",
              "    </script>\n",
              "  </div>\n",
              "\n",
              "\n",
              "<div id=\"df-a653c7b5-6f28-4884-a1c1-810f7781b863\">\n",
              "  <button class=\"colab-df-quickchart\" onclick=\"quickchart('df-a653c7b5-6f28-4884-a1c1-810f7781b863')\"\n",
              "            title=\"Suggest charts\"\n",
              "            style=\"display:none;\">\n",
              "\n",
              "<svg xmlns=\"http://www.w3.org/2000/svg\" height=\"24px\"viewBox=\"0 0 24 24\"\n",
              "     width=\"24px\">\n",
              "    <g>\n",
              "        <path d=\"M19 3H5c-1.1 0-2 .9-2 2v14c0 1.1.9 2 2 2h14c1.1 0 2-.9 2-2V5c0-1.1-.9-2-2-2zM9 17H7v-7h2v7zm4 0h-2V7h2v10zm4 0h-2v-4h2v4z\"/>\n",
              "    </g>\n",
              "</svg>\n",
              "  </button>\n",
              "\n",
              "<style>\n",
              "  .colab-df-quickchart {\n",
              "      --bg-color: #E8F0FE;\n",
              "      --fill-color: #1967D2;\n",
              "      --hover-bg-color: #E2EBFA;\n",
              "      --hover-fill-color: #174EA6;\n",
              "      --disabled-fill-color: #AAA;\n",
              "      --disabled-bg-color: #DDD;\n",
              "  }\n",
              "\n",
              "  [theme=dark] .colab-df-quickchart {\n",
              "      --bg-color: #3B4455;\n",
              "      --fill-color: #D2E3FC;\n",
              "      --hover-bg-color: #434B5C;\n",
              "      --hover-fill-color: #FFFFFF;\n",
              "      --disabled-bg-color: #3B4455;\n",
              "      --disabled-fill-color: #666;\n",
              "  }\n",
              "\n",
              "  .colab-df-quickchart {\n",
              "    background-color: var(--bg-color);\n",
              "    border: none;\n",
              "    border-radius: 50%;\n",
              "    cursor: pointer;\n",
              "    display: none;\n",
              "    fill: var(--fill-color);\n",
              "    height: 32px;\n",
              "    padding: 0;\n",
              "    width: 32px;\n",
              "  }\n",
              "\n",
              "  .colab-df-quickchart:hover {\n",
              "    background-color: var(--hover-bg-color);\n",
              "    box-shadow: 0 1px 2px rgba(60, 64, 67, 0.3), 0 1px 3px 1px rgba(60, 64, 67, 0.15);\n",
              "    fill: var(--button-hover-fill-color);\n",
              "  }\n",
              "\n",
              "  .colab-df-quickchart-complete:disabled,\n",
              "  .colab-df-quickchart-complete:disabled:hover {\n",
              "    background-color: var(--disabled-bg-color);\n",
              "    fill: var(--disabled-fill-color);\n",
              "    box-shadow: none;\n",
              "  }\n",
              "\n",
              "  .colab-df-spinner {\n",
              "    border: 2px solid var(--fill-color);\n",
              "    border-color: transparent;\n",
              "    border-bottom-color: var(--fill-color);\n",
              "    animation:\n",
              "      spin 1s steps(1) infinite;\n",
              "  }\n",
              "\n",
              "  @keyframes spin {\n",
              "    0% {\n",
              "      border-color: transparent;\n",
              "      border-bottom-color: var(--fill-color);\n",
              "      border-left-color: var(--fill-color);\n",
              "    }\n",
              "    20% {\n",
              "      border-color: transparent;\n",
              "      border-left-color: var(--fill-color);\n",
              "      border-top-color: var(--fill-color);\n",
              "    }\n",
              "    30% {\n",
              "      border-color: transparent;\n",
              "      border-left-color: var(--fill-color);\n",
              "      border-top-color: var(--fill-color);\n",
              "      border-right-color: var(--fill-color);\n",
              "    }\n",
              "    40% {\n",
              "      border-color: transparent;\n",
              "      border-right-color: var(--fill-color);\n",
              "      border-top-color: var(--fill-color);\n",
              "    }\n",
              "    60% {\n",
              "      border-color: transparent;\n",
              "      border-right-color: var(--fill-color);\n",
              "    }\n",
              "    80% {\n",
              "      border-color: transparent;\n",
              "      border-right-color: var(--fill-color);\n",
              "      border-bottom-color: var(--fill-color);\n",
              "    }\n",
              "    90% {\n",
              "      border-color: transparent;\n",
              "      border-bottom-color: var(--fill-color);\n",
              "    }\n",
              "  }\n",
              "</style>\n",
              "\n",
              "  <script>\n",
              "    async function quickchart(key) {\n",
              "      const quickchartButtonEl =\n",
              "        document.querySelector('#' + key + ' button');\n",
              "      quickchartButtonEl.disabled = true;  // To prevent multiple clicks.\n",
              "      quickchartButtonEl.classList.add('colab-df-spinner');\n",
              "      try {\n",
              "        const charts = await google.colab.kernel.invokeFunction(\n",
              "            'suggestCharts', [key], {});\n",
              "      } catch (error) {\n",
              "        console.error('Error during call to suggestCharts:', error);\n",
              "      }\n",
              "      quickchartButtonEl.classList.remove('colab-df-spinner');\n",
              "      quickchartButtonEl.classList.add('colab-df-quickchart-complete');\n",
              "    }\n",
              "    (() => {\n",
              "      let quickchartButtonEl =\n",
              "        document.querySelector('#df-a653c7b5-6f28-4884-a1c1-810f7781b863 button');\n",
              "      quickchartButtonEl.style.display =\n",
              "        google.colab.kernel.accessAllowed ? 'block' : 'none';\n",
              "    })();\n",
              "  </script>\n",
              "</div>\n",
              "    </div>\n",
              "  </div>\n"
            ],
            "text/plain": [
              "      level_0  nps_score  index  user_id  anime_id  \\\n",
              "3206     3206          1      2     3464     11741   \n",
              "3207     3207          1      8     1131     13663   \n",
              "3208     3208          1      2     4341      5258   \n",
              "3209     3209          1      2     4341      5258   \n",
              "3210     3210          1      0     5827       527   \n",
              "\n",
              "                              embedder  rating  count     score  \n",
              "3206  paraphrase-distilroberta-base-v1      10      2  0.610000  \n",
              "3207                     anime_encoder      10      3  0.788667  \n",
              "3208                 all-mpnet-base-v2       9      2  0.897000  \n",
              "3209              anime_encoder_bigger       9      2  0.901000  \n",
              "3210                     anime_encoder      10      2  0.764000  "
            ]
          },
          "execution_count": 70,
          "metadata": {},
          "output_type": "execute_result"
        }
      ],
      "source": [
        "raw_counts_df = pd.DataFrame(raw_counts).drop_duplicates().reset_index()\n",
        "\n",
        "# remove recs with only a single recommendation count to inspect the stronger signals\n",
        "raw_counts_df = raw_counts_df[raw_counts_df['count'] > 1]\n",
        "\n",
        "print(raw_counts_df.shape)\n",
        "raw_counts_df.tail()"
      ]
    }
  ],
  "metadata": {
    "accelerator": "GPU",
    "colab": {
      "collapsed_sections": [
        "3J7oG0skBSNy",
        "H92BuMCjBWpk",
        "1d8bd08e",
        "7LNUWOwsa-2B",
        "GjCt5aaufNu4"
      ],
      "gpuType": "T4",
      "provenance": []
    },
    "kernelspec": {
      "display_name": "Python 3",
      "name": "python3"
    },
    "language_info": {
      "codemirror_mode": {
        "name": "ipython",
        "version": 3
      },
      "file_extension": ".py",
      "mimetype": "text/x-python",
      "name": "python",
      "nbconvert_exporter": "python",
      "pygments_lexer": "ipython3",
      "version": "3.11.4"
    },
    "widgets": {
      "application/vnd.jupyter.widget-state+json": {
        "022246e588e5473488f963efba08de7a": {
          "model_module": "@jupyter-widgets/controls",
          "model_module_version": "1.5.0",
          "model_name": "DescriptionStyleModel",
          "state": {
            "_model_module": "@jupyter-widgets/controls",
            "_model_module_version": "1.5.0",
            "_model_name": "DescriptionStyleModel",
            "_view_count": null,
            "_view_module": "@jupyter-widgets/base",
            "_view_module_version": "1.2.0",
            "_view_name": "StyleView",
            "description_width": ""
          }
        },
        "032b7ec36a26413e9abf210df87d8195": {
          "model_module": "@jupyter-widgets/base",
          "model_module_version": "1.2.0",
          "model_name": "LayoutModel",
          "state": {
            "_model_module": "@jupyter-widgets/base",
            "_model_module_version": "1.2.0",
            "_model_name": "LayoutModel",
            "_view_count": null,
            "_view_module": "@jupyter-widgets/base",
            "_view_module_version": "1.2.0",
            "_view_name": "LayoutView",
            "align_content": null,
            "align_items": null,
            "align_self": null,
            "border": null,
            "bottom": null,
            "display": null,
            "flex": null,
            "flex_flow": null,
            "grid_area": null,
            "grid_auto_columns": null,
            "grid_auto_flow": null,
            "grid_auto_rows": null,
            "grid_column": null,
            "grid_gap": null,
            "grid_row": null,
            "grid_template_areas": null,
            "grid_template_columns": null,
            "grid_template_rows": null,
            "height": null,
            "justify_content": null,
            "justify_items": null,
            "left": null,
            "margin": null,
            "max_height": null,
            "max_width": null,
            "min_height": null,
            "min_width": null,
            "object_fit": null,
            "object_position": null,
            "order": null,
            "overflow": null,
            "overflow_x": null,
            "overflow_y": null,
            "padding": null,
            "right": null,
            "top": null,
            "visibility": null,
            "width": null
          }
        },
        "094c5107fa904e54950d3b7f24926d41": {
          "model_module": "@jupyter-widgets/base",
          "model_module_version": "1.2.0",
          "model_name": "LayoutModel",
          "state": {
            "_model_module": "@jupyter-widgets/base",
            "_model_module_version": "1.2.0",
            "_model_name": "LayoutModel",
            "_view_count": null,
            "_view_module": "@jupyter-widgets/base",
            "_view_module_version": "1.2.0",
            "_view_name": "LayoutView",
            "align_content": null,
            "align_items": null,
            "align_self": null,
            "border": null,
            "bottom": null,
            "display": null,
            "flex": null,
            "flex_flow": null,
            "grid_area": null,
            "grid_auto_columns": null,
            "grid_auto_flow": null,
            "grid_auto_rows": null,
            "grid_column": null,
            "grid_gap": null,
            "grid_row": null,
            "grid_template_areas": null,
            "grid_template_columns": null,
            "grid_template_rows": null,
            "height": null,
            "justify_content": null,
            "justify_items": null,
            "left": null,
            "margin": null,
            "max_height": null,
            "max_width": null,
            "min_height": null,
            "min_width": null,
            "object_fit": null,
            "object_position": null,
            "order": null,
            "overflow": null,
            "overflow_x": null,
            "overflow_y": null,
            "padding": null,
            "right": null,
            "top": null,
            "visibility": null,
            "width": null
          }
        },
        "0c2e810eca914114a595956c529ce8dd": {
          "model_module": "@jupyter-widgets/controls",
          "model_module_version": "1.5.0",
          "model_name": "HTMLModel",
          "state": {
            "_dom_classes": [],
            "_model_module": "@jupyter-widgets/controls",
            "_model_module_version": "1.5.0",
            "_model_name": "HTMLModel",
            "_view_count": null,
            "_view_module": "@jupyter-widgets/controls",
            "_view_module_version": "1.5.0",
            "_view_name": "HTMLView",
            "description": "",
            "description_tooltip": null,
            "layout": "IPY_MODEL_735edfe5aa174e2bbae13cee0961bdcd",
            "placeholder": "​",
            "style": "IPY_MODEL_ddfdd6f3f3994f9c835c4d145e634c06",
            "value": " 79/79 [01:48&lt;00:00,  2.08it/s]"
          }
        },
        "0deec70d107f4106b99ec4eebd600a67": {
          "model_module": "@jupyter-widgets/controls",
          "model_module_version": "1.5.0",
          "model_name": "ProgressStyleModel",
          "state": {
            "_model_module": "@jupyter-widgets/controls",
            "_model_module_version": "1.5.0",
            "_model_name": "ProgressStyleModel",
            "_view_count": null,
            "_view_module": "@jupyter-widgets/base",
            "_view_module_version": "1.2.0",
            "_view_name": "StyleView",
            "bar_color": null,
            "description_width": ""
          }
        },
        "0e141bcede7043bba6fadec3021883f7": {
          "model_module": "@jupyter-widgets/base",
          "model_module_version": "1.2.0",
          "model_name": "LayoutModel",
          "state": {
            "_model_module": "@jupyter-widgets/base",
            "_model_module_version": "1.2.0",
            "_model_name": "LayoutModel",
            "_view_count": null,
            "_view_module": "@jupyter-widgets/base",
            "_view_module_version": "1.2.0",
            "_view_name": "LayoutView",
            "align_content": null,
            "align_items": null,
            "align_self": null,
            "border": null,
            "bottom": null,
            "display": null,
            "flex": null,
            "flex_flow": null,
            "grid_area": null,
            "grid_auto_columns": null,
            "grid_auto_flow": null,
            "grid_auto_rows": null,
            "grid_column": null,
            "grid_gap": null,
            "grid_row": null,
            "grid_template_areas": null,
            "grid_template_columns": null,
            "grid_template_rows": null,
            "height": null,
            "justify_content": null,
            "justify_items": null,
            "left": null,
            "margin": null,
            "max_height": null,
            "max_width": null,
            "min_height": null,
            "min_width": null,
            "object_fit": null,
            "object_position": null,
            "order": null,
            "overflow": null,
            "overflow_x": null,
            "overflow_y": null,
            "padding": null,
            "right": null,
            "top": null,
            "visibility": null,
            "width": null
          }
        },
        "0febda31832e4e0890c278650b1f6cca": {
          "model_module": "@jupyter-widgets/controls",
          "model_module_version": "1.5.0",
          "model_name": "FloatProgressModel",
          "state": {
            "_dom_classes": [],
            "_model_module": "@jupyter-widgets/controls",
            "_model_module_version": "1.5.0",
            "_model_name": "FloatProgressModel",
            "_view_count": null,
            "_view_module": "@jupyter-widgets/controls",
            "_view_module_version": "1.5.0",
            "_view_name": "ProgressView",
            "bar_style": "success",
            "description": "",
            "description_tooltip": null,
            "layout": "IPY_MODEL_90a1184d1c5d44eea418d02c6e35235a",
            "max": 79,
            "min": 0,
            "orientation": "horizontal",
            "style": "IPY_MODEL_29bf32f617f24c808673cc4620c14cad",
            "value": 79
          }
        },
        "13f4f4fbd442410285e9e6dfbda451c6": {
          "model_module": "@jupyter-widgets/controls",
          "model_module_version": "1.5.0",
          "model_name": "DescriptionStyleModel",
          "state": {
            "_model_module": "@jupyter-widgets/controls",
            "_model_module_version": "1.5.0",
            "_model_name": "DescriptionStyleModel",
            "_view_count": null,
            "_view_module": "@jupyter-widgets/base",
            "_view_module_version": "1.2.0",
            "_view_name": "StyleView",
            "description_width": ""
          }
        },
        "1823b901bc034118a012b886726ad10f": {
          "model_module": "@jupyter-widgets/controls",
          "model_module_version": "1.5.0",
          "model_name": "HTMLModel",
          "state": {
            "_dom_classes": [],
            "_model_module": "@jupyter-widgets/controls",
            "_model_module_version": "1.5.0",
            "_model_name": "HTMLModel",
            "_view_count": null,
            "_view_module": "@jupyter-widgets/controls",
            "_view_module_version": "1.5.0",
            "_view_name": "HTMLView",
            "description": "",
            "description_tooltip": null,
            "layout": "IPY_MODEL_48e3c657349e40b3b0255a46d4a95fc7",
            "placeholder": "​",
            "style": "IPY_MODEL_32389fe6c64c479f8677f8ca186b757a",
            "value": "100%"
          }
        },
        "1a028a499ccb4273a64db890bdbabde3": {
          "model_module": "@jupyter-widgets/base",
          "model_module_version": "1.2.0",
          "model_name": "LayoutModel",
          "state": {
            "_model_module": "@jupyter-widgets/base",
            "_model_module_version": "1.2.0",
            "_model_name": "LayoutModel",
            "_view_count": null,
            "_view_module": "@jupyter-widgets/base",
            "_view_module_version": "1.2.0",
            "_view_name": "LayoutView",
            "align_content": null,
            "align_items": null,
            "align_self": null,
            "border": null,
            "bottom": null,
            "display": null,
            "flex": null,
            "flex_flow": null,
            "grid_area": null,
            "grid_auto_columns": null,
            "grid_auto_flow": null,
            "grid_auto_rows": null,
            "grid_column": null,
            "grid_gap": null,
            "grid_row": null,
            "grid_template_areas": null,
            "grid_template_columns": null,
            "grid_template_rows": null,
            "height": null,
            "justify_content": null,
            "justify_items": null,
            "left": null,
            "margin": null,
            "max_height": null,
            "max_width": null,
            "min_height": null,
            "min_width": null,
            "object_fit": null,
            "object_position": null,
            "order": null,
            "overflow": null,
            "overflow_x": null,
            "overflow_y": null,
            "padding": null,
            "right": null,
            "top": null,
            "visibility": null,
            "width": null
          }
        },
        "1a17fce9b0f04a01904a49853a024b72": {
          "model_module": "@jupyter-widgets/controls",
          "model_module_version": "1.5.0",
          "model_name": "DescriptionStyleModel",
          "state": {
            "_model_module": "@jupyter-widgets/controls",
            "_model_module_version": "1.5.0",
            "_model_name": "DescriptionStyleModel",
            "_view_count": null,
            "_view_module": "@jupyter-widgets/base",
            "_view_module_version": "1.2.0",
            "_view_name": "StyleView",
            "description_width": ""
          }
        },
        "1aff4749703543d6b1231f12f145a587": {
          "model_module": "@jupyter-widgets/base",
          "model_module_version": "1.2.0",
          "model_name": "LayoutModel",
          "state": {
            "_model_module": "@jupyter-widgets/base",
            "_model_module_version": "1.2.0",
            "_model_name": "LayoutModel",
            "_view_count": null,
            "_view_module": "@jupyter-widgets/base",
            "_view_module_version": "1.2.0",
            "_view_name": "LayoutView",
            "align_content": null,
            "align_items": null,
            "align_self": null,
            "border": null,
            "bottom": null,
            "display": null,
            "flex": null,
            "flex_flow": null,
            "grid_area": null,
            "grid_auto_columns": null,
            "grid_auto_flow": null,
            "grid_auto_rows": null,
            "grid_column": null,
            "grid_gap": null,
            "grid_row": null,
            "grid_template_areas": null,
            "grid_template_columns": null,
            "grid_template_rows": null,
            "height": null,
            "justify_content": null,
            "justify_items": null,
            "left": null,
            "margin": null,
            "max_height": null,
            "max_width": null,
            "min_height": null,
            "min_width": null,
            "object_fit": null,
            "object_position": null,
            "order": null,
            "overflow": null,
            "overflow_x": null,
            "overflow_y": null,
            "padding": null,
            "right": null,
            "top": null,
            "visibility": null,
            "width": null
          }
        },
        "1b378af7efb942848b12d4e8165a2b55": {
          "model_module": "@jupyter-widgets/controls",
          "model_module_version": "1.5.0",
          "model_name": "FloatProgressModel",
          "state": {
            "_dom_classes": [],
            "_model_module": "@jupyter-widgets/controls",
            "_model_module_version": "1.5.0",
            "_model_name": "FloatProgressModel",
            "_view_count": null,
            "_view_module": "@jupyter-widgets/controls",
            "_view_module_version": "1.5.0",
            "_view_name": "ProgressView",
            "bar_style": "success",
            "description": "",
            "description_tooltip": null,
            "layout": "IPY_MODEL_4ceb6a9ec3c14a889970820fb8e831a1",
            "max": 1,
            "min": 0,
            "orientation": "horizontal",
            "style": "IPY_MODEL_74ae5bc99d06493ca160bce89ce53f11",
            "value": 1
          }
        },
        "1bfe65b2d6d54a5c99f9c10be6087625": {
          "model_module": "@jupyter-widgets/controls",
          "model_module_version": "1.5.0",
          "model_name": "HTMLModel",
          "state": {
            "_dom_classes": [],
            "_model_module": "@jupyter-widgets/controls",
            "_model_module_version": "1.5.0",
            "_model_name": "HTMLModel",
            "_view_count": null,
            "_view_module": "@jupyter-widgets/controls",
            "_view_module_version": "1.5.0",
            "_view_name": "HTMLView",
            "description": "",
            "description_tooltip": null,
            "layout": "IPY_MODEL_9e85f894292a4e67b20f461d0defb617",
            "placeholder": "​",
            "style": "IPY_MODEL_580096fff3c34c4a93b516e0ebef06a2",
            "value": " 79/79 [00:56&lt;00:00,  3.73it/s]"
          }
        },
        "1e5f5d9587944cd79298fd7ca9e2e541": {
          "model_module": "@jupyter-widgets/controls",
          "model_module_version": "1.5.0",
          "model_name": "HTMLModel",
          "state": {
            "_dom_classes": [],
            "_model_module": "@jupyter-widgets/controls",
            "_model_module_version": "1.5.0",
            "_model_name": "HTMLModel",
            "_view_count": null,
            "_view_module": "@jupyter-widgets/controls",
            "_view_module_version": "1.5.0",
            "_view_name": "HTMLView",
            "description": "",
            "description_tooltip": null,
            "layout": "IPY_MODEL_fad5bbd13c30418c90ebf355be7f6763",
            "placeholder": "​",
            "style": "IPY_MODEL_3579d8437b0d4e13a8212dc1edec0fa0",
            "value": " 148/148 [00:19&lt;00:00,  7.60it/s]"
          }
        },
        "29bf32f617f24c808673cc4620c14cad": {
          "model_module": "@jupyter-widgets/controls",
          "model_module_version": "1.5.0",
          "model_name": "ProgressStyleModel",
          "state": {
            "_model_module": "@jupyter-widgets/controls",
            "_model_module_version": "1.5.0",
            "_model_name": "ProgressStyleModel",
            "_view_count": null,
            "_view_module": "@jupyter-widgets/base",
            "_view_module_version": "1.2.0",
            "_view_name": "StyleView",
            "bar_color": null,
            "description_width": ""
          }
        },
        "2a08e497ef2241eea952680b7508d7e6": {
          "model_module": "@jupyter-widgets/base",
          "model_module_version": "1.2.0",
          "model_name": "LayoutModel",
          "state": {
            "_model_module": "@jupyter-widgets/base",
            "_model_module_version": "1.2.0",
            "_model_name": "LayoutModel",
            "_view_count": null,
            "_view_module": "@jupyter-widgets/base",
            "_view_module_version": "1.2.0",
            "_view_name": "LayoutView",
            "align_content": null,
            "align_items": null,
            "align_self": null,
            "border": null,
            "bottom": null,
            "display": null,
            "flex": null,
            "flex_flow": null,
            "grid_area": null,
            "grid_auto_columns": null,
            "grid_auto_flow": null,
            "grid_auto_rows": null,
            "grid_column": null,
            "grid_gap": null,
            "grid_row": null,
            "grid_template_areas": null,
            "grid_template_columns": null,
            "grid_template_rows": null,
            "height": null,
            "justify_content": null,
            "justify_items": null,
            "left": null,
            "margin": null,
            "max_height": null,
            "max_width": null,
            "min_height": null,
            "min_width": null,
            "object_fit": null,
            "object_position": null,
            "order": null,
            "overflow": null,
            "overflow_x": null,
            "overflow_y": null,
            "padding": null,
            "right": null,
            "top": null,
            "visibility": null,
            "width": null
          }
        },
        "2b6e69f4cf474fb4b6259950c67c1616": {
          "model_module": "@jupyter-widgets/controls",
          "model_module_version": "1.5.0",
          "model_name": "HTMLModel",
          "state": {
            "_dom_classes": [],
            "_model_module": "@jupyter-widgets/controls",
            "_model_module_version": "1.5.0",
            "_model_name": "HTMLModel",
            "_view_count": null,
            "_view_module": "@jupyter-widgets/controls",
            "_view_module_version": "1.5.0",
            "_view_name": "HTMLView",
            "description": "",
            "description_tooltip": null,
            "layout": "IPY_MODEL_5e8f29f85f0a49abb4f78e5018c5c162",
            "placeholder": "​",
            "style": "IPY_MODEL_7e2680dd838b4cfcaf46d0db9d045829",
            "value": "Epoch: 100%"
          }
        },
        "317016bb1a324b54a99c46c4a7337bd4": {
          "model_module": "@jupyter-widgets/controls",
          "model_module_version": "1.5.0",
          "model_name": "FloatProgressModel",
          "state": {
            "_dom_classes": [],
            "_model_module": "@jupyter-widgets/controls",
            "_model_module_version": "1.5.0",
            "_model_name": "FloatProgressModel",
            "_view_count": null,
            "_view_module": "@jupyter-widgets/controls",
            "_view_module_version": "1.5.0",
            "_view_name": "ProgressView",
            "bar_style": "success",
            "description": "",
            "description_tooltip": null,
            "layout": "IPY_MODEL_d377b1ca9f274751b2722e8709c1f089",
            "max": 4840,
            "min": 0,
            "orientation": "horizontal",
            "style": "IPY_MODEL_6f742397ea9844ef9e6f8460b30a608d",
            "value": 4840
          }
        },
        "32389fe6c64c479f8677f8ca186b757a": {
          "model_module": "@jupyter-widgets/controls",
          "model_module_version": "1.5.0",
          "model_name": "DescriptionStyleModel",
          "state": {
            "_model_module": "@jupyter-widgets/controls",
            "_model_module_version": "1.5.0",
            "_model_name": "DescriptionStyleModel",
            "_view_count": null,
            "_view_module": "@jupyter-widgets/base",
            "_view_module_version": "1.2.0",
            "_view_name": "StyleView",
            "description_width": ""
          }
        },
        "3579d8437b0d4e13a8212dc1edec0fa0": {
          "model_module": "@jupyter-widgets/controls",
          "model_module_version": "1.5.0",
          "model_name": "DescriptionStyleModel",
          "state": {
            "_model_module": "@jupyter-widgets/controls",
            "_model_module_version": "1.5.0",
            "_model_name": "DescriptionStyleModel",
            "_view_count": null,
            "_view_module": "@jupyter-widgets/base",
            "_view_module_version": "1.2.0",
            "_view_name": "StyleView",
            "description_width": ""
          }
        },
        "37db90048a7b4e78aa6568572f661221": {
          "model_module": "@jupyter-widgets/controls",
          "model_module_version": "1.5.0",
          "model_name": "HTMLModel",
          "state": {
            "_dom_classes": [],
            "_model_module": "@jupyter-widgets/controls",
            "_model_module_version": "1.5.0",
            "_model_name": "HTMLModel",
            "_view_count": null,
            "_view_module": "@jupyter-widgets/controls",
            "_view_module_version": "1.5.0",
            "_view_name": "HTMLView",
            "description": "",
            "description_tooltip": null,
            "layout": "IPY_MODEL_b2efa5f72911499c877ba516a0e34738",
            "placeholder": "​",
            "style": "IPY_MODEL_eb05e04029174758933ff38fec7536a1",
            "value": " 34549/34549 [00:00&lt;00:00, 68617.34it/s]"
          }
        },
        "399b1ea6da9e4cbfbb779ce1aea8491f": {
          "model_module": "@jupyter-widgets/base",
          "model_module_version": "1.2.0",
          "model_name": "LayoutModel",
          "state": {
            "_model_module": "@jupyter-widgets/base",
            "_model_module_version": "1.2.0",
            "_model_name": "LayoutModel",
            "_view_count": null,
            "_view_module": "@jupyter-widgets/base",
            "_view_module_version": "1.2.0",
            "_view_name": "LayoutView",
            "align_content": null,
            "align_items": null,
            "align_self": null,
            "border": null,
            "bottom": null,
            "display": null,
            "flex": null,
            "flex_flow": null,
            "grid_area": null,
            "grid_auto_columns": null,
            "grid_auto_flow": null,
            "grid_auto_rows": null,
            "grid_column": null,
            "grid_gap": null,
            "grid_row": null,
            "grid_template_areas": null,
            "grid_template_columns": null,
            "grid_template_rows": null,
            "height": null,
            "justify_content": null,
            "justify_items": null,
            "left": null,
            "margin": null,
            "max_height": null,
            "max_width": null,
            "min_height": null,
            "min_width": null,
            "object_fit": null,
            "object_position": null,
            "order": null,
            "overflow": null,
            "overflow_x": null,
            "overflow_y": null,
            "padding": null,
            "right": null,
            "top": null,
            "visibility": null,
            "width": null
          }
        },
        "3a41336fc27f4e789df0384756f1aa94": {
          "model_module": "@jupyter-widgets/base",
          "model_module_version": "1.2.0",
          "model_name": "LayoutModel",
          "state": {
            "_model_module": "@jupyter-widgets/base",
            "_model_module_version": "1.2.0",
            "_model_name": "LayoutModel",
            "_view_count": null,
            "_view_module": "@jupyter-widgets/base",
            "_view_module_version": "1.2.0",
            "_view_name": "LayoutView",
            "align_content": null,
            "align_items": null,
            "align_self": null,
            "border": null,
            "bottom": null,
            "display": null,
            "flex": null,
            "flex_flow": null,
            "grid_area": null,
            "grid_auto_columns": null,
            "grid_auto_flow": null,
            "grid_auto_rows": null,
            "grid_column": null,
            "grid_gap": null,
            "grid_row": null,
            "grid_template_areas": null,
            "grid_template_columns": null,
            "grid_template_rows": null,
            "height": null,
            "justify_content": null,
            "justify_items": null,
            "left": null,
            "margin": null,
            "max_height": null,
            "max_width": null,
            "min_height": null,
            "min_width": null,
            "object_fit": null,
            "object_position": null,
            "order": null,
            "overflow": null,
            "overflow_x": null,
            "overflow_y": null,
            "padding": null,
            "right": null,
            "top": null,
            "visibility": null,
            "width": null
          }
        },
        "3a52b9feb5544bb2a1ef9b3911718675": {
          "model_module": "@jupyter-widgets/controls",
          "model_module_version": "1.5.0",
          "model_name": "HBoxModel",
          "state": {
            "_dom_classes": [],
            "_model_module": "@jupyter-widgets/controls",
            "_model_module_version": "1.5.0",
            "_model_name": "HBoxModel",
            "_view_count": null,
            "_view_module": "@jupyter-widgets/controls",
            "_view_module_version": "1.5.0",
            "_view_name": "HBoxView",
            "box_style": "",
            "children": [
              "IPY_MODEL_7c36628b644645bd9fb0f6004b347677",
              "IPY_MODEL_69b9d6b6d93d4b70bd68ee2100e01e01",
              "IPY_MODEL_bc4f56e6e84a42d18c91553c52648106"
            ],
            "layout": "IPY_MODEL_e8db6dc199ab4be9a0915bf4f4dd240d"
          }
        },
        "3b6cf6005055499b8dbdb39814c63fcf": {
          "model_module": "@jupyter-widgets/controls",
          "model_module_version": "1.5.0",
          "model_name": "HBoxModel",
          "state": {
            "_dom_classes": [],
            "_model_module": "@jupyter-widgets/controls",
            "_model_module_version": "1.5.0",
            "_model_name": "HBoxModel",
            "_view_count": null,
            "_view_module": "@jupyter-widgets/controls",
            "_view_module_version": "1.5.0",
            "_view_name": "HBoxView",
            "box_style": "",
            "children": [
              "IPY_MODEL_7cd3a6c7ab244d1ebd82f8834dfd1817",
              "IPY_MODEL_9a2cb97d1c79471eafec49d6d7d2bb8a",
              "IPY_MODEL_934a969b77b345ffb01634985897d527"
            ],
            "layout": "IPY_MODEL_40ee7a2b34734491bf77386abacb1f95"
          }
        },
        "40ee7a2b34734491bf77386abacb1f95": {
          "model_module": "@jupyter-widgets/base",
          "model_module_version": "1.2.0",
          "model_name": "LayoutModel",
          "state": {
            "_model_module": "@jupyter-widgets/base",
            "_model_module_version": "1.2.0",
            "_model_name": "LayoutModel",
            "_view_count": null,
            "_view_module": "@jupyter-widgets/base",
            "_view_module_version": "1.2.0",
            "_view_name": "LayoutView",
            "align_content": null,
            "align_items": null,
            "align_self": null,
            "border": null,
            "bottom": null,
            "display": null,
            "flex": null,
            "flex_flow": null,
            "grid_area": null,
            "grid_auto_columns": null,
            "grid_auto_flow": null,
            "grid_auto_rows": null,
            "grid_column": null,
            "grid_gap": null,
            "grid_row": null,
            "grid_template_areas": null,
            "grid_template_columns": null,
            "grid_template_rows": null,
            "height": null,
            "justify_content": null,
            "justify_items": null,
            "left": null,
            "margin": null,
            "max_height": null,
            "max_width": null,
            "min_height": null,
            "min_width": null,
            "object_fit": null,
            "object_position": null,
            "order": null,
            "overflow": null,
            "overflow_x": null,
            "overflow_y": null,
            "padding": null,
            "right": null,
            "top": null,
            "visibility": null,
            "width": null
          }
        },
        "46563fa183f7443d88f9db3f25121cec": {
          "model_module": "@jupyter-widgets/base",
          "model_module_version": "1.2.0",
          "model_name": "LayoutModel",
          "state": {
            "_model_module": "@jupyter-widgets/base",
            "_model_module_version": "1.2.0",
            "_model_name": "LayoutModel",
            "_view_count": null,
            "_view_module": "@jupyter-widgets/base",
            "_view_module_version": "1.2.0",
            "_view_name": "LayoutView",
            "align_content": null,
            "align_items": null,
            "align_self": null,
            "border": null,
            "bottom": null,
            "display": null,
            "flex": null,
            "flex_flow": null,
            "grid_area": null,
            "grid_auto_columns": null,
            "grid_auto_flow": null,
            "grid_auto_rows": null,
            "grid_column": null,
            "grid_gap": null,
            "grid_row": null,
            "grid_template_areas": null,
            "grid_template_columns": null,
            "grid_template_rows": null,
            "height": null,
            "justify_content": null,
            "justify_items": null,
            "left": null,
            "margin": null,
            "max_height": null,
            "max_width": null,
            "min_height": null,
            "min_width": null,
            "object_fit": null,
            "object_position": null,
            "order": null,
            "overflow": null,
            "overflow_x": null,
            "overflow_y": null,
            "padding": null,
            "right": null,
            "top": null,
            "visibility": null,
            "width": null
          }
        },
        "48e3c657349e40b3b0255a46d4a95fc7": {
          "model_module": "@jupyter-widgets/base",
          "model_module_version": "1.2.0",
          "model_name": "LayoutModel",
          "state": {
            "_model_module": "@jupyter-widgets/base",
            "_model_module_version": "1.2.0",
            "_model_name": "LayoutModel",
            "_view_count": null,
            "_view_module": "@jupyter-widgets/base",
            "_view_module_version": "1.2.0",
            "_view_name": "LayoutView",
            "align_content": null,
            "align_items": null,
            "align_self": null,
            "border": null,
            "bottom": null,
            "display": null,
            "flex": null,
            "flex_flow": null,
            "grid_area": null,
            "grid_auto_columns": null,
            "grid_auto_flow": null,
            "grid_auto_rows": null,
            "grid_column": null,
            "grid_gap": null,
            "grid_row": null,
            "grid_template_areas": null,
            "grid_template_columns": null,
            "grid_template_rows": null,
            "height": null,
            "justify_content": null,
            "justify_items": null,
            "left": null,
            "margin": null,
            "max_height": null,
            "max_width": null,
            "min_height": null,
            "min_width": null,
            "object_fit": null,
            "object_position": null,
            "order": null,
            "overflow": null,
            "overflow_x": null,
            "overflow_y": null,
            "padding": null,
            "right": null,
            "top": null,
            "visibility": null,
            "width": null
          }
        },
        "4b334ad6c8dc4faaa50359ee5116d2f3": {
          "model_module": "@jupyter-widgets/controls",
          "model_module_version": "1.5.0",
          "model_name": "HBoxModel",
          "state": {
            "_dom_classes": [],
            "_model_module": "@jupyter-widgets/controls",
            "_model_module_version": "1.5.0",
            "_model_name": "HBoxModel",
            "_view_count": null,
            "_view_module": "@jupyter-widgets/controls",
            "_view_module_version": "1.5.0",
            "_view_name": "HBoxView",
            "box_style": "",
            "children": [
              "IPY_MODEL_2b6e69f4cf474fb4b6259950c67c1616",
              "IPY_MODEL_623fe0ba5d584138b4e206d71761938f",
              "IPY_MODEL_5e46f73bd4b544409c3bbaf3328560e1"
            ],
            "layout": "IPY_MODEL_399b1ea6da9e4cbfbb779ce1aea8491f"
          }
        },
        "4c7993aa17a646be8da09ba4044a34cc": {
          "model_module": "@jupyter-widgets/controls",
          "model_module_version": "1.5.0",
          "model_name": "DescriptionStyleModel",
          "state": {
            "_model_module": "@jupyter-widgets/controls",
            "_model_module_version": "1.5.0",
            "_model_name": "DescriptionStyleModel",
            "_view_count": null,
            "_view_module": "@jupyter-widgets/base",
            "_view_module_version": "1.2.0",
            "_view_name": "StyleView",
            "description_width": ""
          }
        },
        "4ceb6a9ec3c14a889970820fb8e831a1": {
          "model_module": "@jupyter-widgets/base",
          "model_module_version": "1.2.0",
          "model_name": "LayoutModel",
          "state": {
            "_model_module": "@jupyter-widgets/base",
            "_model_module_version": "1.2.0",
            "_model_name": "LayoutModel",
            "_view_count": null,
            "_view_module": "@jupyter-widgets/base",
            "_view_module_version": "1.2.0",
            "_view_name": "LayoutView",
            "align_content": null,
            "align_items": null,
            "align_self": null,
            "border": null,
            "bottom": null,
            "display": null,
            "flex": null,
            "flex_flow": null,
            "grid_area": null,
            "grid_auto_columns": null,
            "grid_auto_flow": null,
            "grid_auto_rows": null,
            "grid_column": null,
            "grid_gap": null,
            "grid_row": null,
            "grid_template_areas": null,
            "grid_template_columns": null,
            "grid_template_rows": null,
            "height": null,
            "justify_content": null,
            "justify_items": null,
            "left": null,
            "margin": null,
            "max_height": null,
            "max_width": null,
            "min_height": null,
            "min_width": null,
            "object_fit": null,
            "object_position": null,
            "order": null,
            "overflow": null,
            "overflow_x": null,
            "overflow_y": null,
            "padding": null,
            "right": null,
            "top": null,
            "visibility": null,
            "width": null
          }
        },
        "507af17e2d144059b4c274d2d1e91baf": {
          "model_module": "@jupyter-widgets/controls",
          "model_module_version": "1.5.0",
          "model_name": "DescriptionStyleModel",
          "state": {
            "_model_module": "@jupyter-widgets/controls",
            "_model_module_version": "1.5.0",
            "_model_name": "DescriptionStyleModel",
            "_view_count": null,
            "_view_module": "@jupyter-widgets/base",
            "_view_module_version": "1.2.0",
            "_view_name": "StyleView",
            "description_width": ""
          }
        },
        "525f2e79dcd84743863333da60ac258d": {
          "model_module": "@jupyter-widgets/controls",
          "model_module_version": "1.5.0",
          "model_name": "DescriptionStyleModel",
          "state": {
            "_model_module": "@jupyter-widgets/controls",
            "_model_module_version": "1.5.0",
            "_model_name": "DescriptionStyleModel",
            "_view_count": null,
            "_view_module": "@jupyter-widgets/base",
            "_view_module_version": "1.2.0",
            "_view_name": "StyleView",
            "description_width": ""
          }
        },
        "5395ebf388fb4f928b9c1021ae24f5a2": {
          "model_module": "@jupyter-widgets/controls",
          "model_module_version": "1.5.0",
          "model_name": "ProgressStyleModel",
          "state": {
            "_model_module": "@jupyter-widgets/controls",
            "_model_module_version": "1.5.0",
            "_model_name": "ProgressStyleModel",
            "_view_count": null,
            "_view_module": "@jupyter-widgets/base",
            "_view_module_version": "1.2.0",
            "_view_name": "StyleView",
            "bar_color": null,
            "description_width": ""
          }
        },
        "56334eba9d4c4188bd71f9051ec7fcf5": {
          "model_module": "@jupyter-widgets/controls",
          "model_module_version": "1.5.0",
          "model_name": "HTMLModel",
          "state": {
            "_dom_classes": [],
            "_model_module": "@jupyter-widgets/controls",
            "_model_module_version": "1.5.0",
            "_model_name": "HTMLModel",
            "_view_count": null,
            "_view_module": "@jupyter-widgets/controls",
            "_view_module_version": "1.5.0",
            "_view_name": "HTMLView",
            "description": "",
            "description_tooltip": null,
            "layout": "IPY_MODEL_1a028a499ccb4273a64db890bdbabde3",
            "placeholder": "​",
            "style": "IPY_MODEL_022246e588e5473488f963efba08de7a",
            "value": " 79/79 [00:39&lt;00:00,  3.72it/s]"
          }
        },
        "580096fff3c34c4a93b516e0ebef06a2": {
          "model_module": "@jupyter-widgets/controls",
          "model_module_version": "1.5.0",
          "model_name": "DescriptionStyleModel",
          "state": {
            "_model_module": "@jupyter-widgets/controls",
            "_model_module_version": "1.5.0",
            "_model_name": "DescriptionStyleModel",
            "_view_count": null,
            "_view_module": "@jupyter-widgets/base",
            "_view_module_version": "1.2.0",
            "_view_name": "StyleView",
            "description_width": ""
          }
        },
        "5a9304183bb241e5a25b9e161eec7fb6": {
          "model_module": "@jupyter-widgets/controls",
          "model_module_version": "1.5.0",
          "model_name": "DescriptionStyleModel",
          "state": {
            "_model_module": "@jupyter-widgets/controls",
            "_model_module_version": "1.5.0",
            "_model_name": "DescriptionStyleModel",
            "_view_count": null,
            "_view_module": "@jupyter-widgets/base",
            "_view_module_version": "1.2.0",
            "_view_name": "StyleView",
            "description_width": ""
          }
        },
        "5ca09054bafd4fda84ed24fd000282e6": {
          "model_module": "@jupyter-widgets/base",
          "model_module_version": "1.2.0",
          "model_name": "LayoutModel",
          "state": {
            "_model_module": "@jupyter-widgets/base",
            "_model_module_version": "1.2.0",
            "_model_name": "LayoutModel",
            "_view_count": null,
            "_view_module": "@jupyter-widgets/base",
            "_view_module_version": "1.2.0",
            "_view_name": "LayoutView",
            "align_content": null,
            "align_items": null,
            "align_self": null,
            "border": null,
            "bottom": null,
            "display": null,
            "flex": null,
            "flex_flow": null,
            "grid_area": null,
            "grid_auto_columns": null,
            "grid_auto_flow": null,
            "grid_auto_rows": null,
            "grid_column": null,
            "grid_gap": null,
            "grid_row": null,
            "grid_template_areas": null,
            "grid_template_columns": null,
            "grid_template_rows": null,
            "height": null,
            "justify_content": null,
            "justify_items": null,
            "left": null,
            "margin": null,
            "max_height": null,
            "max_width": null,
            "min_height": null,
            "min_width": null,
            "object_fit": null,
            "object_position": null,
            "order": null,
            "overflow": null,
            "overflow_x": null,
            "overflow_y": null,
            "padding": null,
            "right": null,
            "top": null,
            "visibility": null,
            "width": null
          }
        },
        "5cacbfdab5b449e0b58f9c8892c2b2b1": {
          "model_module": "@jupyter-widgets/base",
          "model_module_version": "1.2.0",
          "model_name": "LayoutModel",
          "state": {
            "_model_module": "@jupyter-widgets/base",
            "_model_module_version": "1.2.0",
            "_model_name": "LayoutModel",
            "_view_count": null,
            "_view_module": "@jupyter-widgets/base",
            "_view_module_version": "1.2.0",
            "_view_name": "LayoutView",
            "align_content": null,
            "align_items": null,
            "align_self": null,
            "border": null,
            "bottom": null,
            "display": null,
            "flex": null,
            "flex_flow": null,
            "grid_area": null,
            "grid_auto_columns": null,
            "grid_auto_flow": null,
            "grid_auto_rows": null,
            "grid_column": null,
            "grid_gap": null,
            "grid_row": null,
            "grid_template_areas": null,
            "grid_template_columns": null,
            "grid_template_rows": null,
            "height": null,
            "justify_content": null,
            "justify_items": null,
            "left": null,
            "margin": null,
            "max_height": null,
            "max_width": null,
            "min_height": null,
            "min_width": null,
            "object_fit": null,
            "object_position": null,
            "order": null,
            "overflow": null,
            "overflow_x": null,
            "overflow_y": null,
            "padding": null,
            "right": null,
            "top": null,
            "visibility": null,
            "width": null
          }
        },
        "5ce983de065d4eb7a2bb727ce510a8b8": {
          "model_module": "@jupyter-widgets/base",
          "model_module_version": "1.2.0",
          "model_name": "LayoutModel",
          "state": {
            "_model_module": "@jupyter-widgets/base",
            "_model_module_version": "1.2.0",
            "_model_name": "LayoutModel",
            "_view_count": null,
            "_view_module": "@jupyter-widgets/base",
            "_view_module_version": "1.2.0",
            "_view_name": "LayoutView",
            "align_content": null,
            "align_items": null,
            "align_self": null,
            "border": null,
            "bottom": null,
            "display": null,
            "flex": null,
            "flex_flow": null,
            "grid_area": null,
            "grid_auto_columns": null,
            "grid_auto_flow": null,
            "grid_auto_rows": null,
            "grid_column": null,
            "grid_gap": null,
            "grid_row": null,
            "grid_template_areas": null,
            "grid_template_columns": null,
            "grid_template_rows": null,
            "height": null,
            "justify_content": null,
            "justify_items": null,
            "left": null,
            "margin": null,
            "max_height": null,
            "max_width": null,
            "min_height": null,
            "min_width": null,
            "object_fit": null,
            "object_position": null,
            "order": null,
            "overflow": null,
            "overflow_x": null,
            "overflow_y": null,
            "padding": null,
            "right": null,
            "top": null,
            "visibility": null,
            "width": null
          }
        },
        "5da521f36be442a2ba6ffa01995ea9b5": {
          "model_module": "@jupyter-widgets/controls",
          "model_module_version": "1.5.0",
          "model_name": "DescriptionStyleModel",
          "state": {
            "_model_module": "@jupyter-widgets/controls",
            "_model_module_version": "1.5.0",
            "_model_name": "DescriptionStyleModel",
            "_view_count": null,
            "_view_module": "@jupyter-widgets/base",
            "_view_module_version": "1.2.0",
            "_view_name": "StyleView",
            "description_width": ""
          }
        },
        "5e46f73bd4b544409c3bbaf3328560e1": {
          "model_module": "@jupyter-widgets/controls",
          "model_module_version": "1.5.0",
          "model_name": "HTMLModel",
          "state": {
            "_dom_classes": [],
            "_model_module": "@jupyter-widgets/controls",
            "_model_module_version": "1.5.0",
            "_model_name": "HTMLModel",
            "_view_count": null,
            "_view_module": "@jupyter-widgets/controls",
            "_view_module_version": "1.5.0",
            "_view_name": "HTMLView",
            "description": "",
            "description_tooltip": null,
            "layout": "IPY_MODEL_2a08e497ef2241eea952680b7508d7e6",
            "placeholder": "​",
            "style": "IPY_MODEL_507af17e2d144059b4c274d2d1e91baf",
            "value": " 1/1 [00:43&lt;00:00, 43.68s/it]"
          }
        },
        "5e8f29f85f0a49abb4f78e5018c5c162": {
          "model_module": "@jupyter-widgets/base",
          "model_module_version": "1.2.0",
          "model_name": "LayoutModel",
          "state": {
            "_model_module": "@jupyter-widgets/base",
            "_model_module_version": "1.2.0",
            "_model_name": "LayoutModel",
            "_view_count": null,
            "_view_module": "@jupyter-widgets/base",
            "_view_module_version": "1.2.0",
            "_view_name": "LayoutView",
            "align_content": null,
            "align_items": null,
            "align_self": null,
            "border": null,
            "bottom": null,
            "display": null,
            "flex": null,
            "flex_flow": null,
            "grid_area": null,
            "grid_auto_columns": null,
            "grid_auto_flow": null,
            "grid_auto_rows": null,
            "grid_column": null,
            "grid_gap": null,
            "grid_row": null,
            "grid_template_areas": null,
            "grid_template_columns": null,
            "grid_template_rows": null,
            "height": null,
            "justify_content": null,
            "justify_items": null,
            "left": null,
            "margin": null,
            "max_height": null,
            "max_width": null,
            "min_height": null,
            "min_width": null,
            "object_fit": null,
            "object_position": null,
            "order": null,
            "overflow": null,
            "overflow_x": null,
            "overflow_y": null,
            "padding": null,
            "right": null,
            "top": null,
            "visibility": null,
            "width": null
          }
        },
        "620e6d93ab304f3a8db6a8d3687ae4bc": {
          "model_module": "@jupyter-widgets/controls",
          "model_module_version": "1.5.0",
          "model_name": "HBoxModel",
          "state": {
            "_dom_classes": [],
            "_model_module": "@jupyter-widgets/controls",
            "_model_module_version": "1.5.0",
            "_model_name": "HBoxModel",
            "_view_count": null,
            "_view_module": "@jupyter-widgets/controls",
            "_view_module_version": "1.5.0",
            "_view_name": "HBoxView",
            "box_style": "",
            "children": [
              "IPY_MODEL_94d3d5e3adf74a519ea4d75ea8024d9f",
              "IPY_MODEL_c20348b1b57b4c1cbf50bca538127d8f",
              "IPY_MODEL_c3121f598e08449781b77c2b20d267dd"
            ],
            "layout": "IPY_MODEL_c9e4cc17d24041b496b7e8c190139a31"
          }
        },
        "623fe0ba5d584138b4e206d71761938f": {
          "model_module": "@jupyter-widgets/controls",
          "model_module_version": "1.5.0",
          "model_name": "FloatProgressModel",
          "state": {
            "_dom_classes": [],
            "_model_module": "@jupyter-widgets/controls",
            "_model_module_version": "1.5.0",
            "_model_name": "FloatProgressModel",
            "_view_count": null,
            "_view_module": "@jupyter-widgets/controls",
            "_view_module_version": "1.5.0",
            "_view_name": "ProgressView",
            "bar_style": "success",
            "description": "",
            "description_tooltip": null,
            "layout": "IPY_MODEL_032b7ec36a26413e9abf210df87d8195",
            "max": 1,
            "min": 0,
            "orientation": "horizontal",
            "style": "IPY_MODEL_6323f7eaf1ae4014b370202b1d67c7b0",
            "value": 1
          }
        },
        "6323f7eaf1ae4014b370202b1d67c7b0": {
          "model_module": "@jupyter-widgets/controls",
          "model_module_version": "1.5.0",
          "model_name": "ProgressStyleModel",
          "state": {
            "_model_module": "@jupyter-widgets/controls",
            "_model_module_version": "1.5.0",
            "_model_name": "ProgressStyleModel",
            "_view_count": null,
            "_view_module": "@jupyter-widgets/base",
            "_view_module_version": "1.2.0",
            "_view_name": "StyleView",
            "bar_color": null,
            "description_width": ""
          }
        },
        "64961d7224c948d6af592939651ead86": {
          "model_module": "@jupyter-widgets/controls",
          "model_module_version": "1.5.0",
          "model_name": "HTMLModel",
          "state": {
            "_dom_classes": [],
            "_model_module": "@jupyter-widgets/controls",
            "_model_module_version": "1.5.0",
            "_model_name": "HTMLModel",
            "_view_count": null,
            "_view_module": "@jupyter-widgets/controls",
            "_view_module_version": "1.5.0",
            "_view_name": "HTMLView",
            "description": "",
            "description_tooltip": null,
            "layout": "IPY_MODEL_9388dec9188e4f60976ec4e20f2d2e6f",
            "placeholder": "​",
            "style": "IPY_MODEL_e695d29a840c44aeabef68c005cc0d65",
            "value": "100%"
          }
        },
        "69a377c70d214bf7934adaf8b99ad9d2": {
          "model_module": "@jupyter-widgets/base",
          "model_module_version": "1.2.0",
          "model_name": "LayoutModel",
          "state": {
            "_model_module": "@jupyter-widgets/base",
            "_model_module_version": "1.2.0",
            "_model_name": "LayoutModel",
            "_view_count": null,
            "_view_module": "@jupyter-widgets/base",
            "_view_module_version": "1.2.0",
            "_view_name": "LayoutView",
            "align_content": null,
            "align_items": null,
            "align_self": null,
            "border": null,
            "bottom": null,
            "display": null,
            "flex": null,
            "flex_flow": null,
            "grid_area": null,
            "grid_auto_columns": null,
            "grid_auto_flow": null,
            "grid_auto_rows": null,
            "grid_column": null,
            "grid_gap": null,
            "grid_row": null,
            "grid_template_areas": null,
            "grid_template_columns": null,
            "grid_template_rows": null,
            "height": null,
            "justify_content": null,
            "justify_items": null,
            "left": null,
            "margin": null,
            "max_height": null,
            "max_width": null,
            "min_height": null,
            "min_width": null,
            "object_fit": null,
            "object_position": null,
            "order": null,
            "overflow": null,
            "overflow_x": null,
            "overflow_y": null,
            "padding": null,
            "right": null,
            "top": null,
            "visibility": null,
            "width": null
          }
        },
        "69b9d6b6d93d4b70bd68ee2100e01e01": {
          "model_module": "@jupyter-widgets/controls",
          "model_module_version": "1.5.0",
          "model_name": "FloatProgressModel",
          "state": {
            "_dom_classes": [],
            "_model_module": "@jupyter-widgets/controls",
            "_model_module_version": "1.5.0",
            "_model_name": "FloatProgressModel",
            "_view_count": null,
            "_view_module": "@jupyter-widgets/controls",
            "_view_module_version": "1.5.0",
            "_view_name": "ProgressView",
            "bar_style": "success",
            "description": "",
            "description_tooltip": null,
            "layout": "IPY_MODEL_929dd5f8aadf4fb7b2a34c169a264ef7",
            "max": 79,
            "min": 0,
            "orientation": "horizontal",
            "style": "IPY_MODEL_d90c18f2c75b4d5db672c897f9b0e2ff",
            "value": 79
          }
        },
        "6cf8d84474b84367a25e56a1af4addc6": {
          "model_module": "@jupyter-widgets/controls",
          "model_module_version": "1.5.0",
          "model_name": "FloatProgressModel",
          "state": {
            "_dom_classes": [],
            "_model_module": "@jupyter-widgets/controls",
            "_model_module_version": "1.5.0",
            "_model_name": "FloatProgressModel",
            "_view_count": null,
            "_view_module": "@jupyter-widgets/controls",
            "_view_module_version": "1.5.0",
            "_view_name": "ProgressView",
            "bar_style": "success",
            "description": "",
            "description_tooltip": null,
            "layout": "IPY_MODEL_0e141bcede7043bba6fadec3021883f7",
            "max": 148,
            "min": 0,
            "orientation": "horizontal",
            "style": "IPY_MODEL_894e8cf6cbe24142858a840228b79930",
            "value": 148
          }
        },
        "6eb0139cb4be4825a5e1ec87512c6fea": {
          "model_module": "@jupyter-widgets/controls",
          "model_module_version": "1.5.0",
          "model_name": "DescriptionStyleModel",
          "state": {
            "_model_module": "@jupyter-widgets/controls",
            "_model_module_version": "1.5.0",
            "_model_name": "DescriptionStyleModel",
            "_view_count": null,
            "_view_module": "@jupyter-widgets/base",
            "_view_module_version": "1.2.0",
            "_view_name": "StyleView",
            "description_width": ""
          }
        },
        "6f742397ea9844ef9e6f8460b30a608d": {
          "model_module": "@jupyter-widgets/controls",
          "model_module_version": "1.5.0",
          "model_name": "ProgressStyleModel",
          "state": {
            "_model_module": "@jupyter-widgets/controls",
            "_model_module_version": "1.5.0",
            "_model_name": "ProgressStyleModel",
            "_view_count": null,
            "_view_module": "@jupyter-widgets/base",
            "_view_module_version": "1.2.0",
            "_view_name": "StyleView",
            "bar_color": null,
            "description_width": ""
          }
        },
        "7027bfef0b3f4662addeb27a5d2c15bc": {
          "model_module": "@jupyter-widgets/controls",
          "model_module_version": "1.5.0",
          "model_name": "HBoxModel",
          "state": {
            "_dom_classes": [],
            "_model_module": "@jupyter-widgets/controls",
            "_model_module_version": "1.5.0",
            "_model_name": "HBoxModel",
            "_view_count": null,
            "_view_module": "@jupyter-widgets/controls",
            "_view_module_version": "1.5.0",
            "_view_name": "HBoxView",
            "box_style": "",
            "children": [
              "IPY_MODEL_893bfe1f42fa45d28bb91fb1f0db921d",
              "IPY_MODEL_6cf8d84474b84367a25e56a1af4addc6",
              "IPY_MODEL_1e5f5d9587944cd79298fd7ca9e2e541"
            ],
            "layout": "IPY_MODEL_a682cf57b32d451cbac748e6621a7ee4"
          }
        },
        "71ee6abdd1b244889eabac8ee34359d8": {
          "model_module": "@jupyter-widgets/controls",
          "model_module_version": "1.5.0",
          "model_name": "HBoxModel",
          "state": {
            "_dom_classes": [],
            "_model_module": "@jupyter-widgets/controls",
            "_model_module_version": "1.5.0",
            "_model_name": "HBoxModel",
            "_view_count": null,
            "_view_module": "@jupyter-widgets/controls",
            "_view_module_version": "1.5.0",
            "_view_name": "HBoxView",
            "box_style": "",
            "children": [
              "IPY_MODEL_c0af75b0d95f433bb83c3baeb1e4c168",
              "IPY_MODEL_ffccbffe3df74e12a0d58f706c0c0c23",
              "IPY_MODEL_0c2e810eca914114a595956c529ce8dd"
            ],
            "layout": "IPY_MODEL_decb1aff926e4ba9be8a7d3cb745dc0d"
          }
        },
        "72cf0d7b1c8c467a9ec956d944a2a134": {
          "model_module": "@jupyter-widgets/controls",
          "model_module_version": "1.5.0",
          "model_name": "HBoxModel",
          "state": {
            "_dom_classes": [],
            "_model_module": "@jupyter-widgets/controls",
            "_model_module_version": "1.5.0",
            "_model_name": "HBoxModel",
            "_view_count": null,
            "_view_module": "@jupyter-widgets/controls",
            "_view_module_version": "1.5.0",
            "_view_name": "HBoxView",
            "box_style": "",
            "children": [
              "IPY_MODEL_ab47e313abb74e9e9149007add6887bc",
              "IPY_MODEL_e098b86324004e1d91b60d72f345b95c",
              "IPY_MODEL_37db90048a7b4e78aa6568572f661221"
            ],
            "layout": "IPY_MODEL_c02c101b23bd46ae898ad985679a6dbe"
          }
        },
        "72eba833a7894d59910a0b59962cdf21": {
          "model_module": "@jupyter-widgets/controls",
          "model_module_version": "1.5.0",
          "model_name": "HBoxModel",
          "state": {
            "_dom_classes": [],
            "_model_module": "@jupyter-widgets/controls",
            "_model_module_version": "1.5.0",
            "_model_name": "HBoxModel",
            "_view_count": null,
            "_view_module": "@jupyter-widgets/controls",
            "_view_module_version": "1.5.0",
            "_view_name": "HBoxView",
            "box_style": "",
            "children": [
              "IPY_MODEL_1823b901bc034118a012b886726ad10f",
              "IPY_MODEL_317016bb1a324b54a99c46c4a7337bd4",
              "IPY_MODEL_c37a67d4a5974a67b2b12096f9416f4f"
            ],
            "layout": "IPY_MODEL_b0b985d3dc654be0ac7fee094bf0b562"
          }
        },
        "733338126b5848d99ce03e7719edc755": {
          "model_module": "@jupyter-widgets/controls",
          "model_module_version": "1.5.0",
          "model_name": "DescriptionStyleModel",
          "state": {
            "_model_module": "@jupyter-widgets/controls",
            "_model_module_version": "1.5.0",
            "_model_name": "DescriptionStyleModel",
            "_view_count": null,
            "_view_module": "@jupyter-widgets/base",
            "_view_module_version": "1.2.0",
            "_view_name": "StyleView",
            "description_width": ""
          }
        },
        "735edfe5aa174e2bbae13cee0961bdcd": {
          "model_module": "@jupyter-widgets/base",
          "model_module_version": "1.2.0",
          "model_name": "LayoutModel",
          "state": {
            "_model_module": "@jupyter-widgets/base",
            "_model_module_version": "1.2.0",
            "_model_name": "LayoutModel",
            "_view_count": null,
            "_view_module": "@jupyter-widgets/base",
            "_view_module_version": "1.2.0",
            "_view_name": "LayoutView",
            "align_content": null,
            "align_items": null,
            "align_self": null,
            "border": null,
            "bottom": null,
            "display": null,
            "flex": null,
            "flex_flow": null,
            "grid_area": null,
            "grid_auto_columns": null,
            "grid_auto_flow": null,
            "grid_auto_rows": null,
            "grid_column": null,
            "grid_gap": null,
            "grid_row": null,
            "grid_template_areas": null,
            "grid_template_columns": null,
            "grid_template_rows": null,
            "height": null,
            "justify_content": null,
            "justify_items": null,
            "left": null,
            "margin": null,
            "max_height": null,
            "max_width": null,
            "min_height": null,
            "min_width": null,
            "object_fit": null,
            "object_position": null,
            "order": null,
            "overflow": null,
            "overflow_x": null,
            "overflow_y": null,
            "padding": null,
            "right": null,
            "top": null,
            "visibility": null,
            "width": null
          }
        },
        "7479b419f3c74ae5a5b142f0d370dd50": {
          "model_module": "@jupyter-widgets/controls",
          "model_module_version": "1.5.0",
          "model_name": "DescriptionStyleModel",
          "state": {
            "_model_module": "@jupyter-widgets/controls",
            "_model_module_version": "1.5.0",
            "_model_name": "DescriptionStyleModel",
            "_view_count": null,
            "_view_module": "@jupyter-widgets/base",
            "_view_module_version": "1.2.0",
            "_view_name": "StyleView",
            "description_width": ""
          }
        },
        "74ae5bc99d06493ca160bce89ce53f11": {
          "model_module": "@jupyter-widgets/controls",
          "model_module_version": "1.5.0",
          "model_name": "ProgressStyleModel",
          "state": {
            "_model_module": "@jupyter-widgets/controls",
            "_model_module_version": "1.5.0",
            "_model_name": "ProgressStyleModel",
            "_view_count": null,
            "_view_module": "@jupyter-widgets/base",
            "_view_module_version": "1.2.0",
            "_view_name": "StyleView",
            "bar_color": null,
            "description_width": ""
          }
        },
        "773a245dd8534284a2bb60a60b79e95b": {
          "model_module": "@jupyter-widgets/controls",
          "model_module_version": "1.5.0",
          "model_name": "ProgressStyleModel",
          "state": {
            "_model_module": "@jupyter-widgets/controls",
            "_model_module_version": "1.5.0",
            "_model_name": "ProgressStyleModel",
            "_view_count": null,
            "_view_module": "@jupyter-widgets/base",
            "_view_module_version": "1.2.0",
            "_view_name": "StyleView",
            "bar_color": null,
            "description_width": ""
          }
        },
        "7b2d605756304169992cbad5f03ef5ae": {
          "model_module": "@jupyter-widgets/base",
          "model_module_version": "1.2.0",
          "model_name": "LayoutModel",
          "state": {
            "_model_module": "@jupyter-widgets/base",
            "_model_module_version": "1.2.0",
            "_model_name": "LayoutModel",
            "_view_count": null,
            "_view_module": "@jupyter-widgets/base",
            "_view_module_version": "1.2.0",
            "_view_name": "LayoutView",
            "align_content": null,
            "align_items": null,
            "align_self": null,
            "border": null,
            "bottom": null,
            "display": null,
            "flex": null,
            "flex_flow": null,
            "grid_area": null,
            "grid_auto_columns": null,
            "grid_auto_flow": null,
            "grid_auto_rows": null,
            "grid_column": null,
            "grid_gap": null,
            "grid_row": null,
            "grid_template_areas": null,
            "grid_template_columns": null,
            "grid_template_rows": null,
            "height": null,
            "justify_content": null,
            "justify_items": null,
            "left": null,
            "margin": null,
            "max_height": null,
            "max_width": null,
            "min_height": null,
            "min_width": null,
            "object_fit": null,
            "object_position": null,
            "order": null,
            "overflow": null,
            "overflow_x": null,
            "overflow_y": null,
            "padding": null,
            "right": null,
            "top": null,
            "visibility": null,
            "width": null
          }
        },
        "7b8067d65fbb4f37a73341e7d19425c5": {
          "model_module": "@jupyter-widgets/controls",
          "model_module_version": "1.5.0",
          "model_name": "ProgressStyleModel",
          "state": {
            "_model_module": "@jupyter-widgets/controls",
            "_model_module_version": "1.5.0",
            "_model_name": "ProgressStyleModel",
            "_view_count": null,
            "_view_module": "@jupyter-widgets/base",
            "_view_module_version": "1.2.0",
            "_view_name": "StyleView",
            "bar_color": null,
            "description_width": ""
          }
        },
        "7c36628b644645bd9fb0f6004b347677": {
          "model_module": "@jupyter-widgets/controls",
          "model_module_version": "1.5.0",
          "model_name": "HTMLModel",
          "state": {
            "_dom_classes": [],
            "_model_module": "@jupyter-widgets/controls",
            "_model_module_version": "1.5.0",
            "_model_name": "HTMLModel",
            "_view_count": null,
            "_view_module": "@jupyter-widgets/controls",
            "_view_module_version": "1.5.0",
            "_view_name": "HTMLView",
            "description": "",
            "description_tooltip": null,
            "layout": "IPY_MODEL_ff38c101dc2d4461a61f783cbbdf7638",
            "placeholder": "​",
            "style": "IPY_MODEL_5da521f36be442a2ba6ffa01995ea9b5",
            "value": "Batches: 100%"
          }
        },
        "7cd3a6c7ab244d1ebd82f8834dfd1817": {
          "model_module": "@jupyter-widgets/controls",
          "model_module_version": "1.5.0",
          "model_name": "HTMLModel",
          "state": {
            "_dom_classes": [],
            "_model_module": "@jupyter-widgets/controls",
            "_model_module_version": "1.5.0",
            "_model_name": "HTMLModel",
            "_view_count": null,
            "_view_module": "@jupyter-widgets/controls",
            "_view_module_version": "1.5.0",
            "_view_name": "HTMLView",
            "description": "",
            "description_tooltip": null,
            "layout": "IPY_MODEL_69a377c70d214bf7934adaf8b99ad9d2",
            "placeholder": "​",
            "style": "IPY_MODEL_7479b419f3c74ae5a5b142f0d370dd50",
            "value": "Iteration: 100%"
          }
        },
        "7e2680dd838b4cfcaf46d0db9d045829": {
          "model_module": "@jupyter-widgets/controls",
          "model_module_version": "1.5.0",
          "model_name": "DescriptionStyleModel",
          "state": {
            "_model_module": "@jupyter-widgets/controls",
            "_model_module_version": "1.5.0",
            "_model_name": "DescriptionStyleModel",
            "_view_count": null,
            "_view_module": "@jupyter-widgets/base",
            "_view_module_version": "1.2.0",
            "_view_name": "StyleView",
            "description_width": ""
          }
        },
        "80b4ef454a584743a042dfcad5cdaeab": {
          "model_module": "@jupyter-widgets/controls",
          "model_module_version": "1.5.0",
          "model_name": "HBoxModel",
          "state": {
            "_dom_classes": [],
            "_model_module": "@jupyter-widgets/controls",
            "_model_module_version": "1.5.0",
            "_model_name": "HBoxModel",
            "_view_count": null,
            "_view_module": "@jupyter-widgets/controls",
            "_view_module_version": "1.5.0",
            "_view_name": "HBoxView",
            "box_style": "",
            "children": [
              "IPY_MODEL_ad8769e09df34b6db25078db39d817c5",
              "IPY_MODEL_1b378af7efb942848b12d4e8165a2b55",
              "IPY_MODEL_c8bf8f1c36fd4d92ac6518f4e64c6acd"
            ],
            "layout": "IPY_MODEL_9ce94b03367c4f24a0c4eef5302ba0f3"
          }
        },
        "85a8870b71224536b6f15f63196c2981": {
          "model_module": "@jupyter-widgets/controls",
          "model_module_version": "1.5.0",
          "model_name": "DescriptionStyleModel",
          "state": {
            "_model_module": "@jupyter-widgets/controls",
            "_model_module_version": "1.5.0",
            "_model_name": "DescriptionStyleModel",
            "_view_count": null,
            "_view_module": "@jupyter-widgets/base",
            "_view_module_version": "1.2.0",
            "_view_name": "StyleView",
            "description_width": ""
          }
        },
        "88ae901f20db4c53996c8c2682b2ff82": {
          "model_module": "@jupyter-widgets/base",
          "model_module_version": "1.2.0",
          "model_name": "LayoutModel",
          "state": {
            "_model_module": "@jupyter-widgets/base",
            "_model_module_version": "1.2.0",
            "_model_name": "LayoutModel",
            "_view_count": null,
            "_view_module": "@jupyter-widgets/base",
            "_view_module_version": "1.2.0",
            "_view_name": "LayoutView",
            "align_content": null,
            "align_items": null,
            "align_self": null,
            "border": null,
            "bottom": null,
            "display": null,
            "flex": null,
            "flex_flow": null,
            "grid_area": null,
            "grid_auto_columns": null,
            "grid_auto_flow": null,
            "grid_auto_rows": null,
            "grid_column": null,
            "grid_gap": null,
            "grid_row": null,
            "grid_template_areas": null,
            "grid_template_columns": null,
            "grid_template_rows": null,
            "height": null,
            "justify_content": null,
            "justify_items": null,
            "left": null,
            "margin": null,
            "max_height": null,
            "max_width": null,
            "min_height": null,
            "min_width": null,
            "object_fit": null,
            "object_position": null,
            "order": null,
            "overflow": null,
            "overflow_x": null,
            "overflow_y": null,
            "padding": null,
            "right": null,
            "top": null,
            "visibility": null,
            "width": null
          }
        },
        "893bfe1f42fa45d28bb91fb1f0db921d": {
          "model_module": "@jupyter-widgets/controls",
          "model_module_version": "1.5.0",
          "model_name": "HTMLModel",
          "state": {
            "_dom_classes": [],
            "_model_module": "@jupyter-widgets/controls",
            "_model_module_version": "1.5.0",
            "_model_name": "HTMLModel",
            "_view_count": null,
            "_view_module": "@jupyter-widgets/controls",
            "_view_module_version": "1.5.0",
            "_view_name": "HTMLView",
            "description": "",
            "description_tooltip": null,
            "layout": "IPY_MODEL_88ae901f20db4c53996c8c2682b2ff82",
            "placeholder": "​",
            "style": "IPY_MODEL_4c7993aa17a646be8da09ba4044a34cc",
            "value": "Iteration: 100%"
          }
        },
        "894e8cf6cbe24142858a840228b79930": {
          "model_module": "@jupyter-widgets/controls",
          "model_module_version": "1.5.0",
          "model_name": "ProgressStyleModel",
          "state": {
            "_model_module": "@jupyter-widgets/controls",
            "_model_module_version": "1.5.0",
            "_model_name": "ProgressStyleModel",
            "_view_count": null,
            "_view_module": "@jupyter-widgets/base",
            "_view_module_version": "1.2.0",
            "_view_name": "StyleView",
            "bar_color": null,
            "description_width": ""
          }
        },
        "90a1184d1c5d44eea418d02c6e35235a": {
          "model_module": "@jupyter-widgets/base",
          "model_module_version": "1.2.0",
          "model_name": "LayoutModel",
          "state": {
            "_model_module": "@jupyter-widgets/base",
            "_model_module_version": "1.2.0",
            "_model_name": "LayoutModel",
            "_view_count": null,
            "_view_module": "@jupyter-widgets/base",
            "_view_module_version": "1.2.0",
            "_view_name": "LayoutView",
            "align_content": null,
            "align_items": null,
            "align_self": null,
            "border": null,
            "bottom": null,
            "display": null,
            "flex": null,
            "flex_flow": null,
            "grid_area": null,
            "grid_auto_columns": null,
            "grid_auto_flow": null,
            "grid_auto_rows": null,
            "grid_column": null,
            "grid_gap": null,
            "grid_row": null,
            "grid_template_areas": null,
            "grid_template_columns": null,
            "grid_template_rows": null,
            "height": null,
            "justify_content": null,
            "justify_items": null,
            "left": null,
            "margin": null,
            "max_height": null,
            "max_width": null,
            "min_height": null,
            "min_width": null,
            "object_fit": null,
            "object_position": null,
            "order": null,
            "overflow": null,
            "overflow_x": null,
            "overflow_y": null,
            "padding": null,
            "right": null,
            "top": null,
            "visibility": null,
            "width": null
          }
        },
        "929dd5f8aadf4fb7b2a34c169a264ef7": {
          "model_module": "@jupyter-widgets/base",
          "model_module_version": "1.2.0",
          "model_name": "LayoutModel",
          "state": {
            "_model_module": "@jupyter-widgets/base",
            "_model_module_version": "1.2.0",
            "_model_name": "LayoutModel",
            "_view_count": null,
            "_view_module": "@jupyter-widgets/base",
            "_view_module_version": "1.2.0",
            "_view_name": "LayoutView",
            "align_content": null,
            "align_items": null,
            "align_self": null,
            "border": null,
            "bottom": null,
            "display": null,
            "flex": null,
            "flex_flow": null,
            "grid_area": null,
            "grid_auto_columns": null,
            "grid_auto_flow": null,
            "grid_auto_rows": null,
            "grid_column": null,
            "grid_gap": null,
            "grid_row": null,
            "grid_template_areas": null,
            "grid_template_columns": null,
            "grid_template_rows": null,
            "height": null,
            "justify_content": null,
            "justify_items": null,
            "left": null,
            "margin": null,
            "max_height": null,
            "max_width": null,
            "min_height": null,
            "min_width": null,
            "object_fit": null,
            "object_position": null,
            "order": null,
            "overflow": null,
            "overflow_x": null,
            "overflow_y": null,
            "padding": null,
            "right": null,
            "top": null,
            "visibility": null,
            "width": null
          }
        },
        "92cc1c72147c43a88989d4421421b4a7": {
          "model_module": "@jupyter-widgets/base",
          "model_module_version": "1.2.0",
          "model_name": "LayoutModel",
          "state": {
            "_model_module": "@jupyter-widgets/base",
            "_model_module_version": "1.2.0",
            "_model_name": "LayoutModel",
            "_view_count": null,
            "_view_module": "@jupyter-widgets/base",
            "_view_module_version": "1.2.0",
            "_view_name": "LayoutView",
            "align_content": null,
            "align_items": null,
            "align_self": null,
            "border": null,
            "bottom": null,
            "display": null,
            "flex": null,
            "flex_flow": null,
            "grid_area": null,
            "grid_auto_columns": null,
            "grid_auto_flow": null,
            "grid_auto_rows": null,
            "grid_column": null,
            "grid_gap": null,
            "grid_row": null,
            "grid_template_areas": null,
            "grid_template_columns": null,
            "grid_template_rows": null,
            "height": null,
            "justify_content": null,
            "justify_items": null,
            "left": null,
            "margin": null,
            "max_height": null,
            "max_width": null,
            "min_height": null,
            "min_width": null,
            "object_fit": null,
            "object_position": null,
            "order": null,
            "overflow": null,
            "overflow_x": null,
            "overflow_y": null,
            "padding": null,
            "right": null,
            "top": null,
            "visibility": null,
            "width": null
          }
        },
        "934a969b77b345ffb01634985897d527": {
          "model_module": "@jupyter-widgets/controls",
          "model_module_version": "1.5.0",
          "model_name": "HTMLModel",
          "state": {
            "_dom_classes": [],
            "_model_module": "@jupyter-widgets/controls",
            "_model_module_version": "1.5.0",
            "_model_name": "HTMLModel",
            "_view_count": null,
            "_view_module": "@jupyter-widgets/controls",
            "_view_module_version": "1.5.0",
            "_view_name": "HTMLView",
            "description": "",
            "description_tooltip": null,
            "layout": "IPY_MODEL_46563fa183f7443d88f9db3f25121cec",
            "placeholder": "​",
            "style": "IPY_MODEL_de61ceae2fe34b18880c86785a17ede8",
            "value": " 148/148 [00:39&lt;00:00,  3.70it/s]"
          }
        },
        "9388dec9188e4f60976ec4e20f2d2e6f": {
          "model_module": "@jupyter-widgets/base",
          "model_module_version": "1.2.0",
          "model_name": "LayoutModel",
          "state": {
            "_model_module": "@jupyter-widgets/base",
            "_model_module_version": "1.2.0",
            "_model_name": "LayoutModel",
            "_view_count": null,
            "_view_module": "@jupyter-widgets/base",
            "_view_module_version": "1.2.0",
            "_view_name": "LayoutView",
            "align_content": null,
            "align_items": null,
            "align_self": null,
            "border": null,
            "bottom": null,
            "display": null,
            "flex": null,
            "flex_flow": null,
            "grid_area": null,
            "grid_auto_columns": null,
            "grid_auto_flow": null,
            "grid_auto_rows": null,
            "grid_column": null,
            "grid_gap": null,
            "grid_row": null,
            "grid_template_areas": null,
            "grid_template_columns": null,
            "grid_template_rows": null,
            "height": null,
            "justify_content": null,
            "justify_items": null,
            "left": null,
            "margin": null,
            "max_height": null,
            "max_width": null,
            "min_height": null,
            "min_width": null,
            "object_fit": null,
            "object_position": null,
            "order": null,
            "overflow": null,
            "overflow_x": null,
            "overflow_y": null,
            "padding": null,
            "right": null,
            "top": null,
            "visibility": null,
            "width": null
          }
        },
        "94d3d5e3adf74a519ea4d75ea8024d9f": {
          "model_module": "@jupyter-widgets/controls",
          "model_module_version": "1.5.0",
          "model_name": "HTMLModel",
          "state": {
            "_dom_classes": [],
            "_model_module": "@jupyter-widgets/controls",
            "_model_module_version": "1.5.0",
            "_model_name": "HTMLModel",
            "_view_count": null,
            "_view_module": "@jupyter-widgets/controls",
            "_view_module_version": "1.5.0",
            "_view_name": "HTMLView",
            "description": "",
            "description_tooltip": null,
            "layout": "IPY_MODEL_9ccb086f96d14d8cb3ff852ccb85a2c0",
            "placeholder": "​",
            "style": "IPY_MODEL_5a9304183bb241e5a25b9e161eec7fb6",
            "value": "100%"
          }
        },
        "977d79d65bdf417ab5c9f4cf9109c11a": {
          "model_module": "@jupyter-widgets/base",
          "model_module_version": "1.2.0",
          "model_name": "LayoutModel",
          "state": {
            "_model_module": "@jupyter-widgets/base",
            "_model_module_version": "1.2.0",
            "_model_name": "LayoutModel",
            "_view_count": null,
            "_view_module": "@jupyter-widgets/base",
            "_view_module_version": "1.2.0",
            "_view_name": "LayoutView",
            "align_content": null,
            "align_items": null,
            "align_self": null,
            "border": null,
            "bottom": null,
            "display": null,
            "flex": null,
            "flex_flow": null,
            "grid_area": null,
            "grid_auto_columns": null,
            "grid_auto_flow": null,
            "grid_auto_rows": null,
            "grid_column": null,
            "grid_gap": null,
            "grid_row": null,
            "grid_template_areas": null,
            "grid_template_columns": null,
            "grid_template_rows": null,
            "height": null,
            "justify_content": null,
            "justify_items": null,
            "left": null,
            "margin": null,
            "max_height": null,
            "max_width": null,
            "min_height": null,
            "min_width": null,
            "object_fit": null,
            "object_position": null,
            "order": null,
            "overflow": null,
            "overflow_x": null,
            "overflow_y": null,
            "padding": null,
            "right": null,
            "top": null,
            "visibility": null,
            "width": null
          }
        },
        "9a2cb97d1c79471eafec49d6d7d2bb8a": {
          "model_module": "@jupyter-widgets/controls",
          "model_module_version": "1.5.0",
          "model_name": "FloatProgressModel",
          "state": {
            "_dom_classes": [],
            "_model_module": "@jupyter-widgets/controls",
            "_model_module_version": "1.5.0",
            "_model_name": "FloatProgressModel",
            "_view_count": null,
            "_view_module": "@jupyter-widgets/controls",
            "_view_module_version": "1.5.0",
            "_view_name": "ProgressView",
            "bar_style": "success",
            "description": "",
            "description_tooltip": null,
            "layout": "IPY_MODEL_1aff4749703543d6b1231f12f145a587",
            "max": 148,
            "min": 0,
            "orientation": "horizontal",
            "style": "IPY_MODEL_d552c32b06f04a3d8560e8e5784d50f4",
            "value": 148
          }
        },
        "9ac0612b33224b5ebc19e9adc70e205a": {
          "model_module": "@jupyter-widgets/controls",
          "model_module_version": "1.5.0",
          "model_name": "HBoxModel",
          "state": {
            "_dom_classes": [],
            "_model_module": "@jupyter-widgets/controls",
            "_model_module_version": "1.5.0",
            "_model_name": "HBoxModel",
            "_view_count": null,
            "_view_module": "@jupyter-widgets/controls",
            "_view_module_version": "1.5.0",
            "_view_name": "HBoxView",
            "box_style": "",
            "children": [
              "IPY_MODEL_fee5afc3172a4970b4b31569777eb03f",
              "IPY_MODEL_a185697918a1497b90cd894ab417e873",
              "IPY_MODEL_56334eba9d4c4188bd71f9051ec7fcf5"
            ],
            "layout": "IPY_MODEL_d058d602c4da41ddb30f48f80b3feca6"
          }
        },
        "9ccb086f96d14d8cb3ff852ccb85a2c0": {
          "model_module": "@jupyter-widgets/base",
          "model_module_version": "1.2.0",
          "model_name": "LayoutModel",
          "state": {
            "_model_module": "@jupyter-widgets/base",
            "_model_module_version": "1.2.0",
            "_model_name": "LayoutModel",
            "_view_count": null,
            "_view_module": "@jupyter-widgets/base",
            "_view_module_version": "1.2.0",
            "_view_name": "LayoutView",
            "align_content": null,
            "align_items": null,
            "align_self": null,
            "border": null,
            "bottom": null,
            "display": null,
            "flex": null,
            "flex_flow": null,
            "grid_area": null,
            "grid_auto_columns": null,
            "grid_auto_flow": null,
            "grid_auto_rows": null,
            "grid_column": null,
            "grid_gap": null,
            "grid_row": null,
            "grid_template_areas": null,
            "grid_template_columns": null,
            "grid_template_rows": null,
            "height": null,
            "justify_content": null,
            "justify_items": null,
            "left": null,
            "margin": null,
            "max_height": null,
            "max_width": null,
            "min_height": null,
            "min_width": null,
            "object_fit": null,
            "object_position": null,
            "order": null,
            "overflow": null,
            "overflow_x": null,
            "overflow_y": null,
            "padding": null,
            "right": null,
            "top": null,
            "visibility": null,
            "width": null
          }
        },
        "9ce94b03367c4f24a0c4eef5302ba0f3": {
          "model_module": "@jupyter-widgets/base",
          "model_module_version": "1.2.0",
          "model_name": "LayoutModel",
          "state": {
            "_model_module": "@jupyter-widgets/base",
            "_model_module_version": "1.2.0",
            "_model_name": "LayoutModel",
            "_view_count": null,
            "_view_module": "@jupyter-widgets/base",
            "_view_module_version": "1.2.0",
            "_view_name": "LayoutView",
            "align_content": null,
            "align_items": null,
            "align_self": null,
            "border": null,
            "bottom": null,
            "display": null,
            "flex": null,
            "flex_flow": null,
            "grid_area": null,
            "grid_auto_columns": null,
            "grid_auto_flow": null,
            "grid_auto_rows": null,
            "grid_column": null,
            "grid_gap": null,
            "grid_row": null,
            "grid_template_areas": null,
            "grid_template_columns": null,
            "grid_template_rows": null,
            "height": null,
            "justify_content": null,
            "justify_items": null,
            "left": null,
            "margin": null,
            "max_height": null,
            "max_width": null,
            "min_height": null,
            "min_width": null,
            "object_fit": null,
            "object_position": null,
            "order": null,
            "overflow": null,
            "overflow_x": null,
            "overflow_y": null,
            "padding": null,
            "right": null,
            "top": null,
            "visibility": null,
            "width": null
          }
        },
        "9e85f894292a4e67b20f461d0defb617": {
          "model_module": "@jupyter-widgets/base",
          "model_module_version": "1.2.0",
          "model_name": "LayoutModel",
          "state": {
            "_model_module": "@jupyter-widgets/base",
            "_model_module_version": "1.2.0",
            "_model_name": "LayoutModel",
            "_view_count": null,
            "_view_module": "@jupyter-widgets/base",
            "_view_module_version": "1.2.0",
            "_view_name": "LayoutView",
            "align_content": null,
            "align_items": null,
            "align_self": null,
            "border": null,
            "bottom": null,
            "display": null,
            "flex": null,
            "flex_flow": null,
            "grid_area": null,
            "grid_auto_columns": null,
            "grid_auto_flow": null,
            "grid_auto_rows": null,
            "grid_column": null,
            "grid_gap": null,
            "grid_row": null,
            "grid_template_areas": null,
            "grid_template_columns": null,
            "grid_template_rows": null,
            "height": null,
            "justify_content": null,
            "justify_items": null,
            "left": null,
            "margin": null,
            "max_height": null,
            "max_width": null,
            "min_height": null,
            "min_width": null,
            "object_fit": null,
            "object_position": null,
            "order": null,
            "overflow": null,
            "overflow_x": null,
            "overflow_y": null,
            "padding": null,
            "right": null,
            "top": null,
            "visibility": null,
            "width": null
          }
        },
        "9e91437c7458402eb88e8b741d2a8e4a": {
          "model_module": "@jupyter-widgets/base",
          "model_module_version": "1.2.0",
          "model_name": "LayoutModel",
          "state": {
            "_model_module": "@jupyter-widgets/base",
            "_model_module_version": "1.2.0",
            "_model_name": "LayoutModel",
            "_view_count": null,
            "_view_module": "@jupyter-widgets/base",
            "_view_module_version": "1.2.0",
            "_view_name": "LayoutView",
            "align_content": null,
            "align_items": null,
            "align_self": null,
            "border": null,
            "bottom": null,
            "display": null,
            "flex": null,
            "flex_flow": null,
            "grid_area": null,
            "grid_auto_columns": null,
            "grid_auto_flow": null,
            "grid_auto_rows": null,
            "grid_column": null,
            "grid_gap": null,
            "grid_row": null,
            "grid_template_areas": null,
            "grid_template_columns": null,
            "grid_template_rows": null,
            "height": null,
            "justify_content": null,
            "justify_items": null,
            "left": null,
            "margin": null,
            "max_height": null,
            "max_width": null,
            "min_height": null,
            "min_width": null,
            "object_fit": null,
            "object_position": null,
            "order": null,
            "overflow": null,
            "overflow_x": null,
            "overflow_y": null,
            "padding": null,
            "right": null,
            "top": null,
            "visibility": null,
            "width": null
          }
        },
        "a185697918a1497b90cd894ab417e873": {
          "model_module": "@jupyter-widgets/controls",
          "model_module_version": "1.5.0",
          "model_name": "FloatProgressModel",
          "state": {
            "_dom_classes": [],
            "_model_module": "@jupyter-widgets/controls",
            "_model_module_version": "1.5.0",
            "_model_name": "FloatProgressModel",
            "_view_count": null,
            "_view_module": "@jupyter-widgets/controls",
            "_view_module_version": "1.5.0",
            "_view_name": "ProgressView",
            "bar_style": "success",
            "description": "",
            "description_tooltip": null,
            "layout": "IPY_MODEL_977d79d65bdf417ab5c9f4cf9109c11a",
            "max": 79,
            "min": 0,
            "orientation": "horizontal",
            "style": "IPY_MODEL_5395ebf388fb4f928b9c1021ae24f5a2",
            "value": 79
          }
        },
        "a5b88f33924747b7af4645b2d1f0b5a9": {
          "model_module": "@jupyter-widgets/controls",
          "model_module_version": "1.5.0",
          "model_name": "HTMLModel",
          "state": {
            "_dom_classes": [],
            "_model_module": "@jupyter-widgets/controls",
            "_model_module_version": "1.5.0",
            "_model_name": "HTMLModel",
            "_view_count": null,
            "_view_module": "@jupyter-widgets/controls",
            "_view_module_version": "1.5.0",
            "_view_name": "HTMLView",
            "description": "",
            "description_tooltip": null,
            "layout": "IPY_MODEL_3a41336fc27f4e789df0384756f1aa94",
            "placeholder": "​",
            "style": "IPY_MODEL_13f4f4fbd442410285e9e6dfbda451c6",
            "value": " 1000/1000 [00:10&lt;00:00, 124.57it/s]"
          }
        },
        "a682cf57b32d451cbac748e6621a7ee4": {
          "model_module": "@jupyter-widgets/base",
          "model_module_version": "1.2.0",
          "model_name": "LayoutModel",
          "state": {
            "_model_module": "@jupyter-widgets/base",
            "_model_module_version": "1.2.0",
            "_model_name": "LayoutModel",
            "_view_count": null,
            "_view_module": "@jupyter-widgets/base",
            "_view_module_version": "1.2.0",
            "_view_name": "LayoutView",
            "align_content": null,
            "align_items": null,
            "align_self": null,
            "border": null,
            "bottom": null,
            "display": null,
            "flex": null,
            "flex_flow": null,
            "grid_area": null,
            "grid_auto_columns": null,
            "grid_auto_flow": null,
            "grid_auto_rows": null,
            "grid_column": null,
            "grid_gap": null,
            "grid_row": null,
            "grid_template_areas": null,
            "grid_template_columns": null,
            "grid_template_rows": null,
            "height": null,
            "justify_content": null,
            "justify_items": null,
            "left": null,
            "margin": null,
            "max_height": null,
            "max_width": null,
            "min_height": null,
            "min_width": null,
            "object_fit": null,
            "object_position": null,
            "order": null,
            "overflow": null,
            "overflow_x": null,
            "overflow_y": null,
            "padding": null,
            "right": null,
            "top": null,
            "visibility": null,
            "width": null
          }
        },
        "ab47e313abb74e9e9149007add6887bc": {
          "model_module": "@jupyter-widgets/controls",
          "model_module_version": "1.5.0",
          "model_name": "HTMLModel",
          "state": {
            "_dom_classes": [],
            "_model_module": "@jupyter-widgets/controls",
            "_model_module_version": "1.5.0",
            "_model_name": "HTMLModel",
            "_view_count": null,
            "_view_module": "@jupyter-widgets/controls",
            "_view_module_version": "1.5.0",
            "_view_name": "HTMLView",
            "description": "",
            "description_tooltip": null,
            "layout": "IPY_MODEL_f5caacfc1aac46a98b230791006a2a94",
            "placeholder": "​",
            "style": "IPY_MODEL_1a17fce9b0f04a01904a49853a024b72",
            "value": "100%"
          }
        },
        "ad8769e09df34b6db25078db39d817c5": {
          "model_module": "@jupyter-widgets/controls",
          "model_module_version": "1.5.0",
          "model_name": "HTMLModel",
          "state": {
            "_dom_classes": [],
            "_model_module": "@jupyter-widgets/controls",
            "_model_module_version": "1.5.0",
            "_model_name": "HTMLModel",
            "_view_count": null,
            "_view_module": "@jupyter-widgets/controls",
            "_view_module_version": "1.5.0",
            "_view_name": "HTMLView",
            "description": "",
            "description_tooltip": null,
            "layout": "IPY_MODEL_c7907d21100148d9af29fcb43aada4de",
            "placeholder": "​",
            "style": "IPY_MODEL_d870464ed8064b0b92fd8fa069bfd730",
            "value": "Epoch: 100%"
          }
        },
        "ae91cc6547bd4bca8363dc9794b82604": {
          "model_module": "@jupyter-widgets/base",
          "model_module_version": "1.2.0",
          "model_name": "LayoutModel",
          "state": {
            "_model_module": "@jupyter-widgets/base",
            "_model_module_version": "1.2.0",
            "_model_name": "LayoutModel",
            "_view_count": null,
            "_view_module": "@jupyter-widgets/base",
            "_view_module_version": "1.2.0",
            "_view_name": "LayoutView",
            "align_content": null,
            "align_items": null,
            "align_self": null,
            "border": null,
            "bottom": null,
            "display": null,
            "flex": null,
            "flex_flow": null,
            "grid_area": null,
            "grid_auto_columns": null,
            "grid_auto_flow": null,
            "grid_auto_rows": null,
            "grid_column": null,
            "grid_gap": null,
            "grid_row": null,
            "grid_template_areas": null,
            "grid_template_columns": null,
            "grid_template_rows": null,
            "height": null,
            "justify_content": null,
            "justify_items": null,
            "left": null,
            "margin": null,
            "max_height": null,
            "max_width": null,
            "min_height": null,
            "min_width": null,
            "object_fit": null,
            "object_position": null,
            "order": null,
            "overflow": null,
            "overflow_x": null,
            "overflow_y": null,
            "padding": null,
            "right": null,
            "top": null,
            "visibility": null,
            "width": null
          }
        },
        "aea199156afb4ef7bbff01f2261a3fe5": {
          "model_module": "@jupyter-widgets/controls",
          "model_module_version": "1.5.0",
          "model_name": "FloatProgressModel",
          "state": {
            "_dom_classes": [],
            "_model_module": "@jupyter-widgets/controls",
            "_model_module_version": "1.5.0",
            "_model_name": "FloatProgressModel",
            "_view_count": null,
            "_view_module": "@jupyter-widgets/controls",
            "_view_module_version": "1.5.0",
            "_view_name": "ProgressView",
            "bar_style": "success",
            "description": "",
            "description_tooltip": null,
            "layout": "IPY_MODEL_eee1be1df27743eea60d944ccb2bcbec",
            "max": 1000,
            "min": 0,
            "orientation": "horizontal",
            "style": "IPY_MODEL_7b8067d65fbb4f37a73341e7d19425c5",
            "value": 1000
          }
        },
        "b0b985d3dc654be0ac7fee094bf0b562": {
          "model_module": "@jupyter-widgets/base",
          "model_module_version": "1.2.0",
          "model_name": "LayoutModel",
          "state": {
            "_model_module": "@jupyter-widgets/base",
            "_model_module_version": "1.2.0",
            "_model_name": "LayoutModel",
            "_view_count": null,
            "_view_module": "@jupyter-widgets/base",
            "_view_module_version": "1.2.0",
            "_view_name": "LayoutView",
            "align_content": null,
            "align_items": null,
            "align_self": null,
            "border": null,
            "bottom": null,
            "display": null,
            "flex": null,
            "flex_flow": null,
            "grid_area": null,
            "grid_auto_columns": null,
            "grid_auto_flow": null,
            "grid_auto_rows": null,
            "grid_column": null,
            "grid_gap": null,
            "grid_row": null,
            "grid_template_areas": null,
            "grid_template_columns": null,
            "grid_template_rows": null,
            "height": null,
            "justify_content": null,
            "justify_items": null,
            "left": null,
            "margin": null,
            "max_height": null,
            "max_width": null,
            "min_height": null,
            "min_width": null,
            "object_fit": null,
            "object_position": null,
            "order": null,
            "overflow": null,
            "overflow_x": null,
            "overflow_y": null,
            "padding": null,
            "right": null,
            "top": null,
            "visibility": null,
            "width": null
          }
        },
        "b276750b3af34dac81842fe32971c3da": {
          "model_module": "@jupyter-widgets/base",
          "model_module_version": "1.2.0",
          "model_name": "LayoutModel",
          "state": {
            "_model_module": "@jupyter-widgets/base",
            "_model_module_version": "1.2.0",
            "_model_name": "LayoutModel",
            "_view_count": null,
            "_view_module": "@jupyter-widgets/base",
            "_view_module_version": "1.2.0",
            "_view_name": "LayoutView",
            "align_content": null,
            "align_items": null,
            "align_self": null,
            "border": null,
            "bottom": null,
            "display": null,
            "flex": null,
            "flex_flow": null,
            "grid_area": null,
            "grid_auto_columns": null,
            "grid_auto_flow": null,
            "grid_auto_rows": null,
            "grid_column": null,
            "grid_gap": null,
            "grid_row": null,
            "grid_template_areas": null,
            "grid_template_columns": null,
            "grid_template_rows": null,
            "height": null,
            "justify_content": null,
            "justify_items": null,
            "left": null,
            "margin": null,
            "max_height": null,
            "max_width": null,
            "min_height": null,
            "min_width": null,
            "object_fit": null,
            "object_position": null,
            "order": null,
            "overflow": null,
            "overflow_x": null,
            "overflow_y": null,
            "padding": null,
            "right": null,
            "top": null,
            "visibility": null,
            "width": null
          }
        },
        "b2ade3ca426f447a817eb4133fe72f11": {
          "model_module": "@jupyter-widgets/controls",
          "model_module_version": "1.5.0",
          "model_name": "HTMLModel",
          "state": {
            "_dom_classes": [],
            "_model_module": "@jupyter-widgets/controls",
            "_model_module_version": "1.5.0",
            "_model_name": "HTMLModel",
            "_view_count": null,
            "_view_module": "@jupyter-widgets/controls",
            "_view_module_version": "1.5.0",
            "_view_name": "HTMLView",
            "description": "",
            "description_tooltip": null,
            "layout": "IPY_MODEL_b276750b3af34dac81842fe32971c3da",
            "placeholder": "​",
            "style": "IPY_MODEL_733338126b5848d99ce03e7719edc755",
            "value": "Batches: 100%"
          }
        },
        "b2efa5f72911499c877ba516a0e34738": {
          "model_module": "@jupyter-widgets/base",
          "model_module_version": "1.2.0",
          "model_name": "LayoutModel",
          "state": {
            "_model_module": "@jupyter-widgets/base",
            "_model_module_version": "1.2.0",
            "_model_name": "LayoutModel",
            "_view_count": null,
            "_view_module": "@jupyter-widgets/base",
            "_view_module_version": "1.2.0",
            "_view_name": "LayoutView",
            "align_content": null,
            "align_items": null,
            "align_self": null,
            "border": null,
            "bottom": null,
            "display": null,
            "flex": null,
            "flex_flow": null,
            "grid_area": null,
            "grid_auto_columns": null,
            "grid_auto_flow": null,
            "grid_auto_rows": null,
            "grid_column": null,
            "grid_gap": null,
            "grid_row": null,
            "grid_template_areas": null,
            "grid_template_columns": null,
            "grid_template_rows": null,
            "height": null,
            "justify_content": null,
            "justify_items": null,
            "left": null,
            "margin": null,
            "max_height": null,
            "max_width": null,
            "min_height": null,
            "min_width": null,
            "object_fit": null,
            "object_position": null,
            "order": null,
            "overflow": null,
            "overflow_x": null,
            "overflow_y": null,
            "padding": null,
            "right": null,
            "top": null,
            "visibility": null,
            "width": null
          }
        },
        "bc4f56e6e84a42d18c91553c52648106": {
          "model_module": "@jupyter-widgets/controls",
          "model_module_version": "1.5.0",
          "model_name": "HTMLModel",
          "state": {
            "_dom_classes": [],
            "_model_module": "@jupyter-widgets/controls",
            "_model_module_version": "1.5.0",
            "_model_name": "HTMLModel",
            "_view_count": null,
            "_view_module": "@jupyter-widgets/controls",
            "_view_module_version": "1.5.0",
            "_view_name": "HTMLView",
            "description": "",
            "description_tooltip": null,
            "layout": "IPY_MODEL_5cacbfdab5b449e0b58f9c8892c2b2b1",
            "placeholder": "​",
            "style": "IPY_MODEL_85a8870b71224536b6f15f63196c2981",
            "value": " 79/79 [01:49&lt;00:00,  2.08it/s]"
          }
        },
        "c00449c1bd6845e6ad10e510e9712111": {
          "model_module": "@jupyter-widgets/controls",
          "model_module_version": "1.5.0",
          "model_name": "DescriptionStyleModel",
          "state": {
            "_model_module": "@jupyter-widgets/controls",
            "_model_module_version": "1.5.0",
            "_model_name": "DescriptionStyleModel",
            "_view_count": null,
            "_view_module": "@jupyter-widgets/base",
            "_view_module_version": "1.2.0",
            "_view_name": "StyleView",
            "description_width": ""
          }
        },
        "c02c101b23bd46ae898ad985679a6dbe": {
          "model_module": "@jupyter-widgets/base",
          "model_module_version": "1.2.0",
          "model_name": "LayoutModel",
          "state": {
            "_model_module": "@jupyter-widgets/base",
            "_model_module_version": "1.2.0",
            "_model_name": "LayoutModel",
            "_view_count": null,
            "_view_module": "@jupyter-widgets/base",
            "_view_module_version": "1.2.0",
            "_view_name": "LayoutView",
            "align_content": null,
            "align_items": null,
            "align_self": null,
            "border": null,
            "bottom": null,
            "display": null,
            "flex": null,
            "flex_flow": null,
            "grid_area": null,
            "grid_auto_columns": null,
            "grid_auto_flow": null,
            "grid_auto_rows": null,
            "grid_column": null,
            "grid_gap": null,
            "grid_row": null,
            "grid_template_areas": null,
            "grid_template_columns": null,
            "grid_template_rows": null,
            "height": null,
            "justify_content": null,
            "justify_items": null,
            "left": null,
            "margin": null,
            "max_height": null,
            "max_width": null,
            "min_height": null,
            "min_width": null,
            "object_fit": null,
            "object_position": null,
            "order": null,
            "overflow": null,
            "overflow_x": null,
            "overflow_y": null,
            "padding": null,
            "right": null,
            "top": null,
            "visibility": null,
            "width": null
          }
        },
        "c0af75b0d95f433bb83c3baeb1e4c168": {
          "model_module": "@jupyter-widgets/controls",
          "model_module_version": "1.5.0",
          "model_name": "HTMLModel",
          "state": {
            "_dom_classes": [],
            "_model_module": "@jupyter-widgets/controls",
            "_model_module_version": "1.5.0",
            "_model_name": "HTMLModel",
            "_view_count": null,
            "_view_module": "@jupyter-widgets/controls",
            "_view_module_version": "1.5.0",
            "_view_name": "HTMLView",
            "description": "",
            "description_tooltip": null,
            "layout": "IPY_MODEL_f839759dc1bb4ebab3ee0297ca0d0053",
            "placeholder": "​",
            "style": "IPY_MODEL_525f2e79dcd84743863333da60ac258d",
            "value": "Batches: 100%"
          }
        },
        "c20348b1b57b4c1cbf50bca538127d8f": {
          "model_module": "@jupyter-widgets/controls",
          "model_module_version": "1.5.0",
          "model_name": "FloatProgressModel",
          "state": {
            "_dom_classes": [],
            "_model_module": "@jupyter-widgets/controls",
            "_model_module_version": "1.5.0",
            "_model_name": "FloatProgressModel",
            "_view_count": null,
            "_view_module": "@jupyter-widgets/controls",
            "_view_module_version": "1.5.0",
            "_view_name": "ProgressView",
            "bar_style": "success",
            "description": "",
            "description_tooltip": null,
            "layout": "IPY_MODEL_c6347956f1a24b98bd0eff5a4e1d9321",
            "max": 10,
            "min": 0,
            "orientation": "horizontal",
            "style": "IPY_MODEL_fb96478b128d4b0690a0f8e3ebe06a88",
            "value": 10
          }
        },
        "c3121f598e08449781b77c2b20d267dd": {
          "model_module": "@jupyter-widgets/controls",
          "model_module_version": "1.5.0",
          "model_name": "HTMLModel",
          "state": {
            "_dom_classes": [],
            "_model_module": "@jupyter-widgets/controls",
            "_model_module_version": "1.5.0",
            "_model_name": "HTMLModel",
            "_view_count": null,
            "_view_module": "@jupyter-widgets/controls",
            "_view_module_version": "1.5.0",
            "_view_name": "HTMLView",
            "description": "",
            "description_tooltip": null,
            "layout": "IPY_MODEL_094c5107fa904e54950d3b7f24926d41",
            "placeholder": "​",
            "style": "IPY_MODEL_c00449c1bd6845e6ad10e510e9712111",
            "value": " 10/10 [00:02&lt;00:00,  4.76it/s]"
          }
        },
        "c37a67d4a5974a67b2b12096f9416f4f": {
          "model_module": "@jupyter-widgets/controls",
          "model_module_version": "1.5.0",
          "model_name": "HTMLModel",
          "state": {
            "_dom_classes": [],
            "_model_module": "@jupyter-widgets/controls",
            "_model_module_version": "1.5.0",
            "_model_name": "HTMLModel",
            "_view_count": null,
            "_view_module": "@jupyter-widgets/controls",
            "_view_module_version": "1.5.0",
            "_view_name": "HTMLView",
            "description": "",
            "description_tooltip": null,
            "layout": "IPY_MODEL_c5bdf3bdb4094af4997a974a4d0cd582",
            "placeholder": "​",
            "style": "IPY_MODEL_6eb0139cb4be4825a5e1ec87512c6fea",
            "value": " 4840/4840 [01:02&lt;00:00, 351.64it/s]"
          }
        },
        "c5bdf3bdb4094af4997a974a4d0cd582": {
          "model_module": "@jupyter-widgets/base",
          "model_module_version": "1.2.0",
          "model_name": "LayoutModel",
          "state": {
            "_model_module": "@jupyter-widgets/base",
            "_model_module_version": "1.2.0",
            "_model_name": "LayoutModel",
            "_view_count": null,
            "_view_module": "@jupyter-widgets/base",
            "_view_module_version": "1.2.0",
            "_view_name": "LayoutView",
            "align_content": null,
            "align_items": null,
            "align_self": null,
            "border": null,
            "bottom": null,
            "display": null,
            "flex": null,
            "flex_flow": null,
            "grid_area": null,
            "grid_auto_columns": null,
            "grid_auto_flow": null,
            "grid_auto_rows": null,
            "grid_column": null,
            "grid_gap": null,
            "grid_row": null,
            "grid_template_areas": null,
            "grid_template_columns": null,
            "grid_template_rows": null,
            "height": null,
            "justify_content": null,
            "justify_items": null,
            "left": null,
            "margin": null,
            "max_height": null,
            "max_width": null,
            "min_height": null,
            "min_width": null,
            "object_fit": null,
            "object_position": null,
            "order": null,
            "overflow": null,
            "overflow_x": null,
            "overflow_y": null,
            "padding": null,
            "right": null,
            "top": null,
            "visibility": null,
            "width": null
          }
        },
        "c6347956f1a24b98bd0eff5a4e1d9321": {
          "model_module": "@jupyter-widgets/base",
          "model_module_version": "1.2.0",
          "model_name": "LayoutModel",
          "state": {
            "_model_module": "@jupyter-widgets/base",
            "_model_module_version": "1.2.0",
            "_model_name": "LayoutModel",
            "_view_count": null,
            "_view_module": "@jupyter-widgets/base",
            "_view_module_version": "1.2.0",
            "_view_name": "LayoutView",
            "align_content": null,
            "align_items": null,
            "align_self": null,
            "border": null,
            "bottom": null,
            "display": null,
            "flex": null,
            "flex_flow": null,
            "grid_area": null,
            "grid_auto_columns": null,
            "grid_auto_flow": null,
            "grid_auto_rows": null,
            "grid_column": null,
            "grid_gap": null,
            "grid_row": null,
            "grid_template_areas": null,
            "grid_template_columns": null,
            "grid_template_rows": null,
            "height": null,
            "justify_content": null,
            "justify_items": null,
            "left": null,
            "margin": null,
            "max_height": null,
            "max_width": null,
            "min_height": null,
            "min_width": null,
            "object_fit": null,
            "object_position": null,
            "order": null,
            "overflow": null,
            "overflow_x": null,
            "overflow_y": null,
            "padding": null,
            "right": null,
            "top": null,
            "visibility": null,
            "width": null
          }
        },
        "c7907d21100148d9af29fcb43aada4de": {
          "model_module": "@jupyter-widgets/base",
          "model_module_version": "1.2.0",
          "model_name": "LayoutModel",
          "state": {
            "_model_module": "@jupyter-widgets/base",
            "_model_module_version": "1.2.0",
            "_model_name": "LayoutModel",
            "_view_count": null,
            "_view_module": "@jupyter-widgets/base",
            "_view_module_version": "1.2.0",
            "_view_name": "LayoutView",
            "align_content": null,
            "align_items": null,
            "align_self": null,
            "border": null,
            "bottom": null,
            "display": null,
            "flex": null,
            "flex_flow": null,
            "grid_area": null,
            "grid_auto_columns": null,
            "grid_auto_flow": null,
            "grid_auto_rows": null,
            "grid_column": null,
            "grid_gap": null,
            "grid_row": null,
            "grid_template_areas": null,
            "grid_template_columns": null,
            "grid_template_rows": null,
            "height": null,
            "justify_content": null,
            "justify_items": null,
            "left": null,
            "margin": null,
            "max_height": null,
            "max_width": null,
            "min_height": null,
            "min_width": null,
            "object_fit": null,
            "object_position": null,
            "order": null,
            "overflow": null,
            "overflow_x": null,
            "overflow_y": null,
            "padding": null,
            "right": null,
            "top": null,
            "visibility": null,
            "width": null
          }
        },
        "c8bf8f1c36fd4d92ac6518f4e64c6acd": {
          "model_module": "@jupyter-widgets/controls",
          "model_module_version": "1.5.0",
          "model_name": "HTMLModel",
          "state": {
            "_dom_classes": [],
            "_model_module": "@jupyter-widgets/controls",
            "_model_module_version": "1.5.0",
            "_model_name": "HTMLModel",
            "_view_count": null,
            "_view_module": "@jupyter-widgets/controls",
            "_view_module_version": "1.5.0",
            "_view_name": "HTMLView",
            "description": "",
            "description_tooltip": null,
            "layout": "IPY_MODEL_7b2d605756304169992cbad5f03ef5ae",
            "placeholder": "​",
            "style": "IPY_MODEL_edb0c03a05b641998450817008069389",
            "value": " 1/1 [00:26&lt;00:00, 26.51s/it]"
          }
        },
        "c9e4cc17d24041b496b7e8c190139a31": {
          "model_module": "@jupyter-widgets/base",
          "model_module_version": "1.2.0",
          "model_name": "LayoutModel",
          "state": {
            "_model_module": "@jupyter-widgets/base",
            "_model_module_version": "1.2.0",
            "_model_name": "LayoutModel",
            "_view_count": null,
            "_view_module": "@jupyter-widgets/base",
            "_view_module_version": "1.2.0",
            "_view_name": "LayoutView",
            "align_content": null,
            "align_items": null,
            "align_self": null,
            "border": null,
            "bottom": null,
            "display": null,
            "flex": null,
            "flex_flow": null,
            "grid_area": null,
            "grid_auto_columns": null,
            "grid_auto_flow": null,
            "grid_auto_rows": null,
            "grid_column": null,
            "grid_gap": null,
            "grid_row": null,
            "grid_template_areas": null,
            "grid_template_columns": null,
            "grid_template_rows": null,
            "height": null,
            "justify_content": null,
            "justify_items": null,
            "left": null,
            "margin": null,
            "max_height": null,
            "max_width": null,
            "min_height": null,
            "min_width": null,
            "object_fit": null,
            "object_position": null,
            "order": null,
            "overflow": null,
            "overflow_x": null,
            "overflow_y": null,
            "padding": null,
            "right": null,
            "top": null,
            "visibility": null,
            "width": null
          }
        },
        "cc91911ea3c54f1899bcd668fef73fc2": {
          "model_module": "@jupyter-widgets/controls",
          "model_module_version": "1.5.0",
          "model_name": "DescriptionStyleModel",
          "state": {
            "_model_module": "@jupyter-widgets/controls",
            "_model_module_version": "1.5.0",
            "_model_name": "DescriptionStyleModel",
            "_view_count": null,
            "_view_module": "@jupyter-widgets/base",
            "_view_module_version": "1.2.0",
            "_view_name": "StyleView",
            "description_width": ""
          }
        },
        "d058d602c4da41ddb30f48f80b3feca6": {
          "model_module": "@jupyter-widgets/base",
          "model_module_version": "1.2.0",
          "model_name": "LayoutModel",
          "state": {
            "_model_module": "@jupyter-widgets/base",
            "_model_module_version": "1.2.0",
            "_model_name": "LayoutModel",
            "_view_count": null,
            "_view_module": "@jupyter-widgets/base",
            "_view_module_version": "1.2.0",
            "_view_name": "LayoutView",
            "align_content": null,
            "align_items": null,
            "align_self": null,
            "border": null,
            "bottom": null,
            "display": null,
            "flex": null,
            "flex_flow": null,
            "grid_area": null,
            "grid_auto_columns": null,
            "grid_auto_flow": null,
            "grid_auto_rows": null,
            "grid_column": null,
            "grid_gap": null,
            "grid_row": null,
            "grid_template_areas": null,
            "grid_template_columns": null,
            "grid_template_rows": null,
            "height": null,
            "justify_content": null,
            "justify_items": null,
            "left": null,
            "margin": null,
            "max_height": null,
            "max_width": null,
            "min_height": null,
            "min_width": null,
            "object_fit": null,
            "object_position": null,
            "order": null,
            "overflow": null,
            "overflow_x": null,
            "overflow_y": null,
            "padding": null,
            "right": null,
            "top": null,
            "visibility": null,
            "width": null
          }
        },
        "d377b1ca9f274751b2722e8709c1f089": {
          "model_module": "@jupyter-widgets/base",
          "model_module_version": "1.2.0",
          "model_name": "LayoutModel",
          "state": {
            "_model_module": "@jupyter-widgets/base",
            "_model_module_version": "1.2.0",
            "_model_name": "LayoutModel",
            "_view_count": null,
            "_view_module": "@jupyter-widgets/base",
            "_view_module_version": "1.2.0",
            "_view_name": "LayoutView",
            "align_content": null,
            "align_items": null,
            "align_self": null,
            "border": null,
            "bottom": null,
            "display": null,
            "flex": null,
            "flex_flow": null,
            "grid_area": null,
            "grid_auto_columns": null,
            "grid_auto_flow": null,
            "grid_auto_rows": null,
            "grid_column": null,
            "grid_gap": null,
            "grid_row": null,
            "grid_template_areas": null,
            "grid_template_columns": null,
            "grid_template_rows": null,
            "height": null,
            "justify_content": null,
            "justify_items": null,
            "left": null,
            "margin": null,
            "max_height": null,
            "max_width": null,
            "min_height": null,
            "min_width": null,
            "object_fit": null,
            "object_position": null,
            "order": null,
            "overflow": null,
            "overflow_x": null,
            "overflow_y": null,
            "padding": null,
            "right": null,
            "top": null,
            "visibility": null,
            "width": null
          }
        },
        "d550a5429e7341608069a1fbdf92794a": {
          "model_module": "@jupyter-widgets/controls",
          "model_module_version": "1.5.0",
          "model_name": "HBoxModel",
          "state": {
            "_dom_classes": [],
            "_model_module": "@jupyter-widgets/controls",
            "_model_module_version": "1.5.0",
            "_model_name": "HBoxModel",
            "_view_count": null,
            "_view_module": "@jupyter-widgets/controls",
            "_view_module_version": "1.5.0",
            "_view_name": "HBoxView",
            "box_style": "",
            "children": [
              "IPY_MODEL_64961d7224c948d6af592939651ead86",
              "IPY_MODEL_aea199156afb4ef7bbff01f2261a3fe5",
              "IPY_MODEL_a5b88f33924747b7af4645b2d1f0b5a9"
            ],
            "layout": "IPY_MODEL_92cc1c72147c43a88989d4421421b4a7"
          }
        },
        "d552c32b06f04a3d8560e8e5784d50f4": {
          "model_module": "@jupyter-widgets/controls",
          "model_module_version": "1.5.0",
          "model_name": "ProgressStyleModel",
          "state": {
            "_model_module": "@jupyter-widgets/controls",
            "_model_module_version": "1.5.0",
            "_model_name": "ProgressStyleModel",
            "_view_count": null,
            "_view_module": "@jupyter-widgets/base",
            "_view_module_version": "1.2.0",
            "_view_name": "StyleView",
            "bar_color": null,
            "description_width": ""
          }
        },
        "d870464ed8064b0b92fd8fa069bfd730": {
          "model_module": "@jupyter-widgets/controls",
          "model_module_version": "1.5.0",
          "model_name": "DescriptionStyleModel",
          "state": {
            "_model_module": "@jupyter-widgets/controls",
            "_model_module_version": "1.5.0",
            "_model_name": "DescriptionStyleModel",
            "_view_count": null,
            "_view_module": "@jupyter-widgets/base",
            "_view_module_version": "1.2.0",
            "_view_name": "StyleView",
            "description_width": ""
          }
        },
        "d90c18f2c75b4d5db672c897f9b0e2ff": {
          "model_module": "@jupyter-widgets/controls",
          "model_module_version": "1.5.0",
          "model_name": "ProgressStyleModel",
          "state": {
            "_model_module": "@jupyter-widgets/controls",
            "_model_module_version": "1.5.0",
            "_model_name": "ProgressStyleModel",
            "_view_count": null,
            "_view_module": "@jupyter-widgets/base",
            "_view_module_version": "1.2.0",
            "_view_name": "StyleView",
            "bar_color": null,
            "description_width": ""
          }
        },
        "ddfdd6f3f3994f9c835c4d145e634c06": {
          "model_module": "@jupyter-widgets/controls",
          "model_module_version": "1.5.0",
          "model_name": "DescriptionStyleModel",
          "state": {
            "_model_module": "@jupyter-widgets/controls",
            "_model_module_version": "1.5.0",
            "_model_name": "DescriptionStyleModel",
            "_view_count": null,
            "_view_module": "@jupyter-widgets/base",
            "_view_module_version": "1.2.0",
            "_view_name": "StyleView",
            "description_width": ""
          }
        },
        "de61ceae2fe34b18880c86785a17ede8": {
          "model_module": "@jupyter-widgets/controls",
          "model_module_version": "1.5.0",
          "model_name": "DescriptionStyleModel",
          "state": {
            "_model_module": "@jupyter-widgets/controls",
            "_model_module_version": "1.5.0",
            "_model_name": "DescriptionStyleModel",
            "_view_count": null,
            "_view_module": "@jupyter-widgets/base",
            "_view_module_version": "1.2.0",
            "_view_name": "StyleView",
            "description_width": ""
          }
        },
        "decb1aff926e4ba9be8a7d3cb745dc0d": {
          "model_module": "@jupyter-widgets/base",
          "model_module_version": "1.2.0",
          "model_name": "LayoutModel",
          "state": {
            "_model_module": "@jupyter-widgets/base",
            "_model_module_version": "1.2.0",
            "_model_name": "LayoutModel",
            "_view_count": null,
            "_view_module": "@jupyter-widgets/base",
            "_view_module_version": "1.2.0",
            "_view_name": "LayoutView",
            "align_content": null,
            "align_items": null,
            "align_self": null,
            "border": null,
            "bottom": null,
            "display": null,
            "flex": null,
            "flex_flow": null,
            "grid_area": null,
            "grid_auto_columns": null,
            "grid_auto_flow": null,
            "grid_auto_rows": null,
            "grid_column": null,
            "grid_gap": null,
            "grid_row": null,
            "grid_template_areas": null,
            "grid_template_columns": null,
            "grid_template_rows": null,
            "height": null,
            "justify_content": null,
            "justify_items": null,
            "left": null,
            "margin": null,
            "max_height": null,
            "max_width": null,
            "min_height": null,
            "min_width": null,
            "object_fit": null,
            "object_position": null,
            "order": null,
            "overflow": null,
            "overflow_x": null,
            "overflow_y": null,
            "padding": null,
            "right": null,
            "top": null,
            "visibility": null,
            "width": null
          }
        },
        "e098b86324004e1d91b60d72f345b95c": {
          "model_module": "@jupyter-widgets/controls",
          "model_module_version": "1.5.0",
          "model_name": "FloatProgressModel",
          "state": {
            "_dom_classes": [],
            "_model_module": "@jupyter-widgets/controls",
            "_model_module_version": "1.5.0",
            "_model_name": "FloatProgressModel",
            "_view_count": null,
            "_view_module": "@jupyter-widgets/controls",
            "_view_module_version": "1.5.0",
            "_view_name": "ProgressView",
            "bar_style": "success",
            "description": "",
            "description_tooltip": null,
            "layout": "IPY_MODEL_9e91437c7458402eb88e8b741d2a8e4a",
            "max": 34549,
            "min": 0,
            "orientation": "horizontal",
            "style": "IPY_MODEL_0deec70d107f4106b99ec4eebd600a67",
            "value": 34549
          }
        },
        "e695d29a840c44aeabef68c005cc0d65": {
          "model_module": "@jupyter-widgets/controls",
          "model_module_version": "1.5.0",
          "model_name": "DescriptionStyleModel",
          "state": {
            "_model_module": "@jupyter-widgets/controls",
            "_model_module_version": "1.5.0",
            "_model_name": "DescriptionStyleModel",
            "_view_count": null,
            "_view_module": "@jupyter-widgets/base",
            "_view_module_version": "1.2.0",
            "_view_name": "StyleView",
            "description_width": ""
          }
        },
        "e8635e08db2344d9b2fac824330d5d46": {
          "model_module": "@jupyter-widgets/controls",
          "model_module_version": "1.5.0",
          "model_name": "HBoxModel",
          "state": {
            "_dom_classes": [],
            "_model_module": "@jupyter-widgets/controls",
            "_model_module_version": "1.5.0",
            "_model_name": "HBoxModel",
            "_view_count": null,
            "_view_module": "@jupyter-widgets/controls",
            "_view_module_version": "1.5.0",
            "_view_name": "HBoxView",
            "box_style": "",
            "children": [
              "IPY_MODEL_b2ade3ca426f447a817eb4133fe72f11",
              "IPY_MODEL_0febda31832e4e0890c278650b1f6cca",
              "IPY_MODEL_1bfe65b2d6d54a5c99f9c10be6087625"
            ],
            "layout": "IPY_MODEL_5ce983de065d4eb7a2bb727ce510a8b8"
          }
        },
        "e8db6dc199ab4be9a0915bf4f4dd240d": {
          "model_module": "@jupyter-widgets/base",
          "model_module_version": "1.2.0",
          "model_name": "LayoutModel",
          "state": {
            "_model_module": "@jupyter-widgets/base",
            "_model_module_version": "1.2.0",
            "_model_name": "LayoutModel",
            "_view_count": null,
            "_view_module": "@jupyter-widgets/base",
            "_view_module_version": "1.2.0",
            "_view_name": "LayoutView",
            "align_content": null,
            "align_items": null,
            "align_self": null,
            "border": null,
            "bottom": null,
            "display": null,
            "flex": null,
            "flex_flow": null,
            "grid_area": null,
            "grid_auto_columns": null,
            "grid_auto_flow": null,
            "grid_auto_rows": null,
            "grid_column": null,
            "grid_gap": null,
            "grid_row": null,
            "grid_template_areas": null,
            "grid_template_columns": null,
            "grid_template_rows": null,
            "height": null,
            "justify_content": null,
            "justify_items": null,
            "left": null,
            "margin": null,
            "max_height": null,
            "max_width": null,
            "min_height": null,
            "min_width": null,
            "object_fit": null,
            "object_position": null,
            "order": null,
            "overflow": null,
            "overflow_x": null,
            "overflow_y": null,
            "padding": null,
            "right": null,
            "top": null,
            "visibility": null,
            "width": null
          }
        },
        "eb05e04029174758933ff38fec7536a1": {
          "model_module": "@jupyter-widgets/controls",
          "model_module_version": "1.5.0",
          "model_name": "DescriptionStyleModel",
          "state": {
            "_model_module": "@jupyter-widgets/controls",
            "_model_module_version": "1.5.0",
            "_model_name": "DescriptionStyleModel",
            "_view_count": null,
            "_view_module": "@jupyter-widgets/base",
            "_view_module_version": "1.2.0",
            "_view_name": "StyleView",
            "description_width": ""
          }
        },
        "edb0c03a05b641998450817008069389": {
          "model_module": "@jupyter-widgets/controls",
          "model_module_version": "1.5.0",
          "model_name": "DescriptionStyleModel",
          "state": {
            "_model_module": "@jupyter-widgets/controls",
            "_model_module_version": "1.5.0",
            "_model_name": "DescriptionStyleModel",
            "_view_count": null,
            "_view_module": "@jupyter-widgets/base",
            "_view_module_version": "1.2.0",
            "_view_name": "StyleView",
            "description_width": ""
          }
        },
        "eee1be1df27743eea60d944ccb2bcbec": {
          "model_module": "@jupyter-widgets/base",
          "model_module_version": "1.2.0",
          "model_name": "LayoutModel",
          "state": {
            "_model_module": "@jupyter-widgets/base",
            "_model_module_version": "1.2.0",
            "_model_name": "LayoutModel",
            "_view_count": null,
            "_view_module": "@jupyter-widgets/base",
            "_view_module_version": "1.2.0",
            "_view_name": "LayoutView",
            "align_content": null,
            "align_items": null,
            "align_self": null,
            "border": null,
            "bottom": null,
            "display": null,
            "flex": null,
            "flex_flow": null,
            "grid_area": null,
            "grid_auto_columns": null,
            "grid_auto_flow": null,
            "grid_auto_rows": null,
            "grid_column": null,
            "grid_gap": null,
            "grid_row": null,
            "grid_template_areas": null,
            "grid_template_columns": null,
            "grid_template_rows": null,
            "height": null,
            "justify_content": null,
            "justify_items": null,
            "left": null,
            "margin": null,
            "max_height": null,
            "max_width": null,
            "min_height": null,
            "min_width": null,
            "object_fit": null,
            "object_position": null,
            "order": null,
            "overflow": null,
            "overflow_x": null,
            "overflow_y": null,
            "padding": null,
            "right": null,
            "top": null,
            "visibility": null,
            "width": null
          }
        },
        "f5caacfc1aac46a98b230791006a2a94": {
          "model_module": "@jupyter-widgets/base",
          "model_module_version": "1.2.0",
          "model_name": "LayoutModel",
          "state": {
            "_model_module": "@jupyter-widgets/base",
            "_model_module_version": "1.2.0",
            "_model_name": "LayoutModel",
            "_view_count": null,
            "_view_module": "@jupyter-widgets/base",
            "_view_module_version": "1.2.0",
            "_view_name": "LayoutView",
            "align_content": null,
            "align_items": null,
            "align_self": null,
            "border": null,
            "bottom": null,
            "display": null,
            "flex": null,
            "flex_flow": null,
            "grid_area": null,
            "grid_auto_columns": null,
            "grid_auto_flow": null,
            "grid_auto_rows": null,
            "grid_column": null,
            "grid_gap": null,
            "grid_row": null,
            "grid_template_areas": null,
            "grid_template_columns": null,
            "grid_template_rows": null,
            "height": null,
            "justify_content": null,
            "justify_items": null,
            "left": null,
            "margin": null,
            "max_height": null,
            "max_width": null,
            "min_height": null,
            "min_width": null,
            "object_fit": null,
            "object_position": null,
            "order": null,
            "overflow": null,
            "overflow_x": null,
            "overflow_y": null,
            "padding": null,
            "right": null,
            "top": null,
            "visibility": null,
            "width": null
          }
        },
        "f839759dc1bb4ebab3ee0297ca0d0053": {
          "model_module": "@jupyter-widgets/base",
          "model_module_version": "1.2.0",
          "model_name": "LayoutModel",
          "state": {
            "_model_module": "@jupyter-widgets/base",
            "_model_module_version": "1.2.0",
            "_model_name": "LayoutModel",
            "_view_count": null,
            "_view_module": "@jupyter-widgets/base",
            "_view_module_version": "1.2.0",
            "_view_name": "LayoutView",
            "align_content": null,
            "align_items": null,
            "align_self": null,
            "border": null,
            "bottom": null,
            "display": null,
            "flex": null,
            "flex_flow": null,
            "grid_area": null,
            "grid_auto_columns": null,
            "grid_auto_flow": null,
            "grid_auto_rows": null,
            "grid_column": null,
            "grid_gap": null,
            "grid_row": null,
            "grid_template_areas": null,
            "grid_template_columns": null,
            "grid_template_rows": null,
            "height": null,
            "justify_content": null,
            "justify_items": null,
            "left": null,
            "margin": null,
            "max_height": null,
            "max_width": null,
            "min_height": null,
            "min_width": null,
            "object_fit": null,
            "object_position": null,
            "order": null,
            "overflow": null,
            "overflow_x": null,
            "overflow_y": null,
            "padding": null,
            "right": null,
            "top": null,
            "visibility": null,
            "width": null
          }
        },
        "fad5bbd13c30418c90ebf355be7f6763": {
          "model_module": "@jupyter-widgets/base",
          "model_module_version": "1.2.0",
          "model_name": "LayoutModel",
          "state": {
            "_model_module": "@jupyter-widgets/base",
            "_model_module_version": "1.2.0",
            "_model_name": "LayoutModel",
            "_view_count": null,
            "_view_module": "@jupyter-widgets/base",
            "_view_module_version": "1.2.0",
            "_view_name": "LayoutView",
            "align_content": null,
            "align_items": null,
            "align_self": null,
            "border": null,
            "bottom": null,
            "display": null,
            "flex": null,
            "flex_flow": null,
            "grid_area": null,
            "grid_auto_columns": null,
            "grid_auto_flow": null,
            "grid_auto_rows": null,
            "grid_column": null,
            "grid_gap": null,
            "grid_row": null,
            "grid_template_areas": null,
            "grid_template_columns": null,
            "grid_template_rows": null,
            "height": null,
            "justify_content": null,
            "justify_items": null,
            "left": null,
            "margin": null,
            "max_height": null,
            "max_width": null,
            "min_height": null,
            "min_width": null,
            "object_fit": null,
            "object_position": null,
            "order": null,
            "overflow": null,
            "overflow_x": null,
            "overflow_y": null,
            "padding": null,
            "right": null,
            "top": null,
            "visibility": null,
            "width": null
          }
        },
        "fb96478b128d4b0690a0f8e3ebe06a88": {
          "model_module": "@jupyter-widgets/controls",
          "model_module_version": "1.5.0",
          "model_name": "ProgressStyleModel",
          "state": {
            "_model_module": "@jupyter-widgets/controls",
            "_model_module_version": "1.5.0",
            "_model_name": "ProgressStyleModel",
            "_view_count": null,
            "_view_module": "@jupyter-widgets/base",
            "_view_module_version": "1.2.0",
            "_view_name": "StyleView",
            "bar_color": null,
            "description_width": ""
          }
        },
        "fee5afc3172a4970b4b31569777eb03f": {
          "model_module": "@jupyter-widgets/controls",
          "model_module_version": "1.5.0",
          "model_name": "HTMLModel",
          "state": {
            "_dom_classes": [],
            "_model_module": "@jupyter-widgets/controls",
            "_model_module_version": "1.5.0",
            "_model_name": "HTMLModel",
            "_view_count": null,
            "_view_module": "@jupyter-widgets/controls",
            "_view_module_version": "1.5.0",
            "_view_name": "HTMLView",
            "description": "",
            "description_tooltip": null,
            "layout": "IPY_MODEL_5ca09054bafd4fda84ed24fd000282e6",
            "placeholder": "​",
            "style": "IPY_MODEL_cc91911ea3c54f1899bcd668fef73fc2",
            "value": "Batches: 100%"
          }
        },
        "ff38c101dc2d4461a61f783cbbdf7638": {
          "model_module": "@jupyter-widgets/base",
          "model_module_version": "1.2.0",
          "model_name": "LayoutModel",
          "state": {
            "_model_module": "@jupyter-widgets/base",
            "_model_module_version": "1.2.0",
            "_model_name": "LayoutModel",
            "_view_count": null,
            "_view_module": "@jupyter-widgets/base",
            "_view_module_version": "1.2.0",
            "_view_name": "LayoutView",
            "align_content": null,
            "align_items": null,
            "align_self": null,
            "border": null,
            "bottom": null,
            "display": null,
            "flex": null,
            "flex_flow": null,
            "grid_area": null,
            "grid_auto_columns": null,
            "grid_auto_flow": null,
            "grid_auto_rows": null,
            "grid_column": null,
            "grid_gap": null,
            "grid_row": null,
            "grid_template_areas": null,
            "grid_template_columns": null,
            "grid_template_rows": null,
            "height": null,
            "justify_content": null,
            "justify_items": null,
            "left": null,
            "margin": null,
            "max_height": null,
            "max_width": null,
            "min_height": null,
            "min_width": null,
            "object_fit": null,
            "object_position": null,
            "order": null,
            "overflow": null,
            "overflow_x": null,
            "overflow_y": null,
            "padding": null,
            "right": null,
            "top": null,
            "visibility": null,
            "width": null
          }
        },
        "ffccbffe3df74e12a0d58f706c0c0c23": {
          "model_module": "@jupyter-widgets/controls",
          "model_module_version": "1.5.0",
          "model_name": "FloatProgressModel",
          "state": {
            "_dom_classes": [],
            "_model_module": "@jupyter-widgets/controls",
            "_model_module_version": "1.5.0",
            "_model_name": "FloatProgressModel",
            "_view_count": null,
            "_view_module": "@jupyter-widgets/controls",
            "_view_module_version": "1.5.0",
            "_view_name": "ProgressView",
            "bar_style": "success",
            "description": "",
            "description_tooltip": null,
            "layout": "IPY_MODEL_ae91cc6547bd4bca8363dc9794b82604",
            "max": 79,
            "min": 0,
            "orientation": "horizontal",
            "style": "IPY_MODEL_773a245dd8534284a2bb60a60b79e95b",
            "value": 79
          }
        }
      }
    }
  },
  "nbformat": 4,
  "nbformat_minor": 5
}
