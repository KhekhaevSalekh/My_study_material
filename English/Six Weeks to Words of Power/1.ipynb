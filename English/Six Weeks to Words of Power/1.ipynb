{
 "cells": [
  {
   "cell_type": "markdown",
   "metadata": {},
   "source": [
    "### Verbs that deal with human traits."
   ]
  },
  {
   "cell_type": "markdown",
   "metadata": {},
   "source": [
    "#### 1. LANGUISH\n",
    "\n",
    "They grow pale and weak, often because they are hopelessly in love. They languish.\n",
    "\n",
    "It was sad to see him grow pale and won, languishing from love."
   ]
  },
  {
   "cell_type": "markdown",
   "metadata": {},
   "source": [
    "#### 2. COMMISERATE\n",
    "\n",
    "They sympathize with the sorrows and misfortunes of others. They commiserate.\n",
    "\n",
    "He commiserates with his friend in his great sorrow."
   ]
  },
  {
   "cell_type": "markdown",
   "metadata": {},
   "source": [
    "#### 3. ABHOR\n",
    "\n",
    "They hate and loathe crime. They abhor it.\n",
    "\n",
    "The pure in heart abhor evil."
   ]
  },
  {
   "cell_type": "markdown",
   "metadata": {},
   "source": []
  }
 ],
 "metadata": {
  "language_info": {
   "name": "python"
  }
 },
 "nbformat": 4,
 "nbformat_minor": 2
}
