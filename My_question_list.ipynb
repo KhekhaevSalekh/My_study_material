{
 "cells": [
  {
   "cell_type": "markdown",
   "metadata": {},
   "source": [
    "### 1. We can use pipeline and it is easy. \n",
    "\n",
    "from transformers import pipeline \n",
    "\n",
    "unmasker = pipeline('fill-mask', model='bert-base-uncased') \n",
    "\n",
    "unmasker(\"The man worked as a [MASK].\") \n",
    "\n",
    "### How we can use it with our fine-tuned model?"
   ]
  }
 ],
 "metadata": {
  "kernelspec": {
   "display_name": "Python 3",
   "language": "python",
   "name": "python3"
  },
  "language_info": {
   "codemirror_mode": {
    "name": "ipython",
    "version": 3
   },
   "file_extension": ".py",
   "mimetype": "text/x-python",
   "name": "python",
   "nbconvert_exporter": "python",
   "pygments_lexer": "ipython3",
   "version": "3.11.7"
  }
 },
 "nbformat": 4,
 "nbformat_minor": 2
}
