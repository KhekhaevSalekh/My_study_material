{
 "cells": [
  {
   "cell_type": "markdown",
   "metadata": {},
   "source": [
    "### 1. We can use pipeline and it is easy. \n",
    "\n",
    "from transformers import pipeline \n",
    "\n",
    "unmasker = pipeline('fill-mask', model='bert-base-uncased') \n",
    "\n",
    "unmasker(\"The man worked as a [MASK].\") \n",
    "\n",
    "### How we can use it with our fine-tuned model?"
   ]
  }
 ],
 "metadata": {
  "language_info": {
   "name": "python"
  }
 },
 "nbformat": 4,
 "nbformat_minor": 2
}
